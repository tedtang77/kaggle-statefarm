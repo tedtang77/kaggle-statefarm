{
 "cells": [
  {
   "cell_type": "markdown",
   "metadata": {},
   "source": [
    "# State Farm Distracted Driver Detection\n",
    "\n",
    "\n",
    "[State Farm Distracted Driver Detection](https://www.kaggle.com/c/state-farm-distracted-driver-detection#evaluation)"
   ]
  },
  {
   "cell_type": "markdown",
   "metadata": {},
   "source": [
    "## Action Plan\n",
    "### 1. Data Preparation and Preprocessing\n",
    "### 2. Finetune and Train Model\n",
    "### 3. Generate and Validate Predictions \n",
    "### 4. Submit predictions to Kaggle"
   ]
  },
  {
   "cell_type": "code",
   "execution_count": 26,
   "metadata": {},
   "outputs": [
    {
     "data": {
      "text/plain": [
       "'D:\\\\Dropbox\\\\Ted 2017\\\\11A_技術\\\\[TREND] Data Science and ML\\\\[Tutorials] Kaggle\\\\[Competitions] Kaggle Competitions\\\\2016-04_Image Classification_State Farm Distracted Driver Detection\\\\code'"
      ]
     },
     "execution_count": 26,
     "metadata": {},
     "output_type": "execute_result"
    }
   ],
   "source": [
    "%pwd"
   ]
  },
  {
   "cell_type": "code",
   "execution_count": 27,
   "metadata": {},
   "outputs": [
    {
     "name": "stdout",
     "output_type": "stream",
     "text": [
      "D:\\Dropbox\\Ted 2017\\11A_技術\\[TREND] Data Science and ML\\[Tutorials] Kaggle\\[Competitions] Kaggle Competitions\\2016-04_Image Classification_State Farm Distracted Driver Detection\\code\n",
      "D:\\Dropbox\\Ted 2017\\11A_技術\\[TREND] Data Science and ML\\[Tutorials] Kaggle\\[Competitions] Kaggle Competitions\\2016-04_Image Classification_State Farm Distracted Driver Detection\\code/../Input/\n"
     ]
    }
   ],
   "source": [
    "#Create references to important directories we will use over and over\n",
    "import os, sys\n",
    "current_dir = os.getcwd()\n",
    "CODE_HOME_DIR = current_dir\n",
    "DATA_HOME_DIR = CODE_HOME_DIR + '/../Input/'\n",
    "print(CODE_HOME_DIR)\n",
    "print(DATA_HOME_DIR)"
   ]
  },
  {
   "cell_type": "code",
   "execution_count": 28,
   "metadata": {
    "collapsed": true
   },
   "outputs": [],
   "source": [
    "#Allow relative imports to directories above this folder/\n",
    "sys.path.insert(1,os.path.join(sys.path[0], '..'))\n",
    "\n",
    "#import modules\n",
    "import utils\n",
    "from utils import *\n",
    "# from vgg16_ted import vgg16BN\n",
    "%matplotlib inline"
   ]
  },
  {
   "cell_type": "code",
   "execution_count": null,
   "metadata": {
    "collapsed": true
   },
   "outputs": [],
   "source": [
    "from glob import glob\n",
    "import os, sys, json, math\n",
    "import numpy as np\n",
    "from numpy.random import permutation, random\n",
    "from shutil import copyfile"
   ]
  },
  {
   "cell_type": "markdown",
   "metadata": {},
   "source": [
    "# 1. Data Preparation and Preprocessing\n",
    "- **Create Validation and Sample sets**\n",
    "- **Rearrange image files into their respective directories** "
   ]
  },
  {
   "cell_type": "code",
   "execution_count": 18,
   "metadata": {},
   "outputs": [
    {
     "name": "stdout",
     "output_type": "stream",
     "text": [
      "D:\\Dropbox\\Ted 2017\\11A_技術\\[TREND] Data Science and ML\\[Tutorials] Kaggle\\[Competitions] Kaggle Competitions\\2016-04_Image Classification_State Farm Distracted Driver Detection\\Input\n"
     ]
    },
    {
     "name": "stderr",
     "output_type": "stream",
     "text": [
      "子目錄或檔案 valid 已經存在。\n",
      "子目錄或檔案 results 已經存在。\n",
      "子目錄或檔案 models 已經存在。\n",
      "子目錄或檔案 sample/train 已經存在。\n",
      "子目錄或檔案 sample/valid 已經存在。\n",
      "子目錄或檔案 sample/test 已經存在。\n",
      "子目錄或檔案 sample/results 已經存在。\n",
      "子目錄或檔案 sample/models 已經存在。\n",
      "子目錄或檔案 test/unknown 已經存在。\n",
      "子目錄或檔案 sample/test/unknown 已經存在。\n"
     ]
    }
   ],
   "source": [
    "%cd $DATA_HOME_DIR\n",
    "\n",
    "#[Linux environment]\n",
    "\"\"\"\n",
    "%mkdir -p valid\n",
    "%mkdir -p results\n",
    "%mkdir -p models\n",
    "\n",
    "%mkdir -p sample/train\n",
    "%mkdir -p sample/valid\n",
    "%mkdir -p sample/test\n",
    "%mkdir -p sample/results\n",
    "%mkdir -p sample/models\n",
    "\n",
    "%mkdir -p test/unknown\n",
    "%mkdir -p sample/test/unknown\n",
    "\"\"\"\n",
    "\n",
    "#[Windos environment]\n",
    "%mkdir valid\n",
    "%mkdir results\n",
    "%mkdir models\n",
    "\n",
    "%mkdir \"sample/train\"\n",
    "%mkdir \"sample/valid\"\n",
    "%mkdir \"sample/test\"\n",
    "%mkdir \"sample/results\"\n",
    "%mkdir \"sample/models\"\n",
    "\n",
    "%mkdir \"test/unknown\"\n",
    "%mkdir \"sample/test/unknown\""
   ]
  },
  {
   "cell_type": "markdown",
   "metadata": {},
   "source": [
    "### 1.1 Build datasets for /valid/ by copying 1000 files from /train/"
   ]
  },
  {
   "cell_type": "code",
   "execution_count": 71,
   "metadata": {},
   "outputs": [
    {
     "name": "stdout",
     "output_type": "stream",
     "text": [
      "D:\\Dropbox\\Ted 2017\\11A_技術\\[TREND] Data Science and ML\\[Tutorials] Kaggle\\[Competitions] Kaggle Competitions\\2016-04_Image Classification_State Farm Distracted Driver Detection\\Input\\train\n",
      "before: 17943 files\n",
      "  c0- 1992 files\n",
      "  c1- 1814 files\n",
      "  c2- 1854 files\n",
      "  c3- 1877 files\n",
      "  c4- 1861 files\n",
      "  c5- 1850 files\n",
      "  c6- 1860 files\n",
      "  c7- 1602 files\n",
      "  c8- 1529 files\n",
      "  c9- 1704 files\n",
      "after: 17943 files\n",
      "  c0- 1992 files\n",
      "  c1- 1814 files\n",
      "  c2- 1854 files\n",
      "  c3- 1877 files\n",
      "  c4- 1861 files\n",
      "  c5- 1850 files\n",
      "  c6- 1860 files\n",
      "  c7- 1602 files\n",
      "  c8- 1529 files\n",
      "  c9- 1704 files\n",
      "D:\\Dropbox\\Ted 2017\\11A_技術\\[TREND] Data Science and ML\\[Tutorials] Kaggle\\[Competitions] Kaggle Competitions\\2016-04_Image Classification_State Farm Distracted Driver Detection\\Input\\valid\n",
      "after: 4481 files\n",
      "  c0- 497 files\n",
      "  c1- 453 files\n",
      "  c2- 463 files\n",
      "  c3- 469 files\n",
      "  c4- 465 files\n",
      "  c5- 462 files\n",
      "  c6- 465 files\n",
      "  c7- 400 files\n",
      "  c8- 382 files\n",
      "  c9- 425 files\n"
     ]
    }
   ],
   "source": [
    "%cd $DATA_HOME_DIR/train\n",
    "print(\"before: {} files\".format( len(glob('*/*.jpg')) ))\n",
    "\n",
    "g = glob('c?/*.jpg')\n",
    "shuf = np.random.permutation(g)\n",
    "#for i in range(int(len(g) * 0.2)): \n",
    "#    os.rename(shuf[i], DATA_HOME_DIR+'/valid/' + shuf[i])\n",
    "\"\"\"\n",
    "for i in range(0, 10):\n",
    "    folder_name = 'c'+str(i)\n",
    "    if not os.path.exists(DATA_HOME_DIR+'/valid/'+folder_name): \n",
    "        os.mkdir (DATA_HOME_DIR+'/valid/'+folder_name)\n",
    "        \n",
    "    g = glob(folder_name+'/*.jpg')\n",
    "    print(\"  {}- {} files\".format(folder_name, len(g)))\n",
    "    shuf = np.random.permutation(g)\n",
    "    #for i in range(int(len(g) * 0.2)):\n",
    "    #    os.rename(shuf[i], DATA_HOME_DIR+'/valid/'+shuf[i])\n",
    "\"\"\"\n",
    "\n",
    "print(\"after: {} files\".format(len(glob('*/*.jpg'))) )\n",
    "for i in range(0, 10):\n",
    "    folder_name = 'c'+str(i)\n",
    "    g = glob(folder_name+'/*.jpg')\n",
    "    print(\"  {}- {} files\".format(folder_name, len(g)))\n",
    "    \n",
    "%cd $DATA_HOME_DIR/valid\n",
    "print(\"after: {} files\".format(len(glob('*/*.jpg'))) )\n",
    "for i in range(0, 10):\n",
    "    folder_name = 'c'+str(i)\n",
    "    g = glob(folder_name+'/*.jpg')\n",
    "    print(\"  {}- {} files\".format(folder_name, len(g)))"
   ]
  },
  {
   "cell_type": "markdown",
   "metadata": {},
   "source": [
    "#### 1.2a Build datasets for /sample/train/ and /sample/valid/ by copy files from /train/ and /valid/"
   ]
  },
  {
   "cell_type": "code",
   "execution_count": 13,
   "metadata": {
    "collapsed": true
   },
   "outputs": [],
   "source": [
    "from shutil import copyfile"
   ]
  },
  {
   "cell_type": "code",
   "execution_count": 33,
   "metadata": {},
   "outputs": [
    {
     "name": "stdout",
     "output_type": "stream",
     "text": [
      "D:\\Dropbox\\Ted 2017\\11A_技術\\[TREND] Data Science and ML\\[Tutorials] Kaggle\\[Competitions] Kaggle Competitions\\2016-04_Image Classification_State Farm Distracted Driver Detection\\Input\\train\n",
      "D:\\Dropbox\\Ted 2017\\11A_技術\\[TREND] Data Science and ML\\[Tutorials] Kaggle\\[Competitions] Kaggle Competitions\\2016-04_Image Classification_State Farm Distracted Driver Detection\\Input\\sample\\train\n",
      "total 1401 files\n",
      "  c0- 150 files\n",
      "  c1- 147 files\n",
      "  c2- 162 files\n",
      "  c3- 122 files\n",
      "  c4- 140 files\n",
      "  c5- 144 files\n",
      "  c6- 148 files\n",
      "  c7- 124 files\n",
      "  c8- 126 files\n",
      "  c9- 138 files\n"
     ]
    }
   ],
   "source": [
    "%cd $DATA_HOME_DIR/train\n",
    "\n",
    "g = glob('c?/*.jpg')\n",
    "shuf = np.random.permutation(g)\n",
    "#for i in range(1500): \n",
    "#    copyfile(shuf[i], DATA_HOME_DIR+'/sample/train/' + shuf[i])\n",
    "\"\"\"   \n",
    "for i in range(0, 10):\n",
    "    folder_name = 'c'+str(i)\n",
    "    if not os.path.exists(DATA_HOME_DIR+'/sample/train/'+folder_name): \n",
    "        os.mkdir (DATA_HOME_DIR+'/sample/train/'+folder_name)\n",
    "        \n",
    "    g = glob(folder_name+'/*.jpg')\n",
    "    #print(\"  {}- {} files\".format(folder_name, len(g)))\n",
    "    shuf = np.random.permutation(g)\n",
    "    #for i in range(40):\n",
    "    #    copyfile(shuf[i], DATA_HOME_DIR+'/sample/train/'+shuf[i])\n",
    "\"\"\" \n",
    "# Test Case\n",
    "%cd $DATA_HOME_DIR/sample/train\n",
    "print(\"total {} files\".format( len(glob('c?/*.jpg')) ))\n",
    "\n",
    "for i in range(0, 10):\n",
    "    folder_name = 'c'+str(i)\n",
    "    g = glob(folder_name+'/*.jpg')\n",
    "    print(\"  {}- {} files\".format(folder_name, len(g)))"
   ]
  },
  {
   "cell_type": "code",
   "execution_count": 34,
   "metadata": {},
   "outputs": [
    {
     "name": "stdout",
     "output_type": "stream",
     "text": [
      "D:\\Dropbox\\Ted 2017\\11A_技術\\[TREND] Data Science and ML\\[Tutorials] Kaggle\\[Competitions] Kaggle Competitions\\2016-04_Image Classification_State Farm Distracted Driver Detection\\Input\\valid\n",
      "D:\\Dropbox\\Ted 2017\\11A_技術\\[TREND] Data Science and ML\\[Tutorials] Kaggle\\[Competitions] Kaggle Competitions\\2016-04_Image Classification_State Farm Distracted Driver Detection\\Input\\sample\\valid\n",
      "total 493 files\n",
      "  c0- 53 files\n",
      "  c1- 46 files\n",
      "  c2- 52 files\n",
      "  c3- 50 files\n",
      "  c4- 51 files\n",
      "  c5- 56 files\n",
      "  c6- 51 files\n",
      "  c7- 50 files\n",
      "  c8- 42 files\n",
      "  c9- 42 files\n"
     ]
    }
   ],
   "source": [
    "%cd $DATA_HOME_DIR/valid\n",
    "\n",
    "g = glob('c?/*.jpg')\n",
    "shuf = np.random.permutation(g)\n",
    "#for i in range(500): \n",
    "#    copyfile(shuf[i], DATA_HOME_DIR+'/sample/valid/' + shuf[i])\n",
    "\"\"\"\n",
    "for i in range(0, 10):\n",
    "    folder_name = 'c'+str(i)\n",
    "    if not os.path.exists(DATA_HOME_DIR+'/sample/valid/'+folder_name): \n",
    "        os.mkdir (DATA_HOME_DIR+'/sample/valid/'+folder_name)\n",
    "        \n",
    "    g = glob(folder_name+'/*.jpg')\n",
    "    #print(\"  {}- {} files\".format(folder_name, len(g)))\n",
    "    shuf = np.random.permutation(g)\n",
    "    #for i in range(10):\n",
    "    #    copyfile(shuf[i], DATA_HOME_DIR+'/sample/valid/'+shuf[i])\n",
    "\"\"\"\n",
    "# Test Case\n",
    "%cd $DATA_HOME_DIR/sample/valid\n",
    "print(\"total {} files\".format( len(glob('c?/*.jpg')) ))\n",
    "\n",
    "for i in range(0, 10):\n",
    "    folder_name = 'c'+str(i)\n",
    "    g = glob(folder_name+'/*.jpg')\n",
    "    print(\"  {}- {} files\".format(folder_name, len(g)))"
   ]
  },
  {
   "cell_type": "markdown",
   "metadata": {},
   "source": [
    "#### 1.2b Build datasets for /sample/test/unkown/ by copy files from /test/unknown/ (after moving from /test)"
   ]
  },
  {
   "cell_type": "code",
   "execution_count": 69,
   "metadata": {},
   "outputs": [
    {
     "name": "stdout",
     "output_type": "stream",
     "text": [
      "D:\\Dropbox\\Ted 2017\\11A_技術\\[TREND] Data Science and ML\\[Tutorials] Kaggle\\[Competitions] Kaggle Competitions\\2016-04_Image Classification_State Farm Distracted Driver Detection\\Input\\test\n",
      "D:\\Dropbox\\Ted 2017\\11A_技術\\[TREND] Data Science and ML\\[Tutorials] Kaggle\\[Competitions] Kaggle Competitions\\2016-04_Image Classification_State Farm Distracted Driver Detection\\Input\\test\\unknown\n",
      "79726 files\n",
      "D:\\Dropbox\\Ted 2017\\11A_技術\\[TREND] Data Science and ML\\[Tutorials] Kaggle\\[Competitions] Kaggle Competitions\\2016-04_Image Classification_State Farm Distracted Driver Detection\\Input\\sample\\test\\unknown\n",
      "50 files\n"
     ]
    }
   ],
   "source": [
    "%cd $DATA_HOME_DIR/test\n",
    "!mv *.jpg unknown/\n",
    "\n",
    "%cd $DATA_HOME_DIR/test/unknown\n",
    "g = glob('*.jpg')\n",
    "print(\"{} files\".format(len(g)))\n",
    "\n",
    "shuf = np.random.permutation(g)\n",
    "for i in range(50):\n",
    "    copyfile(shuf[i], DATA_HOME_DIR+'/sample/test/unknown/'+shuf[i])\n",
    "\n",
    "# Test Case\n",
    "%cd $DATA_HOME_DIR/sample/test/unknown\n",
    "g = glob('*.jpg')\n",
    "print(\"{} files\".format(len(g)))"
   ]
  }
 ],
 "metadata": {
  "kernelspec": {
   "display_name": "Python 3",
   "language": "python",
   "name": "python3"
  },
  "language_info": {
   "codemirror_mode": {
    "name": "ipython",
    "version": 3
   },
   "file_extension": ".py",
   "mimetype": "text/x-python",
   "name": "python",
   "nbconvert_exporter": "python",
   "pygments_lexer": "ipython3",
   "version": "3.6.2"
  }
 },
 "nbformat": 4,
 "nbformat_minor": 2
}
