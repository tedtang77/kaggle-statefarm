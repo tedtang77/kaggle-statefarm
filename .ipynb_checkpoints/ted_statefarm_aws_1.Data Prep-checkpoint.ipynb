{
 "cells": [
  {
   "cell_type": "markdown",
   "metadata": {},
   "source": [
    "# State Farm Distracted Driver Detection\n",
    "\n",
    "\n",
    "[State Farm Distracted Driver Detection](https://www.kaggle.com/c/state-farm-distracted-driver-detection#evaluation)"
   ]
  },
  {
   "cell_type": "markdown",
   "metadata": {},
   "source": [
    "## Action Plan\n",
    "### 1. Data Preparation and Preprocessing\n",
    "### 2. Finetune and Train Model\n",
    "### 3. Generate and Validate Predictions \n",
    "### 4. Submit predictions to Kaggle"
   ]
  },
  {
   "cell_type": "code",
   "execution_count": 22,
   "metadata": {},
   "outputs": [
    {
     "name": "stdout",
     "output_type": "stream",
     "text": [
      "/home/ubuntu/kaggle/state-farm-driver-detection/code\n"
     ]
    }
   ],
   "source": [
    "%pwd"
   ]
  },
  {
   "cell_type": "code",
   "execution_count": 23,
   "metadata": {},
   "outputs": [
    {
     "name": "stdout",
     "output_type": "stream",
     "text": [
      "/home/ubuntu/kaggle/state-farm-driver-detection/code\n",
      "/home/ubuntu/kaggle/state-farm-driver-detection/code/../input/\n"
     ]
    }
   ],
   "source": [
    "#Create references to important directories we will use over and over\n",
    "import os, sys\n",
    "current_dir = os.getcwd()\n",
    "CODE_HOME_DIR = current_dir\n",
    "DATA_HOME_DIR = CODE_HOME_DIR + '/../input/'\n",
    "print(CODE_HOME_DIR)\n",
    "print(DATA_HOME_DIR)"
   ]
  },
  {
   "cell_type": "code",
   "execution_count": 24,
   "metadata": {},
   "outputs": [],
   "source": [
    "#Allow relative imports to directories above this folder/\n",
    "sys.path.insert(1,os.path.join(sys.path[0], '..'))\n",
    "\n",
    "#import modules\n",
    "import utils\n",
    "from utils import *\n",
    "# from vgg16_ted import vgg16BN\n",
    "%matplotlib inline"
   ]
  },
  {
   "cell_type": "code",
   "execution_count": 4,
   "metadata": {
    "collapsed": true
   },
   "outputs": [],
   "source": [
    "from glob import glob\n",
    "import os, sys, json, math\n",
    "import numpy as np\n",
    "from numpy.random import permutation, random\n",
    "from shutil import copyfile"
   ]
  },
  {
   "cell_type": "markdown",
   "metadata": {},
   "source": [
    "# 1. Data Preparation and Preprocessing\n",
    "- **Create Validation and Sample sets**\n",
    "- **Rearrange image files into their respective directories** "
   ]
  },
  {
   "cell_type": "code",
   "execution_count": 7,
   "metadata": {},
   "outputs": [
    {
     "name": "stdout",
     "output_type": "stream",
     "text": [
      "/home/ubuntu/kaggle/state-farm-driver-detection/input\n"
     ]
    },
    {
     "data": {
      "text/plain": [
       "'\\n%mkdir valid\\n%mkdir results\\n%mkdir models\\n\\n%mkdir \"sample/train\"\\n%mkdir \"sample/valid\"\\n%mkdir \"sample/test\"\\n%mkdir \"sample/results\"\\n%mkdir \"sample/models\"\\n\\n%mkdir \"test/unknown\"\\n%mkdir \"sample/test/unknown\"\\n'"
      ]
     },
     "execution_count": 7,
     "metadata": {},
     "output_type": "execute_result"
    }
   ],
   "source": [
    "%cd $DATA_HOME_DIR\n",
    "\n",
    "#[Linux environment]\n",
    "%mkdir -p valid\n",
    "%mkdir -p results\n",
    "%mkdir -p models\n",
    "\n",
    "%mkdir -p sample/train\n",
    "%mkdir -p sample/valid\n",
    "%mkdir -p sample/test\n",
    "%mkdir -p sample/results\n",
    "%mkdir -p sample/models\n",
    "\n",
    "%mkdir -p test/unknown\n",
    "%mkdir -p sample/test/unknown\n",
    "\n",
    "\n",
    "#[Windos environment]\n",
    "\"\"\"\n",
    "%mkdir valid\n",
    "%mkdir results\n",
    "%mkdir models\n",
    "\n",
    "%mkdir \"sample/train\"\n",
    "%mkdir \"sample/valid\"\n",
    "%mkdir \"sample/test\"\n",
    "%mkdir \"sample/results\"\n",
    "%mkdir \"sample/models\"\n",
    "\n",
    "%mkdir \"test/unknown\"\n",
    "%mkdir \"sample/test/unknown\"\n",
    "\"\"\""
   ]
  },
  {
   "cell_type": "markdown",
   "metadata": {},
   "source": [
    "### 1.1 Build datasets for /valid/ by copying 1000 files from /train/"
   ]
  },
  {
   "cell_type": "code",
   "execution_count": 10,
   "metadata": {},
   "outputs": [
    {
     "name": "stdout",
     "output_type": "stream",
     "text": [
      "/home/ubuntu/kaggle/state-farm-driver-detection/input/train\n",
      "before: 22424 files\n",
      "after: 17940 files\n",
      "  c0- 2034 files\n",
      "  c1- 1811 files\n",
      "  c2- 1853 files\n",
      "  c3- 1855 files\n",
      "  c4- 1879 files\n",
      "  c5- 1836 files\n",
      "  c6- 1850 files\n",
      "  c7- 1587 files\n",
      "  c8- 1541 files\n",
      "  c9- 1694 files\n",
      "/home/ubuntu/kaggle/state-farm-driver-detection/input/valid\n",
      "after: 4484 files\n",
      "  c0- 455 files\n",
      "  c1- 456 files\n",
      "  c2- 464 files\n",
      "  c3- 491 files\n",
      "  c4- 447 files\n",
      "  c5- 476 files\n",
      "  c6- 475 files\n",
      "  c7- 415 files\n",
      "  c8- 370 files\n",
      "  c9- 435 files\n"
     ]
    }
   ],
   "source": [
    "%cd $DATA_HOME_DIR/train\n",
    "print(\"before: {} files\".format( len(glob('*/*.jpg')) ))\n",
    "\n",
    "for d in glob('c?'):\n",
    "    os.mkdir('../valid/'+d)\n",
    "\n",
    "g = glob('c?/*.jpg')\n",
    "shuf = np.random.permutation(g)\n",
    "#for i in range(int(len(g) * 0.2)): \n",
    "#    os.rename(shuf[i], DATA_HOME_DIR+'valid/' + shuf[i])\n",
    "\"\"\"\n",
    "for i in range(0, 10):\n",
    "    folder_name = 'c'+str(i)\n",
    "    if not os.path.exists(DATA_HOME_DIR+'/valid/'+folder_name): \n",
    "        os.mkdir (DATA_HOME_DIR+'/valid/'+folder_name)\n",
    "        \n",
    "    g = glob(folder_name+'/*.jpg')\n",
    "    print(\"  {}- {} files\".format(folder_name, len(g)))\n",
    "    shuf = np.random.permutation(g)\n",
    "    #for i in range(int(len(g) * 0.2)):\n",
    "    #    os.rename(shuf[i], DATA_HOME_DIR+'/valid/'+shuf[i])\n",
    "\"\"\"\n",
    "\n",
    "print(\"after: {} files\".format(len(glob('*/*.jpg'))) )\n",
    "for i in range(0, 10):\n",
    "    folder_name = 'c'+str(i)\n",
    "    g = glob(folder_name+'/*.jpg')\n",
    "    print(\"  {}- {} files\".format(folder_name, len(g)))\n",
    "    \n",
    "%cd $DATA_HOME_DIR/valid\n",
    "print(\"after: {} files\".format(len(glob('*/*.jpg'))) )\n",
    "for i in range(0, 10):\n",
    "    folder_name = 'c'+str(i)\n",
    "    g = glob(folder_name+'/*.jpg')\n",
    "    print(\"  {}- {} files\".format(folder_name, len(g)))"
   ]
  },
  {
   "cell_type": "markdown",
   "metadata": {},
   "source": [
    "### 1.2a Build datasets for /sample/train/ and /sample/valid/ by copy files from /train/ and /valid/"
   ]
  },
  {
   "cell_type": "code",
   "execution_count": 13,
   "metadata": {
    "collapsed": true
   },
   "outputs": [],
   "source": [
    "from shutil import copyfile"
   ]
  },
  {
   "cell_type": "code",
   "execution_count": 13,
   "metadata": {},
   "outputs": [
    {
     "name": "stdout",
     "output_type": "stream",
     "text": [
      "/home/ubuntu/kaggle/state-farm-driver-detection/input/train\n",
      "/home/ubuntu/kaggle/state-farm-driver-detection/input/sample/train\n",
      "total 1500 files\n",
      "  c0- 169 files\n",
      "  c1- 134 files\n",
      "  c2- 147 files\n",
      "  c3- 168 files\n",
      "  c4- 148 files\n",
      "  c5- 166 files\n",
      "  c6- 173 files\n",
      "  c7- 136 files\n",
      "  c8- 113 files\n",
      "  c9- 146 files\n"
     ]
    }
   ],
   "source": [
    "%cd $DATA_HOME_DIR/train\n",
    "\n",
    "#for d in glob('c?'):\n",
    "#    os.mkdir('../sample/train/'+d)\n",
    "\n",
    "g = glob('c?/*.jpg')\n",
    "shuf = np.random.permutation(g)\n",
    "#for i in range(1500): \n",
    "#    copyfile(shuf[i], DATA_HOME_DIR+'/sample/train/' + shuf[i])\n",
    "\"\"\"   \n",
    "for i in range(0, 10):\n",
    "    folder_name = 'c'+str(i)\n",
    "    if not os.path.exists(DATA_HOME_DIR+'/sample/train/'+folder_name): \n",
    "        os.mkdir (DATA_HOME_DIR+'/sample/train/'+folder_name)\n",
    "        \n",
    "    g = glob(folder_name+'/*.jpg')\n",
    "    #print(\"  {}- {} files\".format(folder_name, len(g)))\n",
    "    shuf = np.random.permutation(g)\n",
    "    #for i in range(40):\n",
    "    #    copyfile(shuf[i], DATA_HOME_DIR+'/sample/train/'+shuf[i])\n",
    "\"\"\" \n",
    "# Test Case\n",
    "%cd $DATA_HOME_DIR/sample/train\n",
    "print(\"total {} files\".format( len(glob('c?/*.jpg')) ))\n",
    "\n",
    "for i in range(0, 10):\n",
    "    folder_name = 'c'+str(i)\n",
    "    g = glob(folder_name+'/*.jpg')\n",
    "    print(\"  {}- {} files\".format(folder_name, len(g)))"
   ]
  },
  {
   "cell_type": "code",
   "execution_count": 25,
   "metadata": {},
   "outputs": [
    {
     "name": "stdout",
     "output_type": "stream",
     "text": [
      "/home/ubuntu/kaggle/state-farm-driver-detection/input/valid\n",
      "/home/ubuntu/kaggle/state-farm-driver-detection/input/sample/valid\n",
      "total 944 files\n",
      "  c0- 87 files\n",
      "  c1- 104 files\n",
      "  c2- 94 files\n",
      "  c3- 104 files\n",
      "  c4- 75 files\n",
      "  c5- 111 files\n",
      "  c6- 95 files\n",
      "  c7- 104 files\n",
      "  c8- 77 files\n",
      "  c9- 93 files\n"
     ]
    }
   ],
   "source": [
    "%cd $DATA_HOME_DIR/valid\n",
    "\n",
    "#for d in glob('c?'):\n",
    "#    os.mkdir('../sample/valid/'+d)\n",
    "\n",
    "g = glob('c?/*.jpg')\n",
    "shuf = np.random.permutation(g)\n",
    "#for i in range(500): \n",
    "#    copyfile(shuf[i], DATA_HOME_DIR+'/sample/valid/' + shuf[i])\n",
    "\"\"\"\n",
    "for i in range(0, 10):\n",
    "    folder_name = 'c'+str(i)\n",
    "    if not os.path.exists(DATA_HOME_DIR+'/sample/valid/'+folder_name): \n",
    "        os.mkdir (DATA_HOME_DIR+'/sample/valid/'+folder_name)\n",
    "        \n",
    "    g = glob(folder_name+'/*.jpg')\n",
    "    #print(\"  {}- {} files\".format(folder_name, len(g)))\n",
    "    shuf = np.random.permutation(g)\n",
    "    #for i in range(10):\n",
    "    #    copyfile(shuf[i], DATA_HOME_DIR+'/sample/valid/'+shuf[i])\n",
    "\"\"\"\n",
    "# Test Case\n",
    "%cd $DATA_HOME_DIR/sample/valid\n",
    "print(\"total {} files\".format( len(glob('c?/*.jpg')) ))\n",
    "\n",
    "for i in range(0, 10):\n",
    "    folder_name = 'c'+str(i)\n",
    "    g = glob(folder_name+'/*.jpg')\n",
    "    print(\"  {}- {} files\".format(folder_name, len(g)))"
   ]
  },
  {
   "cell_type": "markdown",
   "metadata": {},
   "source": [
    "### 1.2b Build datasets for /sample/test/unkown/ by copy files from /test/unknown/ (after moving from /test)"
   ]
  },
  {
   "cell_type": "code",
   "execution_count": 15,
   "metadata": {},
   "outputs": [
    {
     "name": "stdout",
     "output_type": "stream",
     "text": [
      "/home/ubuntu/kaggle/state-farm-driver-detection/input/test\n",
      "/home/ubuntu/kaggle/state-farm-driver-detection/input/test/unknown\n",
      "79726 files\n",
      "/home/ubuntu/kaggle/state-farm-driver-detection/input/sample/test/unknown\n",
      "50 files\n"
     ]
    }
   ],
   "source": [
    "%cd $DATA_HOME_DIR/test\n",
    "!mv *.jpg unknown/\n",
    "\n",
    "%cd $DATA_HOME_DIR/test/unknown\n",
    "g = glob('*.jpg')\n",
    "print(\"{} files\".format(len(g)))\n",
    "\n",
    "shuf = np.random.permutation(g)\n",
    "#for i in range(50):\n",
    "#    copyfile(shuf[i], DATA_HOME_DIR+'/sample/test/unknown/'+shuf[i])\n",
    "\n",
    "# Test Case\n",
    "%cd $DATA_HOME_DIR/sample/test/unknown\n",
    "g = glob('*.jpg')\n",
    "print(\"{} files\".format(len(g)))"
   ]
  },
  {
   "cell_type": "code",
   "execution_count": null,
   "metadata": {
    "collapsed": true
   },
   "outputs": [],
   "source": []
  }
 ],
 "metadata": {
  "kernelspec": {
   "display_name": "Python 3",
   "language": "python",
   "name": "python3"
  },
  "language_info": {
   "codemirror_mode": {
    "name": "ipython",
    "version": 3
   },
   "file_extension": ".py",
   "mimetype": "text/x-python",
   "name": "python",
   "nbconvert_exporter": "python",
   "pygments_lexer": "ipython3",
   "version": "3.6.3"
  }
 },
 "nbformat": 4,
 "nbformat_minor": 2
}
