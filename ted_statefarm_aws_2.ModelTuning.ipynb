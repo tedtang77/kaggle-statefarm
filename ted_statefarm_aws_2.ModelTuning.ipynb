{
 "cells": [
  {
   "cell_type": "markdown",
   "metadata": {},
   "source": [
    "# State Farm Distracted Driver Detection\n",
    "\n",
    "\n",
    "[State Farm Distracted Driver Detection](https://www.kaggle.com/c/state-farm-distracted-driver-detection#evaluation)"
   ]
  },
  {
   "cell_type": "markdown",
   "metadata": {},
   "source": [
    "## Action Plan\n",
    "### 1. Data Preparation and Preprocessing\n",
    "### 2. Finetune and Train Model\n",
    "### 2b. Data Augmentation parameter tuning\n",
    "### 3. Generate and Validate Predictions \n",
    "### 4. Submit predictions to Kaggle"
   ]
  },
  {
   "cell_type": "markdown",
   "metadata": {},
   "source": [
    "# 2. Finetune and Train Model"
   ]
  },
  {
   "cell_type": "markdown",
   "metadata": {},
   "source": [
    "## Setup "
   ]
  },
  {
   "cell_type": "code",
   "execution_count": 1,
   "metadata": {},
   "outputs": [
    {
     "name": "stdout",
     "output_type": "stream",
     "text": [
      "/home/ubuntu/kaggle/state-farm-driver-detection/code\n"
     ]
    },
    {
     "data": {
      "text/plain": [
       "'/home/ubuntu/kaggle/state-farm-driver-detection/code'"
      ]
     },
     "execution_count": 1,
     "metadata": {},
     "output_type": "execute_result"
    }
   ],
   "source": [
    "%cd \"~/kaggle/state-farm-driver-detection/code\"\n",
    "%pwd"
   ]
  },
  {
   "cell_type": "code",
   "execution_count": 2,
   "metadata": {},
   "outputs": [
    {
     "name": "stdout",
     "output_type": "stream",
     "text": [
      "/home/ubuntu/kaggle/state-farm-driver-detection/code\n",
      "/home/ubuntu/kaggle/state-farm-driver-detection/code/../input/\n"
     ]
    }
   ],
   "source": [
    "#Create references to important directories we will use over and over\n",
    "import os, sys\n",
    "current_dir = os.getcwd()\n",
    "CODE_HOME_DIR = current_dir\n",
    "DATA_HOME_DIR = CODE_HOME_DIR + '/../input/'\n",
    "print(CODE_HOME_DIR)\n",
    "print(DATA_HOME_DIR)"
   ]
  },
  {
   "cell_type": "code",
   "execution_count": 3,
   "metadata": {},
   "outputs": [
    {
     "name": "stderr",
     "output_type": "stream",
     "text": [
      "Using TensorFlow backend.\n",
      "/home/ubuntu/anaconda3/lib/python3.6/importlib/_bootstrap.py:219: RuntimeWarning: compiletime version 3.5 of module 'tensorflow.python.framework.fast_tensor_util' does not match runtime version 3.6\n",
      "  return f(*args, **kwds)\n"
     ]
    }
   ],
   "source": [
    "#import modules\n",
    "#from importlib import reload\n",
    "\n",
    "import utils\n",
    "from utils import *\n",
    "\n",
    "import vgg16bn_ted\n",
    "from vgg16bn_ted import Vgg16BN; \n",
    "\n",
    "%matplotlib inline"
   ]
  },
  {
   "cell_type": "markdown",
   "metadata": {},
   "source": [
    "#### Setup Paths"
   ]
  },
  {
   "cell_type": "code",
   "execution_count": 4,
   "metadata": {},
   "outputs": [
    {
     "name": "stdout",
     "output_type": "stream",
     "text": [
      "/home/ubuntu/kaggle/state-farm-driver-detection/input\n"
     ]
    }
   ],
   "source": [
    "%cd $DATA_HOME_DIR\n",
    "\n",
    "#Set path to sample/ path if desired\n",
    "path = DATA_HOME_DIR + '/' # + '/sample/' \n",
    "results_path = path + 'results/'\n",
    "train_path = path + 'train/'\n",
    "valid_path = path + 'valid/'\n",
    "test_path = path + 'test/'\n",
    "model_path = path + 'models/'\n",
    "if not os.path.exists(model_path): os.makedirs(model_path)\n",
    "    \n",
    "batch_size = 64"
   ]
  },
  {
   "cell_type": "markdown",
   "metadata": {},
   "source": [
    "#### Setup and save Data Classes, Labels, and Filenames"
   ]
  },
  {
   "cell_type": "code",
   "execution_count": 5,
   "metadata": {},
   "outputs": [
    {
     "name": "stdout",
     "output_type": "stream",
     "text": [
      "Found 17940 images belonging to 10 classes.\n",
      "Found 4484 images belonging to 10 classes.\n",
      "Found 79726 images belonging to 1 classes.\n"
     ]
    }
   ],
   "source": [
    "(trn_classes, val_classes, trn_labels, val_labels, trn_filenames, val_filenames, test_filenames) = get_classes(path)"
   ]
  },
  {
   "cell_type": "raw",
   "metadata": {
    "collapsed": true
   },
   "source": [
    "save_array(results_path+'train_classes.bc', trn_classes)\n",
    "save_array(results_path+'valid_classes.bc', val_classes)"
   ]
  },
  {
   "cell_type": "raw",
   "metadata": {
    "collapsed": true
   },
   "source": [
    "trn_classes = np.array(load_array(results_path+'train_classes.bc'))\n",
    "val_classes = np.array(load_array(results_path+'valid_classes.bc'))\n",
    "trn_labels = onehot(trn_classes)\n",
    "val_labels = onehot(val_classes)"
   ]
  },
  {
   "cell_type": "raw",
   "metadata": {
    "collapsed": true
   },
   "source": [
    "save_array(results_path+'train_filenames.bc', trn_filenames)\n",
    "save_array(results_path+'valid_filenames.bc', val_filenames)\n",
    "save_array(results_path+'test_filenames.bc', test_filenames)"
   ]
  },
  {
   "cell_type": "raw",
   "metadata": {
    "collapsed": true
   },
   "source": [
    "trn_filenames = load_array(results_path+'train_filenames.bc')\n",
    "val_filenames = load_array(results_path+'valid_filenames.bc')\n",
    "test_filenames = load_array(results_path+'test_filenames.bc')"
   ]
  },
  {
   "cell_type": "raw",
   "metadata": {},
   "source": [
    "trn_data = get_data(train_path)\n",
    "val_data = get_data(valid_path)"
   ]
  },
  {
   "cell_type": "raw",
   "metadata": {
    "collapsed": true,
    "hidden": true
   },
   "source": [
    "save_array(results_path+'trn_data.bc', trn_data)\n",
    "save_array(results_path+'val_data.bc', val_data)"
   ]
  },
  {
   "cell_type": "code",
   "execution_count": 6,
   "metadata": {
    "collapsed": true,
    "hidden": true
   },
   "outputs": [],
   "source": [
    "trn_data = load_array(results_path+'trn_data.bc')\n",
    "val_data = load_array(results_path+'val_data.bc')"
   ]
  },
  {
   "cell_type": "markdown",
   "metadata": {},
   "source": [
    "<font color='red'><b>[Warning] Get test_date will cause Memory Error because too big data </b></font>"
   ]
  },
  {
   "cell_type": "raw",
   "metadata": {},
   "source": [
    "# test_data = get_test_data(test_path, batch_size=batch_size)\n",
    "# test_data = get_data(test_path)"
   ]
  },
  {
   "cell_type": "markdown",
   "metadata": {},
   "source": [
    "## Method 1: First training by full Vgg model"
   ]
  },
  {
   "cell_type": "code",
   "execution_count": 5,
   "metadata": {
    "collapsed": true
   },
   "outputs": [],
   "source": [
    "vgg = Vgg16BN(size=(256, 256))\n",
    "#vgg = Vgg16BN()"
   ]
  },
  {
   "cell_type": "code",
   "execution_count": 6,
   "metadata": {
    "collapsed": true
   },
   "outputs": [],
   "source": [
    "batch_size=64"
   ]
  },
  {
   "cell_type": "code",
   "execution_count": 7,
   "metadata": {
    "scrolled": true
   },
   "outputs": [
    {
     "name": "stdout",
     "output_type": "stream",
     "text": [
      "Found 17940 images belonging to 10 classes.\n",
      "Found 4484 images belonging to 10 classes.\n"
     ]
    }
   ],
   "source": [
    "#Finetune the model\n",
    "batches = vgg.get_batches(train_path, batch_size=batch_size)\n",
    "val_batches = vgg.get_batches(valid_path, shuffle=False, batch_size=batch_size)\n",
    "vgg.finetune(batches)"
   ]
  },
  {
   "cell_type": "markdown",
   "metadata": {},
   "source": [
    "#### Model Tuning"
   ]
  },
  {
   "cell_type": "code",
   "execution_count": 9,
   "metadata": {},
   "outputs": [
    {
     "name": "stdout",
     "output_type": "stream",
     "text": [
      "Epoch 1/2\n",
      " - 346s - loss: 1.1656 - acc: 0.6431 - val_loss: 0.1348 - val_acc: 0.9674\n",
      "Epoch 2/2\n",
      " - 337s - loss: 0.4400 - acc: 0.8605 - val_loss: 0.0854 - val_acc: 0.9784\n"
     ]
    }
   ],
   "source": [
    "vgg.fit(batches, val_batches, epochs=2)"
   ]
  },
  {
   "cell_type": "code",
   "execution_count": 10,
   "metadata": {
    "collapsed": true
   },
   "outputs": [],
   "source": [
    "model.optimizer.lr = 0.01"
   ]
  },
  {
   "cell_type": "code",
   "execution_count": 11,
   "metadata": {},
   "outputs": [
    {
     "name": "stdout",
     "output_type": "stream",
     "text": [
      "Epoch 1/5\n",
      " - 336s - loss: 0.3565 - acc: 0.8824 - val_loss: 0.0634 - val_acc: 0.9837\n",
      "Epoch 2/5\n",
      " - 337s - loss: 0.3394 - acc: 0.8917 - val_loss: 0.0738 - val_acc: 0.9804\n",
      "Epoch 3/5\n",
      " - 337s - loss: 0.3223 - acc: 0.8993 - val_loss: 0.0566 - val_acc: 0.9855\n",
      "Epoch 4/5\n",
      " - 337s - loss: 0.3240 - acc: 0.8959 - val_loss: 0.0637 - val_acc: 0.9819\n",
      "Epoch 5/5\n",
      " - 337s - loss: 0.3366 - acc: 0.8988 - val_loss: 0.0529 - val_acc: 0.9868\n"
     ]
    }
   ],
   "source": [
    "vgg.fit(batches, val_batches, epochs=5)"
   ]
  },
  {
   "cell_type": "code",
   "execution_count": 9,
   "metadata": {
    "collapsed": true
   },
   "outputs": [],
   "source": [
    "model.optimizer.lr = 0.001"
   ]
  },
  {
   "cell_type": "code",
   "execution_count": 10,
   "metadata": {},
   "outputs": [
    {
     "name": "stdout",
     "output_type": "stream",
     "text": [
      "Epoch 1/5\n",
      " - 337s - loss: 0.3501 - acc: 0.8957 - val_loss: 0.0541 - val_acc: 0.9853\n",
      "Epoch 2/5\n",
      " - 328s - loss: 0.3587 - acc: 0.8964 - val_loss: 0.0535 - val_acc: 0.9857\n",
      "Epoch 3/5\n",
      " - 328s - loss: 0.3578 - acc: 0.9004 - val_loss: 0.0491 - val_acc: 0.9866\n",
      "Epoch 4/5\n",
      " - 328s - loss: 0.3615 - acc: 0.8988 - val_loss: 0.0533 - val_acc: 0.9873\n",
      "Epoch 5/5\n",
      " - 328s - loss: 0.3657 - acc: 0.9002 - val_loss: 0.0581 - val_acc: 0.9851\n"
     ]
    }
   ],
   "source": [
    "vgg.fit(batches, val_batches, epochs=10)"
   ]
  },
  {
   "cell_type": "code",
   "execution_count": 11,
   "metadata": {
    "collapsed": true
   },
   "outputs": [],
   "source": [
    "model.save_weights(model_path+'vgg16bn-first1.h5')"
   ]
  },
  {
   "cell_type": "code",
   "execution_count": 8,
   "metadata": {
    "collapsed": true
   },
   "outputs": [],
   "source": [
    "model.load_weights(model_path+'vgg16bn-first1.h5')"
   ]
  },
  {
   "cell_type": "markdown",
   "metadata": {},
   "source": [
    "## Method 2: Pretrain Convolution Layers to speed up and focus tuning FC Layers \n",
    "\n",
    "<font color='red'><b>Notices</b></font>: \n",
    "<br>\n",
    "- <font color='red'><b>here because we use this BatchNormalization dense layers based on pretrained convolution layers, we can not use Data Augmentation, because with Data Augmentation the output of pretrained convolution layers will be different every time. </b>\n",
    "</font>"
   ]
  },
  {
   "cell_type": "markdown",
   "metadata": {},
   "source": [
    "#### Setup Models"
   ]
  },
  {
   "cell_type": "code",
   "execution_count": 84,
   "metadata": {},
   "outputs": [
    {
     "name": "stdout",
     "output_type": "stream",
     "text": [
      "Found 17940 images belonging to 10 classes.\n"
     ]
    }
   ],
   "source": [
    "vgg = Vgg16BN(size=(256, 256))\n",
    "#Finetune the model\n",
    "vgg.finetune(vgg.get_batches(train_path, shuffle=False, batch_size=batch_size))\n",
    "model = vgg.model"
   ]
  },
  {
   "cell_type": "code",
   "execution_count": 85,
   "metadata": {
    "collapsed": true
   },
   "outputs": [],
   "source": [
    "batch_size=64"
   ]
  },
  {
   "cell_type": "code",
   "execution_count": 86,
   "metadata": {
    "collapsed": true
   },
   "outputs": [],
   "source": [
    "conv_model, fc_model = get_split_models(model)"
   ]
  },
  {
   "cell_type": "markdown",
   "metadata": {},
   "source": [
    "### 2.1 Let's pretrain the conv_model first (or load conv_model train features)\n",
    "\n",
    "\n",
    "**<br><font color='red'>Notices</font>**: \n",
    "  - ** <font color='red'>batches shuffle must be set to False when pre-computing features </font>**\n"
   ]
  },
  {
   "cell_type": "markdown",
   "metadata": {},
   "source": [
    "#### Train and save Pretrained conv_model Feature Maps"
   ]
  },
  {
   "cell_type": "code",
   "execution_count": 87,
   "metadata": {},
   "outputs": [
    {
     "name": "stdout",
     "output_type": "stream",
     "text": [
      "Found 17940 images belonging to 10 classes.\n",
      "Found 4484 images belonging to 10 classes.\n",
      "Found 79726 images belonging to 1 classes.\n"
     ]
    }
   ],
   "source": [
    "batches = get_batches(train_path, batch_size=batch_size, shuffle=False)\n",
    "val_batches = get_batches(valid_path, batch_size=batch_size*2, shuffle=False)\n",
    "test_batches = get_batches(test_path, batch_size=batch_size, shuffle=False)"
   ]
  },
  {
   "cell_type": "raw",
   "metadata": {
    "collapsed": true
   },
   "source": [
    "conv_trn_features = conv_model.predict_generator(batches, steps=ceil(batches.n/batches.batch_size))\n",
    "conv_val_features = conv_model.predict_generator(val_batches, steps=ceil(val_batches.n/val_batches.batch_size))\n",
    "con_test_features = conv_model.predict_generator(test_batches, steps=ceil(test_batches.n/test_batches.batch_size))"
   ]
  },
  {
   "cell_type": "raw",
   "metadata": {
    "collapsed": true
   },
   "source": [
    "save_array(results_path+'train_convlayer_features.dat', conv_trn_features)\n",
    "save_array(results_path+'valid_convlayer_features2.dat', conv_val_features)\n",
    "save_array(results_path+'test_convlayer_features.dat', conv_test_features)"
   ]
  },
  {
   "cell_type": "code",
   "execution_count": 88,
   "metadata": {
    "collapsed": true
   },
   "outputs": [],
   "source": [
    "conv_trn_features = load_array(results_path+'train_convlayer_features.dat')\n",
    "conv_val_features = load_array(results_path+'valid_convlayer_features2.dat')\n",
    "conv_test_features = load_array(results_path+'test_convlayer_features.dat')"
   ]
  },
  {
   "cell_type": "code",
   "execution_count": 89,
   "metadata": {
    "scrolled": true
   },
   "outputs": [
    {
     "name": "stdout",
     "output_type": "stream",
     "text": [
      "(17940, 512, 8, 8)\n",
      "(4484, 512, 8, 8)\n",
      "(79726, 512, 8, 8)\n"
     ]
    }
   ],
   "source": [
    "print(conv_trn_features.shape)\n",
    "print(conv_val_features.shape)\n",
    "print(conv_test_features.shape)"
   ]
  },
  {
   "cell_type": "markdown",
   "metadata": {},
   "source": [
    "### 2.2 Start training FC model"
   ]
  },
  {
   "cell_type": "markdown",
   "metadata": {},
   "source": [
    "#### Model Tuning"
   ]
  },
  {
   "cell_type": "code",
   "execution_count": 51,
   "metadata": {},
   "outputs": [
    {
     "name": "stdout",
     "output_type": "stream",
     "text": [
      "Train on 17940 samples, validate on 4484 samples\n",
      "Epoch 1/2\n",
      " - 62s - loss: 0.4260 - acc: 0.9017 - val_loss: 0.1135 - val_acc: 0.9737\n",
      "Epoch 2/2\n",
      " - 60s - loss: 0.0785 - acc: 0.9815 - val_loss: 0.0498 - val_acc: 0.9891\n"
     ]
    },
    {
     "data": {
      "text/plain": [
       "<keras.callbacks.History at 0x7f1a76ddc5c0>"
      ]
     },
     "execution_count": 51,
     "metadata": {},
     "output_type": "execute_result"
    }
   ],
   "source": [
    "fc_model.fit(conv_trn_features, trn_labels, batch_size=batch_size, epochs=2, \n",
    "             validation_data= (conv_val_features, val_labels), verbose=2)"
   ]
  },
  {
   "cell_type": "code",
   "execution_count": 52,
   "metadata": {
    "collapsed": true
   },
   "outputs": [],
   "source": [
    "fc_model.lr = 0.1"
   ]
  },
  {
   "cell_type": "code",
   "execution_count": 53,
   "metadata": {},
   "outputs": [
    {
     "name": "stdout",
     "output_type": "stream",
     "text": [
      "Train on 17940 samples, validate on 4484 samples\n",
      "Epoch 1/3\n",
      " - 60s - loss: 0.0904 - acc: 0.9799 - val_loss: 0.0968 - val_acc: 0.9822\n",
      "Epoch 2/3\n",
      " - 60s - loss: 0.0822 - acc: 0.9857 - val_loss: 0.1391 - val_acc: 0.9853\n",
      "Epoch 3/3\n",
      " - 60s - loss: 0.0499 - acc: 0.9896 - val_loss: 0.0584 - val_acc: 0.9900\n"
     ]
    },
    {
     "data": {
      "text/plain": [
       "<keras.callbacks.History at 0x7f1a76a561d0>"
      ]
     },
     "execution_count": 53,
     "metadata": {},
     "output_type": "execute_result"
    }
   ],
   "source": [
    "fc_model.fit(conv_trn_features, trn_labels, batch_size=batch_size, epochs=3, \n",
    "             validation_data= (conv_val_features, val_labels), verbose=2)"
   ]
  },
  {
   "cell_type": "code",
   "execution_count": 34,
   "metadata": {
    "collapsed": true
   },
   "outputs": [],
   "source": [
    "fc_model.lr = 0.01"
   ]
  },
  {
   "cell_type": "code",
   "execution_count": 35,
   "metadata": {},
   "outputs": [
    {
     "name": "stdout",
     "output_type": "stream",
     "text": [
      "Train on 17940 samples, validate on 4484 samples\n",
      "Epoch 1/10\n",
      " - 60s - loss: 0.0487 - acc: 0.9910 - val_loss: 0.0494 - val_acc: 0.9924\n",
      "Epoch 2/10\n",
      " - 60s - loss: 0.0414 - acc: 0.9929 - val_loss: 0.0348 - val_acc: 0.9955\n",
      "Epoch 3/10\n",
      " - 60s - loss: 0.0483 - acc: 0.9918 - val_loss: 0.0598 - val_acc: 0.9915\n",
      "Epoch 4/10\n",
      " - 60s - loss: 0.0486 - acc: 0.9924 - val_loss: 0.0969 - val_acc: 0.9875\n",
      "Epoch 5/10\n",
      " - 60s - loss: 0.0520 - acc: 0.9914 - val_loss: 0.0579 - val_acc: 0.9909\n",
      "Epoch 6/10\n",
      " - 60s - loss: 0.0630 - acc: 0.9907 - val_loss: 0.0669 - val_acc: 0.9931\n",
      "Epoch 7/10\n",
      " - 60s - loss: 0.0730 - acc: 0.9898 - val_loss: 0.0741 - val_acc: 0.9920\n",
      "Epoch 8/10\n",
      " - 60s - loss: 0.0551 - acc: 0.9923 - val_loss: 0.0790 - val_acc: 0.9902\n",
      "Epoch 9/10\n",
      " - 60s - loss: 0.0367 - acc: 0.9952 - val_loss: 0.0662 - val_acc: 0.9933\n",
      "Epoch 10/10\n",
      " - 60s - loss: 0.0248 - acc: 0.9960 - val_loss: 0.0217 - val_acc: 0.9978\n"
     ]
    },
    {
     "data": {
      "text/plain": [
       "<keras.callbacks.History at 0x7f1aa2c4fac8>"
      ]
     },
     "execution_count": 35,
     "metadata": {},
     "output_type": "execute_result"
    }
   ],
   "source": [
    "fc_model.fit(conv_trn_features, trn_labels, batch_size=batch_size, epochs=2, \n",
    "             validation_data= (conv_val_features, val_labels), verbose=2)"
   ]
  },
  {
   "cell_type": "code",
   "execution_count": 36,
   "metadata": {
    "collapsed": true
   },
   "outputs": [],
   "source": [
    "fc_model.lr = 0.001"
   ]
  },
  {
   "cell_type": "code",
   "execution_count": 37,
   "metadata": {},
   "outputs": [
    {
     "name": "stdout",
     "output_type": "stream",
     "text": [
      "Train on 17940 samples, validate on 4484 samples\n",
      "Epoch 1/10\n",
      " - 60s - loss: 0.0278 - acc: 0.9958 - val_loss: 0.0586 - val_acc: 0.9938\n",
      "Epoch 2/10\n",
      " - 60s - loss: 0.0408 - acc: 0.9947 - val_loss: 0.0366 - val_acc: 0.9960\n",
      "Epoch 3/10\n",
      " - 60s - loss: 0.0513 - acc: 0.9939 - val_loss: 0.0610 - val_acc: 0.9940\n",
      "Epoch 4/10\n",
      " - 60s - loss: 0.0599 - acc: 0.9924 - val_loss: 0.0469 - val_acc: 0.9962\n",
      "Epoch 5/10\n",
      " - 60s - loss: 0.0461 - acc: 0.9943 - val_loss: 0.0462 - val_acc: 0.9958\n",
      "Epoch 6/10\n",
      " - 60s - loss: 0.0308 - acc: 0.9961 - val_loss: 0.0365 - val_acc: 0.9973\n",
      "Epoch 7/10\n",
      " - 60s - loss: 0.0613 - acc: 0.9935 - val_loss: 0.0492 - val_acc: 0.9949\n",
      "Epoch 8/10\n",
      " - 60s - loss: 0.0447 - acc: 0.9944 - val_loss: 0.0550 - val_acc: 0.9949\n",
      "Epoch 9/10\n",
      " - 60s - loss: 0.0355 - acc: 0.9955 - val_loss: 0.0664 - val_acc: 0.9940\n",
      "Epoch 10/10\n",
      " - 60s - loss: 0.0349 - acc: 0.9957 - val_loss: 0.0496 - val_acc: 0.9953\n"
     ]
    },
    {
     "data": {
      "text/plain": [
       "<keras.callbacks.History at 0x7f1aa2c17fd0>"
      ]
     },
     "execution_count": 37,
     "metadata": {},
     "output_type": "execute_result"
    }
   ],
   "source": [
    "fc_model.fit(conv_trn_features, trn_labels, batch_size=batch_size, epochs=10, \n",
    "             validation_data= (conv_val_features, val_labels), verbose=2)"
   ]
  },
  {
   "cell_type": "code",
   "execution_count": 38,
   "metadata": {
    "collapsed": true
   },
   "outputs": [],
   "source": [
    "model_name = 'Vgg16BN-ted'\n",
    "sub_model_name = 'fc-model'\n",
    "fc_model.save_weights(model_path + model_name + '_' + sub_model_name + '1.h5')"
   ]
  },
  {
   "cell_type": "code",
   "execution_count": 90,
   "metadata": {},
   "outputs": [
    {
     "ename": "OSError",
     "evalue": "Unable to open file (Unable to open file: name = '/home/ubuntu/kaggle/state-farm-driver-detection/code/../input//models/vgg16bn-ted_fc-model1.h5', errno = 2, error message = 'no such file or directory', flags = 0, o_flags = 0)",
     "output_type": "error",
     "traceback": [
      "\u001b[0;31m---------------------------------------------------------------------------\u001b[0m",
      "\u001b[0;31mOSError\u001b[0m                                   Traceback (most recent call last)",
      "\u001b[0;32m<ipython-input-90-08db04373359>\u001b[0m in \u001b[0;36m<module>\u001b[0;34m()\u001b[0m\n\u001b[1;32m      1\u001b[0m \u001b[0mmodel_name\u001b[0m \u001b[0;34m=\u001b[0m \u001b[0;34m'Vgg16BN-ted'\u001b[0m\u001b[0;34m\u001b[0m\u001b[0m\n\u001b[1;32m      2\u001b[0m \u001b[0msub_model_name\u001b[0m \u001b[0;34m=\u001b[0m \u001b[0;34m'fc-model'\u001b[0m\u001b[0;34m\u001b[0m\u001b[0m\n\u001b[0;32m----> 3\u001b[0;31m \u001b[0mfc_model\u001b[0m\u001b[0;34m.\u001b[0m\u001b[0mload_weights\u001b[0m\u001b[0;34m(\u001b[0m\u001b[0mmodel_path\u001b[0m \u001b[0;34m+\u001b[0m \u001b[0mmodel_name\u001b[0m \u001b[0;34m+\u001b[0m \u001b[0;34m'_'\u001b[0m \u001b[0;34m+\u001b[0m \u001b[0msub_model_name\u001b[0m \u001b[0;34m+\u001b[0m \u001b[0;34m'1.h5'\u001b[0m\u001b[0;34m)\u001b[0m\u001b[0;34m\u001b[0m\u001b[0m\n\u001b[0m",
      "\u001b[0;32m~/anaconda3/lib/python3.6/site-packages/keras/models.py\u001b[0m in \u001b[0;36mload_weights\u001b[0;34m(self, filepath, by_name)\u001b[0m\n\u001b[1;32m    705\u001b[0m         \u001b[0;32mif\u001b[0m \u001b[0mh5py\u001b[0m \u001b[0;32mis\u001b[0m \u001b[0;32mNone\u001b[0m\u001b[0;34m:\u001b[0m\u001b[0;34m\u001b[0m\u001b[0m\n\u001b[1;32m    706\u001b[0m             \u001b[0;32mraise\u001b[0m \u001b[0mImportError\u001b[0m\u001b[0;34m(\u001b[0m\u001b[0;34m'`load_weights` requires h5py.'\u001b[0m\u001b[0;34m)\u001b[0m\u001b[0;34m\u001b[0m\u001b[0m\n\u001b[0;32m--> 707\u001b[0;31m         \u001b[0mf\u001b[0m \u001b[0;34m=\u001b[0m \u001b[0mh5py\u001b[0m\u001b[0;34m.\u001b[0m\u001b[0mFile\u001b[0m\u001b[0;34m(\u001b[0m\u001b[0mfilepath\u001b[0m\u001b[0;34m,\u001b[0m \u001b[0mmode\u001b[0m\u001b[0;34m=\u001b[0m\u001b[0;34m'r'\u001b[0m\u001b[0;34m)\u001b[0m\u001b[0;34m\u001b[0m\u001b[0m\n\u001b[0m\u001b[1;32m    708\u001b[0m         \u001b[0;32mif\u001b[0m \u001b[0;34m'layer_names'\u001b[0m \u001b[0;32mnot\u001b[0m \u001b[0;32min\u001b[0m \u001b[0mf\u001b[0m\u001b[0;34m.\u001b[0m\u001b[0mattrs\u001b[0m \u001b[0;32mand\u001b[0m \u001b[0;34m'model_weights'\u001b[0m \u001b[0;32min\u001b[0m \u001b[0mf\u001b[0m\u001b[0;34m:\u001b[0m\u001b[0;34m\u001b[0m\u001b[0m\n\u001b[1;32m    709\u001b[0m             \u001b[0mf\u001b[0m \u001b[0;34m=\u001b[0m \u001b[0mf\u001b[0m\u001b[0;34m[\u001b[0m\u001b[0;34m'model_weights'\u001b[0m\u001b[0;34m]\u001b[0m\u001b[0;34m\u001b[0m\u001b[0m\n",
      "\u001b[0;32m~/anaconda3/lib/python3.6/site-packages/h5py/_hl/files.py\u001b[0m in \u001b[0;36m__init__\u001b[0;34m(self, name, mode, driver, libver, userblock_size, swmr, **kwds)\u001b[0m\n\u001b[1;32m    269\u001b[0m \u001b[0;34m\u001b[0m\u001b[0m\n\u001b[1;32m    270\u001b[0m                 \u001b[0mfapl\u001b[0m \u001b[0;34m=\u001b[0m \u001b[0mmake_fapl\u001b[0m\u001b[0;34m(\u001b[0m\u001b[0mdriver\u001b[0m\u001b[0;34m,\u001b[0m \u001b[0mlibver\u001b[0m\u001b[0;34m,\u001b[0m \u001b[0;34m**\u001b[0m\u001b[0mkwds\u001b[0m\u001b[0;34m)\u001b[0m\u001b[0;34m\u001b[0m\u001b[0m\n\u001b[0;32m--> 271\u001b[0;31m                 \u001b[0mfid\u001b[0m \u001b[0;34m=\u001b[0m \u001b[0mmake_fid\u001b[0m\u001b[0;34m(\u001b[0m\u001b[0mname\u001b[0m\u001b[0;34m,\u001b[0m \u001b[0mmode\u001b[0m\u001b[0;34m,\u001b[0m \u001b[0muserblock_size\u001b[0m\u001b[0;34m,\u001b[0m \u001b[0mfapl\u001b[0m\u001b[0;34m,\u001b[0m \u001b[0mswmr\u001b[0m\u001b[0;34m=\u001b[0m\u001b[0mswmr\u001b[0m\u001b[0;34m)\u001b[0m\u001b[0;34m\u001b[0m\u001b[0m\n\u001b[0m\u001b[1;32m    272\u001b[0m \u001b[0;34m\u001b[0m\u001b[0m\n\u001b[1;32m    273\u001b[0m                 \u001b[0;32mif\u001b[0m \u001b[0mswmr_support\u001b[0m\u001b[0;34m:\u001b[0m\u001b[0;34m\u001b[0m\u001b[0m\n",
      "\u001b[0;32m~/anaconda3/lib/python3.6/site-packages/h5py/_hl/files.py\u001b[0m in \u001b[0;36mmake_fid\u001b[0;34m(name, mode, userblock_size, fapl, fcpl, swmr)\u001b[0m\n\u001b[1;32m     99\u001b[0m         \u001b[0;32mif\u001b[0m \u001b[0mswmr\u001b[0m \u001b[0;32mand\u001b[0m \u001b[0mswmr_support\u001b[0m\u001b[0;34m:\u001b[0m\u001b[0;34m\u001b[0m\u001b[0m\n\u001b[1;32m    100\u001b[0m             \u001b[0mflags\u001b[0m \u001b[0;34m|=\u001b[0m \u001b[0mh5f\u001b[0m\u001b[0;34m.\u001b[0m\u001b[0mACC_SWMR_READ\u001b[0m\u001b[0;34m\u001b[0m\u001b[0m\n\u001b[0;32m--> 101\u001b[0;31m         \u001b[0mfid\u001b[0m \u001b[0;34m=\u001b[0m \u001b[0mh5f\u001b[0m\u001b[0;34m.\u001b[0m\u001b[0mopen\u001b[0m\u001b[0;34m(\u001b[0m\u001b[0mname\u001b[0m\u001b[0;34m,\u001b[0m \u001b[0mflags\u001b[0m\u001b[0;34m,\u001b[0m \u001b[0mfapl\u001b[0m\u001b[0;34m=\u001b[0m\u001b[0mfapl\u001b[0m\u001b[0;34m)\u001b[0m\u001b[0;34m\u001b[0m\u001b[0m\n\u001b[0m\u001b[1;32m    102\u001b[0m     \u001b[0;32melif\u001b[0m \u001b[0mmode\u001b[0m \u001b[0;34m==\u001b[0m \u001b[0;34m'r+'\u001b[0m\u001b[0;34m:\u001b[0m\u001b[0;34m\u001b[0m\u001b[0m\n\u001b[1;32m    103\u001b[0m         \u001b[0mfid\u001b[0m \u001b[0;34m=\u001b[0m \u001b[0mh5f\u001b[0m\u001b[0;34m.\u001b[0m\u001b[0mopen\u001b[0m\u001b[0;34m(\u001b[0m\u001b[0mname\u001b[0m\u001b[0;34m,\u001b[0m \u001b[0mh5f\u001b[0m\u001b[0;34m.\u001b[0m\u001b[0mACC_RDWR\u001b[0m\u001b[0;34m,\u001b[0m \u001b[0mfapl\u001b[0m\u001b[0;34m=\u001b[0m\u001b[0mfapl\u001b[0m\u001b[0;34m)\u001b[0m\u001b[0;34m\u001b[0m\u001b[0m\n",
      "\u001b[0;32mh5py/_objects.pyx\u001b[0m in \u001b[0;36mh5py._objects.with_phil.wrapper\u001b[0;34m()\u001b[0m\n",
      "\u001b[0;32mh5py/_objects.pyx\u001b[0m in \u001b[0;36mh5py._objects.with_phil.wrapper\u001b[0;34m()\u001b[0m\n",
      "\u001b[0;32mh5py/h5f.pyx\u001b[0m in \u001b[0;36mh5py.h5f.open\u001b[0;34m()\u001b[0m\n",
      "\u001b[0;31mOSError\u001b[0m: Unable to open file (Unable to open file: name = '/home/ubuntu/kaggle/state-farm-driver-detection/code/../input//models/vgg16bn-ted_fc-model1.h5', errno = 2, error message = 'no such file or directory', flags = 0, o_flags = 0)"
     ]
    }
   ],
   "source": [
    "model_name = 'Vgg16BN-ted'\n",
    "sub_model_name = 'fc-model'\n",
    "fc_model.load_weights(model_path + model_name + '_' + sub_model_name + '1.h5')"
   ]
  },
  {
   "cell_type": "markdown",
   "metadata": {
    "heading_collapsed": true
   },
   "source": [
    "### 2.3 Pre-computed data augmentation"
   ]
  },
  {
   "cell_type": "markdown",
   "metadata": {
    "hidden": true
   },
   "source": [
    "#### Setup: use our optimized data augmentation parameters in 2.a to create a 6x blended training datasets (5x data aug + 1x raw) \n",
    "- ** Notice that here because we use this BatchNormalization dense layers based on pretrained convolution layers, we can not use Data Augmentation, because with Data Augmentation the output of pretrained convolution layers will be different every time **\n",
    "- ** But you could compute 10x bigger than your dataset like 10 different versions of it. This is why I put it here with data augmentation generator and then predict it like 5 times bigger of data. This would give me 5 times of data. This actually works pretty well. It’s not as good as giving a whole new sample every time but it’s kind of a compromise **"
   ]
  },
  {
   "cell_type": "markdown",
   "metadata": {},
   "source": [
    "#### Setup Models"
   ]
  },
  {
   "cell_type": "code",
   "execution_count": 7,
   "metadata": {
    "collapsed": true
   },
   "outputs": [],
   "source": [
    "batch_size=64"
   ]
  },
  {
   "cell_type": "code",
   "execution_count": 8,
   "metadata": {},
   "outputs": [
    {
     "name": "stdout",
     "output_type": "stream",
     "text": [
      "Found 17940 images belonging to 10 classes.\n"
     ]
    }
   ],
   "source": [
    "vgg = Vgg16BN(size=(256, 256))\n",
    "#Finetune the model\n",
    "vgg.finetune(vgg.get_batches(train_path, shuffle=False, batch_size=batch_size))\n",
    "model = vgg.model"
   ]
  },
  {
   "cell_type": "code",
   "execution_count": 9,
   "metadata": {
    "collapsed": true
   },
   "outputs": [],
   "source": [
    "conv_model, fc_model = get_split_models(model)"
   ]
  },
  {
   "cell_type": "markdown",
   "metadata": {},
   "source": [
    "####  Use optimized parameters from 2b.Data Augmentation Tuning to make augmentation datasets ####\n",
    "**\n",
    "`\n",
    "rotation_range=28., \n",
    "width_shift_range=0.15, \n",
    "height_shift_range=0.08, \n",
    "shear_range=0.3, \n",
    "zoom_range=0.18, \n",
    "channel_shift_range=30.,\n",
    "horizontal_flip=True\n",
    "`\n",
    "**"
   ]
  },
  {
   "cell_type": "code",
   "execution_count": 11,
   "metadata": {},
   "outputs": [
    {
     "name": "stdout",
     "output_type": "stream",
     "text": [
      "Found 17940 images belonging to 10 classes.\n"
     ]
    }
   ],
   "source": [
    "gen_aug = image.ImageDataGenerator(rotation_range=28., width_shift_range=0.15, height_shift_range=0.08, \n",
    "                                       shear_range=0.3, zoom_range=0.18, channel_shift_range=30.,\n",
    "                                       horizontal_flip=True)\n",
    "aug_batches = get_batches(train_path, gen_aug, batch_size=batch_size)"
   ]
  },
  {
   "cell_type": "code",
   "execution_count": 16,
   "metadata": {
    "collapsed": true
   },
   "outputs": [],
   "source": [
    "# We create a dataset of convolutional features 5x bigger than the training set.\n",
    "conv_aug_features = conv_model.predict_generator(aug_batches, steps= 5 * ceil(aug_batches.n /aug_batches.batch_size))"
   ]
  },
  {
   "cell_type": "code",
   "execution_count": 17,
   "metadata": {
    "collapsed": true
   },
   "outputs": [],
   "source": [
    "save_array(results_path+'conv_aug_features.bc', conv_aug_features)"
   ]
  },
  {
   "cell_type": "code",
   "execution_count": 18,
   "metadata": {
    "collapsed": true
   },
   "outputs": [],
   "source": [
    "conv_aug_features = load_array(results_path+'conv_aug_features.bc')"
   ]
  },
  {
   "cell_type": "code",
   "execution_count": 19,
   "metadata": {},
   "outputs": [
    {
     "name": "stdout",
     "output_type": "stream",
     "text": [
      "(89700, 512, 8, 8)\n",
      "(17940, 512, 8, 8)\n"
     ]
    }
   ],
   "source": [
    "print(conv_aug_features.shape)\n",
    "print(conv_trn_features.shape)"
   ]
  },
  {
   "cell_type": "code",
   "execution_count": 20,
   "metadata": {
    "collapsed": true
   },
   "outputs": [],
   "source": [
    "# include the real training data as well in its non-augmented form.\n",
    "conv_aug_features = np.concatenate([conv_aug_features, conv_trn_features])\n",
    "\n",
    "# Since we've now got a dataset 6x bigger than before, we'll need to copy our labels 6 times too.\n",
    "aug_trn_labels = np.concatenate([trn_labels]*6)"
   ]
  },
  {
   "cell_type": "code",
   "execution_count": 21,
   "metadata": {
    "collapsed": true
   },
   "outputs": [],
   "source": [
    "save_array(results_path+'conv_aug_features2.bc', conv_aug_features)\n",
    "save_array(results_path+'aug_trn_labels.bc', aug_trn_labels)"
   ]
  },
  {
   "cell_type": "code",
   "execution_count": 13,
   "metadata": {
    "collapsed": true
   },
   "outputs": [],
   "source": [
    "conv_aug_features = load_array(results_path+'conv_aug_features2.bc')\n",
    "aug_trn_labels = load_array(results_path+'aug_trn_labels.bc')"
   ]
  },
  {
   "cell_type": "code",
   "execution_count": 14,
   "metadata": {},
   "outputs": [
    {
     "name": "stdout",
     "output_type": "stream",
     "text": [
      "(107640, 512, 8, 8)\n",
      "(107640, 10)\n"
     ]
    }
   ],
   "source": [
    "print(conv_aug_features.shape)\n",
    "print(aug_trn_labels.shape)"
   ]
  },
  {
   "cell_type": "markdown",
   "metadata": {},
   "source": [
    "### Model Tuning: FC model"
   ]
  },
  {
   "cell_type": "code",
   "execution_count": 27,
   "metadata": {},
   "outputs": [
    {
     "name": "stdout",
     "output_type": "stream",
     "text": [
      "Train on 107640 samples, validate on 4484 samples\n",
      "Epoch 1/2\n",
      " - 379s - loss: 2.5273 - acc: 0.2125 - val_loss: 0.2229 - val_acc: 0.9547\n",
      "Epoch 2/2\n",
      " - 374s - loss: 2.1278 - acc: 0.2420 - val_loss: 0.0698 - val_acc: 0.9873\n"
     ]
    },
    {
     "data": {
      "text/plain": [
       "<keras.callbacks.History at 0x7fbf3904be48>"
      ]
     },
     "execution_count": 27,
     "metadata": {},
     "output_type": "execute_result"
    }
   ],
   "source": [
    "fc_model.fit(conv_aug_features, aug_trn_labels, batch_size=batch_size, epochs=2, \n",
    "             validation_data= (conv_val_features, val_labels), verbose=2)"
   ]
  },
  {
   "cell_type": "code",
   "execution_count": 28,
   "metadata": {
    "collapsed": true
   },
   "outputs": [],
   "source": [
    "fc_model.lr = 1"
   ]
  },
  {
   "cell_type": "code",
   "execution_count": 29,
   "metadata": {},
   "outputs": [
    {
     "name": "stdout",
     "output_type": "stream",
     "text": [
      "Train on 107640 samples, validate on 4484 samples\n",
      "Epoch 1/40\n",
      " - 374s - loss: 2.0470 - acc: 0.2503 - val_loss: 0.1272 - val_acc: 0.9770\n",
      "Epoch 2/40\n",
      " - 374s - loss: 1.9869 - acc: 0.2656 - val_loss: 0.0831 - val_acc: 0.9839\n",
      "Epoch 3/40\n",
      " - 374s - loss: 1.9388 - acc: 0.2911 - val_loss: 0.0575 - val_acc: 0.9897\n",
      "Epoch 4/40\n",
      " - 374s - loss: 1.8709 - acc: 0.3269 - val_loss: 0.0814 - val_acc: 0.9884\n",
      "Epoch 5/40\n",
      " - 374s - loss: 1.7760 - acc: 0.3677 - val_loss: 0.0437 - val_acc: 0.9924\n",
      "Epoch 6/40\n",
      " - 374s - loss: 1.6629 - acc: 0.4156 - val_loss: 0.0385 - val_acc: 0.9940\n",
      "Epoch 7/40\n",
      " - 374s - loss: 1.5323 - acc: 0.4673 - val_loss: 0.0424 - val_acc: 0.9940\n",
      "Epoch 8/40\n",
      " - 374s - loss: 1.3866 - acc: 0.5225 - val_loss: 0.1082 - val_acc: 0.9882\n",
      "Epoch 9/40\n",
      " - 374s - loss: 1.2136 - acc: 0.5851 - val_loss: 0.1004 - val_acc: 0.9917\n",
      "Epoch 10/40\n",
      " - 374s - loss: 1.0373 - acc: 0.6477 - val_loss: 0.0823 - val_acc: 0.9915\n",
      "Epoch 11/40\n",
      " - 374s - loss: 0.8851 - acc: 0.6997 - val_loss: 0.0578 - val_acc: 0.9944\n",
      "Epoch 12/40\n",
      " - 374s - loss: 0.7421 - acc: 0.7493 - val_loss: 0.0877 - val_acc: 0.9906\n",
      "Epoch 13/40\n",
      " - 374s - loss: 0.6365 - acc: 0.7849 - val_loss: 0.0827 - val_acc: 0.9931\n",
      "Epoch 14/40\n",
      " - 374s - loss: 0.5529 - acc: 0.8120 - val_loss: 0.0924 - val_acc: 0.9913\n",
      "Epoch 15/40\n",
      " - 374s - loss: 0.5022 - acc: 0.8304 - val_loss: 0.0993 - val_acc: 0.9922\n",
      "Epoch 16/40\n",
      " - 374s - loss: 0.4490 - acc: 0.8481 - val_loss: 0.0908 - val_acc: 0.9926\n",
      "Epoch 17/40\n",
      " - 374s - loss: 0.4024 - acc: 0.8636 - val_loss: 0.0887 - val_acc: 0.9926\n",
      "Epoch 18/40\n",
      " - 373s - loss: 0.3750 - acc: 0.8736 - val_loss: 0.1116 - val_acc: 0.9913\n",
      "Epoch 19/40\n",
      " - 374s - loss: 0.3494 - acc: 0.8823 - val_loss: 0.0672 - val_acc: 0.9940\n",
      "Epoch 20/40\n",
      " - 374s - loss: 0.3399 - acc: 0.8863 - val_loss: 0.0533 - val_acc: 0.9953\n",
      "Epoch 21/40\n",
      " - 374s - loss: 0.3172 - acc: 0.8934 - val_loss: 0.1024 - val_acc: 0.9917\n",
      "Epoch 22/40\n",
      " - 373s - loss: 0.2925 - acc: 0.9017 - val_loss: 0.0787 - val_acc: 0.9922\n",
      "Epoch 23/40\n",
      " - 373s - loss: 0.2816 - acc: 0.9059 - val_loss: 0.0620 - val_acc: 0.9949\n",
      "Epoch 24/40\n",
      " - 374s - loss: 0.2710 - acc: 0.9097 - val_loss: 0.0796 - val_acc: 0.9935\n",
      "Epoch 25/40\n",
      " - 373s - loss: 0.2515 - acc: 0.9159 - val_loss: 0.0599 - val_acc: 0.9942\n",
      "Epoch 26/40\n",
      " - 373s - loss: 0.2433 - acc: 0.9175 - val_loss: 0.0785 - val_acc: 0.9940\n",
      "Epoch 27/40\n",
      " - 374s - loss: 0.2359 - acc: 0.9205 - val_loss: 0.0634 - val_acc: 0.9942\n",
      "Epoch 28/40\n",
      " - 374s - loss: 0.2238 - acc: 0.9242 - val_loss: 0.1041 - val_acc: 0.9915\n",
      "Epoch 29/40\n",
      " - 373s - loss: 0.2164 - acc: 0.9276 - val_loss: 0.0884 - val_acc: 0.9929\n",
      "Epoch 30/40\n",
      " - 373s - loss: 0.2047 - acc: 0.9317 - val_loss: 0.0885 - val_acc: 0.9926\n",
      "Epoch 31/40\n",
      " - 373s - loss: 0.1965 - acc: 0.9341 - val_loss: 0.0903 - val_acc: 0.9902\n",
      "Epoch 32/40\n",
      " - 373s - loss: 0.1938 - acc: 0.9353 - val_loss: 0.0740 - val_acc: 0.9946\n",
      "Epoch 33/40\n",
      " - 373s - loss: 0.1889 - acc: 0.9370 - val_loss: 0.0897 - val_acc: 0.9924\n",
      "Epoch 34/40\n",
      " - 373s - loss: 0.1845 - acc: 0.9381 - val_loss: 0.0749 - val_acc: 0.9929\n",
      "Epoch 35/40\n",
      " - 373s - loss: 0.1800 - acc: 0.9394 - val_loss: 0.0594 - val_acc: 0.9949\n",
      "Epoch 36/40\n",
      " - 374s - loss: 0.1685 - acc: 0.9438 - val_loss: 0.1009 - val_acc: 0.9931\n",
      "Epoch 37/40\n",
      " - 373s - loss: 0.1625 - acc: 0.9459 - val_loss: 0.0876 - val_acc: 0.9922\n",
      "Epoch 38/40\n",
      " - 373s - loss: 0.1635 - acc: 0.9453 - val_loss: 0.0736 - val_acc: 0.9940\n",
      "Epoch 39/40\n",
      " - 374s - loss: 0.1566 - acc: 0.9477 - val_loss: 0.0629 - val_acc: 0.9951\n",
      "Epoch 40/40\n",
      " - 374s - loss: 0.1537 - acc: 0.9488 - val_loss: 0.0997 - val_acc: 0.9924\n"
     ]
    },
    {
     "data": {
      "text/plain": [
       "<keras.callbacks.History at 0x7fbf3a26ebe0>"
      ]
     },
     "execution_count": 29,
     "metadata": {},
     "output_type": "execute_result"
    }
   ],
   "source": [
    "fc_model.fit(conv_aug_features, aug_trn_labels, batch_size=batch_size, epochs=40, \n",
    "             validation_data= (conv_val_features, val_labels), verbose=2)"
   ]
  },
  {
   "cell_type": "code",
   "execution_count": 30,
   "metadata": {
    "collapsed": true
   },
   "outputs": [],
   "source": [
    "model_name = 'Vgg16BN-ted'\n",
    "sub_model_name = 'fc-model'\n",
    "fc_model.save_weights(model_path + model_name + '_' + sub_model_name + '_aug1.h5')"
   ]
  },
  {
   "cell_type": "code",
   "execution_count": 12,
   "metadata": {
    "collapsed": true
   },
   "outputs": [],
   "source": [
    "model_name = 'Vgg16BN-ted'\n",
    "sub_model_name = 'fc-model'\n",
    "fc_model.load_weights(model_path + model_name + '_' + sub_model_name + '_aug1.h5')"
   ]
  },
  {
   "cell_type": "code",
   "execution_count": 13,
   "metadata": {
    "collapsed": true
   },
   "outputs": [],
   "source": [
    "fc_model.lr = 1"
   ]
  },
  {
   "cell_type": "code",
   "execution_count": 18,
   "metadata": {},
   "outputs": [
    {
     "name": "stdout",
     "output_type": "stream",
     "text": [
      "Train on 107640 samples, validate on 4484 samples\n",
      "Epoch 1/10\n",
      " - 420s - loss: 0.1534 - acc: 0.9486 - val_loss: 0.0834 - val_acc: 0.9929\n",
      "Epoch 2/10\n",
      " - 377s - loss: 0.1461 - acc: 0.9513 - val_loss: 0.0566 - val_acc: 0.9946\n",
      "Epoch 3/10\n",
      " - 377s - loss: 0.1428 - acc: 0.9527 - val_loss: 0.0679 - val_acc: 0.9944\n",
      "Epoch 4/10\n",
      " - 376s - loss: 0.1402 - acc: 0.9529 - val_loss: 0.0746 - val_acc: 0.9935\n",
      "Epoch 5/10\n",
      " - 377s - loss: 0.1386 - acc: 0.9536 - val_loss: 0.0608 - val_acc: 0.9942\n",
      "Epoch 6/10\n",
      " - 377s - loss: 0.1298 - acc: 0.9570 - val_loss: 0.0635 - val_acc: 0.9949\n",
      "Epoch 7/10\n",
      " - 377s - loss: 0.1311 - acc: 0.9561 - val_loss: 0.0583 - val_acc: 0.9942\n",
      "Epoch 8/10\n",
      " - 377s - loss: 0.1217 - acc: 0.9595 - val_loss: 0.0617 - val_acc: 0.9949\n",
      "Epoch 9/10\n",
      " - 377s - loss: 0.1178 - acc: 0.9611 - val_loss: 0.0712 - val_acc: 0.9944\n",
      "Epoch 10/10\n",
      " - 377s - loss: 0.1202 - acc: 0.9595 - val_loss: 0.0720 - val_acc: 0.9944\n"
     ]
    },
    {
     "data": {
      "text/plain": [
       "<keras.callbacks.History at 0x7f6b14d91ba8>"
      ]
     },
     "execution_count": 18,
     "metadata": {},
     "output_type": "execute_result"
    }
   ],
   "source": [
    "fc_model.fit(conv_aug_features, aug_trn_labels, batch_size=batch_size, epochs=50, \n",
    "             validation_data= (conv_val_features, val_labels), verbose=2)"
   ]
  },
  {
   "cell_type": "code",
   "execution_count": 29,
   "metadata": {
    "collapsed": true
   },
   "outputs": [],
   "source": [
    "fc_model.lr = 0.1"
   ]
  },
  {
   "cell_type": "code",
   "execution_count": 30,
   "metadata": {},
   "outputs": [
    {
     "name": "stdout",
     "output_type": "stream",
     "text": [
      "Train on 107640 samples, validate on 4484 samples\n",
      "Epoch 1/10\n",
      " - 377s - loss: 0.0821 - acc: 0.9729 - val_loss: 0.0597 - val_acc: 0.9951\n",
      "Epoch 2/10\n",
      " - 377s - loss: 0.0813 - acc: 0.9730 - val_loss: 0.0631 - val_acc: 0.9951\n",
      "Epoch 3/10\n",
      " - 378s - loss: 0.0791 - acc: 0.9743 - val_loss: 0.0483 - val_acc: 0.9962\n",
      "Epoch 4/10\n",
      " - 377s - loss: 0.0826 - acc: 0.9723 - val_loss: 0.0858 - val_acc: 0.9940\n",
      "Epoch 5/10\n",
      " - 378s - loss: 0.0776 - acc: 0.9743 - val_loss: 0.0633 - val_acc: 0.9951\n",
      "Epoch 6/10\n",
      " - 377s - loss: 0.0800 - acc: 0.9731 - val_loss: 0.0632 - val_acc: 0.9949\n",
      "Epoch 7/10\n",
      " - 377s - loss: 0.0778 - acc: 0.9742 - val_loss: 0.0470 - val_acc: 0.9962\n",
      "Epoch 8/10\n",
      " - 377s - loss: 0.0782 - acc: 0.9738 - val_loss: 0.0769 - val_acc: 0.9940\n",
      "Epoch 9/10\n",
      " - 377s - loss: 0.0741 - acc: 0.9750 - val_loss: 0.0674 - val_acc: 0.9942\n",
      "Epoch 10/10\n",
      " - 377s - loss: 0.0752 - acc: 0.9750 - val_loss: 0.0659 - val_acc: 0.9940\n"
     ]
    },
    {
     "data": {
      "text/plain": [
       "<keras.callbacks.History at 0x7f6b14912e10>"
      ]
     },
     "execution_count": 30,
     "metadata": {},
     "output_type": "execute_result"
    }
   ],
   "source": [
    "fc_model.fit(conv_aug_features, aug_trn_labels, batch_size=batch_size, epochs=30, \n",
    "             validation_data= (conv_val_features, val_labels), verbose=2)"
   ]
  },
  {
   "cell_type": "code",
   "execution_count": 35,
   "metadata": {
    "collapsed": true
   },
   "outputs": [],
   "source": [
    "fc_model.lr = 0.01"
   ]
  },
  {
   "cell_type": "code",
   "execution_count": 36,
   "metadata": {},
   "outputs": [
    {
     "name": "stdout",
     "output_type": "stream",
     "text": [
      "Train on 107640 samples, validate on 4484 samples\n",
      "Epoch 1/10\n",
      " - 377s - loss: 0.0677 - acc: 0.9779 - val_loss: 0.0619 - val_acc: 0.9944\n",
      "Epoch 2/10\n",
      " - 377s - loss: 0.0632 - acc: 0.9793 - val_loss: 0.0463 - val_acc: 0.9960\n",
      "Epoch 3/10\n",
      " - 377s - loss: 0.0662 - acc: 0.9772 - val_loss: 0.0690 - val_acc: 0.9942\n",
      "Epoch 4/10\n",
      " - 377s - loss: 0.0647 - acc: 0.9785 - val_loss: 0.0555 - val_acc: 0.9958\n",
      "Epoch 5/10\n",
      " - 377s - loss: 0.0630 - acc: 0.9795 - val_loss: 0.0532 - val_acc: 0.9958\n",
      "Epoch 6/10\n",
      " - 377s - loss: 0.0613 - acc: 0.9795 - val_loss: 0.0630 - val_acc: 0.9951\n",
      "Epoch 7/10\n",
      " - 377s - loss: 0.0632 - acc: 0.9785 - val_loss: 0.0712 - val_acc: 0.9946\n",
      "Epoch 8/10\n",
      " - 377s - loss: 0.0627 - acc: 0.9798 - val_loss: 0.0426 - val_acc: 0.9964\n",
      "Epoch 9/10\n",
      " - 377s - loss: 0.0636 - acc: 0.9792 - val_loss: 0.0763 - val_acc: 0.9944\n",
      "Epoch 10/10\n",
      " - 377s - loss: 0.0590 - acc: 0.9807 - val_loss: 0.0727 - val_acc: 0.9946\n"
     ]
    },
    {
     "data": {
      "text/plain": [
       "<keras.callbacks.History at 0x7f6b145af160>"
      ]
     },
     "execution_count": 36,
     "metadata": {},
     "output_type": "execute_result"
    }
   ],
   "source": [
    "fc_model.fit(conv_aug_features, aug_trn_labels, batch_size=batch_size, epochs=20, \n",
    "             validation_data= (conv_val_features, val_labels), verbose=2)"
   ]
  },
  {
   "cell_type": "code",
   "execution_count": 39,
   "metadata": {},
   "outputs": [
    {
     "name": "stdout",
     "output_type": "stream",
     "text": [
      "Train on 107640 samples, validate on 4484 samples\n",
      "Epoch 1/10\n",
      " - 377s - loss: 0.0625 - acc: 0.9790 - val_loss: 0.0805 - val_acc: 0.9942\n",
      "Epoch 2/10\n",
      " - 377s - loss: 0.0597 - acc: 0.9805 - val_loss: 0.0645 - val_acc: 0.9953\n",
      "Epoch 3/10\n",
      " - 377s - loss: 0.0583 - acc: 0.9808 - val_loss: 0.0533 - val_acc: 0.9958\n",
      "Epoch 4/10\n",
      " - 377s - loss: 0.0576 - acc: 0.9809 - val_loss: 0.0860 - val_acc: 0.9935\n",
      "Epoch 5/10\n",
      " - 377s - loss: 0.0577 - acc: 0.9806 - val_loss: 0.0549 - val_acc: 0.9951\n",
      "Epoch 6/10\n",
      " - 377s - loss: 0.0577 - acc: 0.9805 - val_loss: 0.0539 - val_acc: 0.9962\n",
      "Epoch 7/10\n",
      " - 377s - loss: 0.0581 - acc: 0.9814 - val_loss: 0.0512 - val_acc: 0.9958\n",
      "Epoch 8/10\n",
      " - 377s - loss: 0.0560 - acc: 0.9816 - val_loss: 0.0640 - val_acc: 0.9946\n",
      "Epoch 9/10\n",
      " - 377s - loss: 0.0583 - acc: 0.9803 - val_loss: 0.0638 - val_acc: 0.9953\n",
      "Epoch 10/10\n",
      " - 377s - loss: 0.0581 - acc: 0.9806 - val_loss: 0.0570 - val_acc: 0.9953\n"
     ]
    },
    {
     "data": {
      "text/plain": [
       "<keras.callbacks.History at 0x7f6b1491ca20>"
      ]
     },
     "execution_count": 39,
     "metadata": {},
     "output_type": "execute_result"
    }
   ],
   "source": [
    "fc_model.fit(conv_aug_features, aug_trn_labels, batch_size=batch_size, epochs=10, \n",
    "             validation_data= (conv_val_features, val_labels), verbose=2)"
   ]
  },
  {
   "cell_type": "code",
   "execution_count": 40,
   "metadata": {
    "collapsed": true
   },
   "outputs": [],
   "source": [
    "fc_model.lr = 0.001"
   ]
  },
  {
   "cell_type": "code",
   "execution_count": 41,
   "metadata": {},
   "outputs": [
    {
     "name": "stdout",
     "output_type": "stream",
     "text": [
      "Train on 107640 samples, validate on 4484 samples\n",
      "Epoch 1/10\n",
      " - 377s - loss: 0.0536 - acc: 0.9820 - val_loss: 0.0540 - val_acc: 0.9958\n",
      "Epoch 2/10\n",
      " - 377s - loss: 0.0551 - acc: 0.9817 - val_loss: 0.0636 - val_acc: 0.9951\n",
      "Epoch 3/10\n",
      " - 377s - loss: 0.0518 - acc: 0.9831 - val_loss: 0.0509 - val_acc: 0.9960\n",
      "Epoch 4/10\n",
      " - 377s - loss: 0.0551 - acc: 0.9816 - val_loss: 0.0490 - val_acc: 0.9960\n",
      "Epoch 5/10\n",
      " - 377s - loss: 0.0529 - acc: 0.9825 - val_loss: 0.0591 - val_acc: 0.9953\n",
      "Epoch 6/10\n",
      " - 377s - loss: 0.0537 - acc: 0.9822 - val_loss: 0.0518 - val_acc: 0.9949\n",
      "Epoch 7/10\n",
      " - 377s - loss: 0.0522 - acc: 0.9827 - val_loss: 0.0547 - val_acc: 0.9953\n",
      "Epoch 8/10\n",
      " - 377s - loss: 0.0539 - acc: 0.9823 - val_loss: 0.0497 - val_acc: 0.9960\n",
      "Epoch 9/10\n",
      " - 377s - loss: 0.0521 - acc: 0.9827 - val_loss: 0.0450 - val_acc: 0.9964\n",
      "Epoch 10/10\n",
      " - 377s - loss: 0.0524 - acc: 0.9828 - val_loss: 0.0564 - val_acc: 0.9960\n"
     ]
    },
    {
     "data": {
      "text/plain": [
       "<keras.callbacks.History at 0x7f6b146af828>"
      ]
     },
     "execution_count": 41,
     "metadata": {},
     "output_type": "execute_result"
    }
   ],
   "source": [
    "fc_model.fit(conv_aug_features, aug_trn_labels, batch_size=batch_size, epochs=10, \n",
    "             validation_data= (conv_val_features, val_labels), verbose=2)"
   ]
  },
  {
   "cell_type": "code",
   "execution_count": 44,
   "metadata": {
    "collapsed": true
   },
   "outputs": [],
   "source": [
    "fc_model.lr = 0.0001"
   ]
  },
  {
   "cell_type": "code",
   "execution_count": 45,
   "metadata": {},
   "outputs": [
    {
     "name": "stdout",
     "output_type": "stream",
     "text": [
      "Train on 107640 samples, validate on 4484 samples\n",
      "Epoch 1/10\n",
      " - 377s - loss: 0.0503 - acc: 0.9833 - val_loss: 0.0570 - val_acc: 0.9958\n",
      "Epoch 2/10\n",
      " - 377s - loss: 0.0499 - acc: 0.9836 - val_loss: 0.0612 - val_acc: 0.9951\n",
      "Epoch 3/10\n",
      " - 377s - loss: 0.0494 - acc: 0.9836 - val_loss: 0.0508 - val_acc: 0.9955\n",
      "Epoch 4/10\n",
      " - 377s - loss: 0.0509 - acc: 0.9833 - val_loss: 0.0548 - val_acc: 0.9958\n",
      "Epoch 5/10\n",
      " - 377s - loss: 0.0488 - acc: 0.9836 - val_loss: 0.0553 - val_acc: 0.9958\n",
      "Epoch 6/10\n",
      " - 377s - loss: 0.0484 - acc: 0.9841 - val_loss: 0.0645 - val_acc: 0.9953\n",
      "Epoch 7/10\n",
      " - 377s - loss: 0.0485 - acc: 0.9839 - val_loss: 0.0590 - val_acc: 0.9953\n",
      "Epoch 8/10\n",
      " - 377s - loss: 0.0464 - acc: 0.9847 - val_loss: 0.0594 - val_acc: 0.9955\n",
      "Epoch 9/10\n",
      " - 377s - loss: 0.0488 - acc: 0.9839 - val_loss: 0.0550 - val_acc: 0.9960\n",
      "Epoch 10/10\n",
      " - 377s - loss: 0.0486 - acc: 0.9836 - val_loss: 0.0543 - val_acc: 0.9960\n"
     ]
    },
    {
     "data": {
      "text/plain": [
       "<keras.callbacks.History at 0x7f6b1491c320>"
      ]
     },
     "execution_count": 45,
     "metadata": {},
     "output_type": "execute_result"
    }
   ],
   "source": [
    "fc_model.fit(conv_aug_features, aug_trn_labels, batch_size=batch_size, epochs=10, \n",
    "             validation_data= (conv_val_features, val_labels), verbose=2)"
   ]
  },
  {
   "cell_type": "code",
   "execution_count": 48,
   "metadata": {
    "collapsed": true
   },
   "outputs": [],
   "source": [
    "fc_model.lr = 1e-5"
   ]
  },
  {
   "cell_type": "code",
   "execution_count": 49,
   "metadata": {},
   "outputs": [
    {
     "name": "stdout",
     "output_type": "stream",
     "text": [
      "Train on 107640 samples, validate on 4484 samples\n",
      "Epoch 1/10\n",
      " - 377s - loss: 0.0480 - acc: 0.9843 - val_loss: 0.0599 - val_acc: 0.9951\n",
      "Epoch 2/10\n",
      " - 377s - loss: 0.0477 - acc: 0.9844 - val_loss: 0.0540 - val_acc: 0.9960\n",
      "Epoch 3/10\n",
      " - 377s - loss: 0.0466 - acc: 0.9846 - val_loss: 0.0664 - val_acc: 0.9946\n",
      "Epoch 4/10\n",
      " - 377s - loss: 0.0460 - acc: 0.9844 - val_loss: 0.0557 - val_acc: 0.9951\n",
      "Epoch 5/10\n",
      " - 377s - loss: 0.0470 - acc: 0.9848 - val_loss: 0.0613 - val_acc: 0.9955\n",
      "Epoch 6/10\n",
      " - 377s - loss: 0.0457 - acc: 0.9850 - val_loss: 0.0503 - val_acc: 0.9960\n",
      "Epoch 7/10\n",
      " - 377s - loss: 0.0439 - acc: 0.9855 - val_loss: 0.0593 - val_acc: 0.9955\n",
      "Epoch 8/10\n",
      " - 377s - loss: 0.0448 - acc: 0.9855 - val_loss: 0.0613 - val_acc: 0.9958\n",
      "Epoch 9/10\n",
      " - 377s - loss: 0.0429 - acc: 0.9860 - val_loss: 0.0537 - val_acc: 0.9953\n",
      "Epoch 10/10\n",
      " - 377s - loss: 0.0475 - acc: 0.9843 - val_loss: 0.0509 - val_acc: 0.9962\n"
     ]
    },
    {
     "data": {
      "text/plain": [
       "<keras.callbacks.History at 0x7f6b149264e0>"
      ]
     },
     "execution_count": 49,
     "metadata": {},
     "output_type": "execute_result"
    }
   ],
   "source": [
    "fc_model.fit(conv_aug_features, aug_trn_labels, batch_size=batch_size, epochs=10, \n",
    "             validation_data= (conv_val_features, val_labels), verbose=2)"
   ]
  },
  {
   "cell_type": "code",
   "execution_count": 50,
   "metadata": {
    "collapsed": true
   },
   "outputs": [],
   "source": [
    "fc_model.lr = 1e-6"
   ]
  },
  {
   "cell_type": "code",
   "execution_count": 52,
   "metadata": {},
   "outputs": [
    {
     "name": "stdout",
     "output_type": "stream",
     "text": [
      "Train on 107640 samples, validate on 4484 samples\n",
      "Epoch 1/10\n",
      " - 377s - loss: 0.0423 - acc: 0.9860 - val_loss: 0.0630 - val_acc: 0.9951\n",
      "Epoch 2/10\n",
      " - 377s - loss: 0.0424 - acc: 0.9864 - val_loss: 0.0601 - val_acc: 0.9955\n",
      "Epoch 3/10\n",
      " - 377s - loss: 0.0391 - acc: 0.9872 - val_loss: 0.0536 - val_acc: 0.9958\n",
      "Epoch 4/10\n",
      " - 377s - loss: 0.0428 - acc: 0.9863 - val_loss: 0.0570 - val_acc: 0.9951\n",
      "Epoch 5/10\n",
      " - 377s - loss: 0.0405 - acc: 0.9864 - val_loss: 0.0587 - val_acc: 0.9953\n",
      "Epoch 6/10\n",
      " - 377s - loss: 0.0388 - acc: 0.9872 - val_loss: 0.0664 - val_acc: 0.9958\n",
      "Epoch 7/10\n",
      " - 377s - loss: 0.0399 - acc: 0.9873 - val_loss: 0.0516 - val_acc: 0.9960\n",
      "Epoch 8/10\n",
      " - 377s - loss: 0.0402 - acc: 0.9869 - val_loss: 0.0582 - val_acc: 0.9955\n",
      "Epoch 9/10\n",
      " - 377s - loss: 0.0380 - acc: 0.9875 - val_loss: 0.0911 - val_acc: 0.9926\n",
      "Epoch 10/10\n",
      " - 377s - loss: 0.0410 - acc: 0.9867 - val_loss: 0.0501 - val_acc: 0.9960\n"
     ]
    },
    {
     "data": {
      "text/plain": [
       "<keras.callbacks.History at 0x7f6b1491bda0>"
      ]
     },
     "execution_count": 52,
     "metadata": {},
     "output_type": "execute_result"
    }
   ],
   "source": [
    "fc_model.fit(conv_aug_features, aug_trn_labels, batch_size=batch_size, epochs=20, \n",
    "             validation_data= (conv_val_features, val_labels), verbose=2)"
   ]
  },
  {
   "cell_type": "code",
   "execution_count": 53,
   "metadata": {
    "collapsed": true
   },
   "outputs": [],
   "source": [
    "fc_model.lr = 1e-7"
   ]
  },
  {
   "cell_type": "code",
   "execution_count": 54,
   "metadata": {},
   "outputs": [
    {
     "name": "stdout",
     "output_type": "stream",
     "text": [
      "Train on 107640 samples, validate on 4484 samples\n",
      "Epoch 1/10\n",
      " - 377s - loss: 0.0349 - acc: 0.9884 - val_loss: 0.0712 - val_acc: 0.9944\n",
      "Epoch 2/10\n",
      " - 377s - loss: 0.0364 - acc: 0.9879 - val_loss: 0.0531 - val_acc: 0.9951\n",
      "Epoch 3/10\n",
      " - 377s - loss: 0.0404 - acc: 0.9871 - val_loss: 0.0659 - val_acc: 0.9946\n",
      "Epoch 4/10\n",
      " - 377s - loss: 0.0399 - acc: 0.9868 - val_loss: 0.0803 - val_acc: 0.9944\n",
      "Epoch 5/10\n",
      " - 377s - loss: 0.0388 - acc: 0.9874 - val_loss: 0.0801 - val_acc: 0.9940\n",
      "Epoch 6/10\n",
      " - 377s - loss: 0.0372 - acc: 0.9878 - val_loss: 0.0623 - val_acc: 0.9953\n",
      "Epoch 7/10\n",
      " - 377s - loss: 0.0384 - acc: 0.9877 - val_loss: 0.0723 - val_acc: 0.9946\n",
      "Epoch 8/10\n",
      " - 377s - loss: 0.0362 - acc: 0.9880 - val_loss: 0.0573 - val_acc: 0.9955\n",
      "Epoch 9/10\n",
      " - 377s - loss: 0.0374 - acc: 0.9879 - val_loss: 0.0779 - val_acc: 0.9940\n",
      "Epoch 10/10\n",
      " - 377s - loss: 0.0387 - acc: 0.9873 - val_loss: 0.0740 - val_acc: 0.9946\n"
     ]
    },
    {
     "data": {
      "text/plain": [
       "<keras.callbacks.History at 0x7f6b1491cc88>"
      ]
     },
     "execution_count": 54,
     "metadata": {},
     "output_type": "execute_result"
    }
   ],
   "source": [
    "fc_model.fit(conv_aug_features, aug_trn_labels, batch_size=batch_size, epochs=10, \n",
    "             validation_data= (conv_val_features, val_labels), verbose=2)"
   ]
  },
  {
   "cell_type": "code",
   "execution_count": 57,
   "metadata": {
    "collapsed": true
   },
   "outputs": [],
   "source": [
    "fc_model.lr = 1e-8"
   ]
  },
  {
   "cell_type": "code",
   "execution_count": 58,
   "metadata": {},
   "outputs": [
    {
     "name": "stdout",
     "output_type": "stream",
     "text": [
      "Train on 107640 samples, validate on 4484 samples\n",
      "Epoch 1/10\n",
      " - 377s - loss: 0.0371 - acc: 0.9880 - val_loss: 0.0688 - val_acc: 0.9944\n",
      "Epoch 2/10\n",
      " - 377s - loss: 0.0374 - acc: 0.9881 - val_loss: 0.0724 - val_acc: 0.9944\n",
      "Epoch 3/10\n",
      " - 377s - loss: 0.0373 - acc: 0.9882 - val_loss: 0.0851 - val_acc: 0.9938\n",
      "Epoch 4/10\n",
      " - 377s - loss: 0.0356 - acc: 0.9882 - val_loss: 0.0705 - val_acc: 0.9944\n",
      "Epoch 5/10\n",
      " - 377s - loss: 0.0371 - acc: 0.9880 - val_loss: 0.0650 - val_acc: 0.9951\n",
      "Epoch 6/10\n",
      " - 377s - loss: 0.0368 - acc: 0.9879 - val_loss: 0.0635 - val_acc: 0.9949\n",
      "Epoch 7/10\n",
      " - 377s - loss: 0.0366 - acc: 0.9882 - val_loss: 0.0649 - val_acc: 0.9949\n",
      "Epoch 8/10\n",
      " - 377s - loss: 0.0374 - acc: 0.9881 - val_loss: 0.0733 - val_acc: 0.9946\n",
      "Epoch 9/10\n",
      " - 377s - loss: 0.0363 - acc: 0.9877 - val_loss: 0.0678 - val_acc: 0.9949\n",
      "Epoch 10/10\n",
      " - 377s - loss: 0.0337 - acc: 0.9890 - val_loss: 0.0827 - val_acc: 0.9940\n"
     ]
    },
    {
     "data": {
      "text/plain": [
       "<keras.callbacks.History at 0x7f6b14926ba8>"
      ]
     },
     "execution_count": 58,
     "metadata": {},
     "output_type": "execute_result"
    }
   ],
   "source": [
    "fc_model.fit(conv_aug_features, aug_trn_labels, batch_size=batch_size, epochs=10, \n",
    "             validation_data= (conv_val_features, val_labels), verbose=2)"
   ]
  },
  {
   "cell_type": "code",
   "execution_count": 59,
   "metadata": {
    "collapsed": true
   },
   "outputs": [],
   "source": [
    "model_name = 'Vgg16BN-ted'\n",
    "sub_model_name = 'fc-model'\n",
    "fc_model.save_weights(model_path + model_name + '_' + sub_model_name + '_aug1.h5')"
   ]
  },
  {
   "cell_type": "code",
   "execution_count": 91,
   "metadata": {
    "collapsed": true
   },
   "outputs": [],
   "source": [
    "model_name = 'Vgg16BN-ted'\n",
    "sub_model_name = 'fc-model'\n",
    "fc_model.load_weights(model_path + model_name + '_' + sub_model_name + '_aug1.h5')"
   ]
  },
  {
   "cell_type": "markdown",
   "metadata": {
    "heading_collapsed": true
   },
   "source": [
    "### 2.4 Regularization\n",
    "\n",
    "** Regularization can not be done with only sample, but need to be run on full dataset. It's because Regularization is very correlated with data.** (Running on full dataset, we will need much less regularization than on only sample dataset.)"
   ]
  },
  {
   "cell_type": "markdown",
   "metadata": {},
   "source": [
    "#### Setup Models"
   ]
  },
  {
   "cell_type": "code",
   "execution_count": 12,
   "metadata": {},
   "outputs": [
    {
     "name": "stdout",
     "output_type": "stream",
     "text": [
      "Found 17940 images belonging to 10 classes.\n"
     ]
    }
   ],
   "source": [
    "vgg = Vgg16BN(size=(256, 256))\n",
    "vgg.finetune(vgg.get_batches(train_path, shuffle=False, batch_size=batch_size))"
   ]
  },
  {
   "cell_type": "code",
   "execution_count": 13,
   "metadata": {
    "collapsed": true
   },
   "outputs": [],
   "source": [
    "vgg.set_dropout(0.6)"
   ]
  },
  {
   "cell_type": "code",
   "execution_count": 14,
   "metadata": {
    "collapsed": true
   },
   "outputs": [],
   "source": [
    "_, fc_model = get_split_models(vgg.model)"
   ]
  },
  {
   "cell_type": "markdown",
   "metadata": {},
   "source": [
    "### Model Tuning: FC model"
   ]
  },
  {
   "cell_type": "code",
   "execution_count": 66,
   "metadata": {},
   "outputs": [
    {
     "name": "stdout",
     "output_type": "stream",
     "text": [
      "Train on 107640 samples, validate on 4484 samples\n",
      "Epoch 1/2\n",
      " - 380s - loss: 2.6789 - acc: 0.2098 - val_loss: 0.2261 - val_acc: 0.9407\n",
      "Epoch 2/2\n",
      " - 378s - loss: 2.1457 - acc: 0.2418 - val_loss: 0.0708 - val_acc: 0.9817\n"
     ]
    },
    {
     "data": {
      "text/plain": [
       "<keras.callbacks.History at 0x7f6aec7f00f0>"
      ]
     },
     "execution_count": 66,
     "metadata": {},
     "output_type": "execute_result"
    }
   ],
   "source": [
    "fc_model.fit(conv_aug_features, aug_trn_labels, batch_size=batch_size, epochs=2, \n",
    "             validation_data= (conv_val_features, val_labels), verbose=2)"
   ]
  },
  {
   "cell_type": "code",
   "execution_count": null,
   "metadata": {
    "collapsed": true
   },
   "outputs": [],
   "source": [
    "fc_model.lr = 1"
   ]
  },
  {
   "cell_type": "code",
   "execution_count": null,
   "metadata": {},
   "outputs": [
    {
     "name": "stdout",
     "output_type": "stream",
     "text": [
      "Train on 107640 samples, validate on 4484 samples\n",
      "Epoch 1/60\n",
      " - 378s - loss: 2.0753 - acc: 0.2489 - val_loss: 0.1337 - val_acc: 0.9755\n",
      "Epoch 2/60\n",
      " - 378s - loss: 2.0078 - acc: 0.2635 - val_loss: 0.0621 - val_acc: 0.9877\n",
      "Epoch 3/60\n",
      " - 378s - loss: 1.9486 - acc: 0.2858 - val_loss: 0.1338 - val_acc: 0.9761\n",
      "Epoch 4/60\n",
      " - 378s - loss: 1.8862 - acc: 0.3188 - val_loss: 0.0279 - val_acc: 0.9955\n",
      "Epoch 5/60\n",
      " - 378s - loss: 1.7986 - acc: 0.3563 - val_loss: 0.0805 - val_acc: 0.9862\n",
      "Epoch 6/60\n",
      " - 378s - loss: 1.6947 - acc: 0.4032 - val_loss: 0.0627 - val_acc: 0.9904\n",
      "Epoch 7/60\n",
      " - 377s - loss: 1.5753 - acc: 0.4514 - val_loss: 0.0323 - val_acc: 0.9946\n",
      "Epoch 8/60\n",
      " - 377s - loss: 1.4306 - acc: 0.5068 - val_loss: 0.0753 - val_acc: 0.9902\n",
      "Epoch 9/60\n",
      " - 377s - loss: 1.2730 - acc: 0.5652 - val_loss: 0.0483 - val_acc: 0.9933\n",
      "Epoch 10/60\n",
      " - 377s - loss: 1.0937 - acc: 0.6258 - val_loss: 0.0887 - val_acc: 0.9920\n",
      "Epoch 11/60\n",
      " - 376s - loss: 0.9326 - acc: 0.6811 - val_loss: 0.1061 - val_acc: 0.9900\n",
      "Epoch 12/60\n",
      " - 377s - loss: 0.7887 - acc: 0.7333 - val_loss: 0.0539 - val_acc: 0.9933\n",
      "Epoch 13/60\n",
      " - 377s - loss: 0.6725 - acc: 0.7718 - val_loss: 0.0479 - val_acc: 0.9951\n",
      "Epoch 14/60\n",
      " - 377s - loss: 0.5844 - acc: 0.8023 - val_loss: 0.0589 - val_acc: 0.9944\n",
      "Epoch 15/60\n",
      " - 377s - loss: 0.5129 - acc: 0.8258 - val_loss: 0.0581 - val_acc: 0.9944\n",
      "Epoch 16/60\n",
      " - 377s - loss: 0.4631 - acc: 0.8431 - val_loss: 0.0434 - val_acc: 0.9953\n",
      "Epoch 17/60\n",
      " - 377s - loss: 0.4288 - acc: 0.8540 - val_loss: 0.0576 - val_acc: 0.9940\n",
      "Epoch 18/60\n",
      " - 377s - loss: 0.3940 - acc: 0.8679 - val_loss: 0.0658 - val_acc: 0.9926\n",
      "Epoch 19/60\n",
      " - 377s - loss: 0.3674 - acc: 0.8760 - val_loss: 0.0646 - val_acc: 0.9933\n",
      "Epoch 20/60\n",
      " - 377s - loss: 0.3423 - acc: 0.8862 - val_loss: 0.0843 - val_acc: 0.9926\n",
      "Epoch 21/60\n",
      " - 377s - loss: 0.3172 - acc: 0.8942 - val_loss: 0.0732 - val_acc: 0.9935\n",
      "Epoch 22/60\n",
      " - 377s - loss: 0.2998 - acc: 0.8982 - val_loss: 0.0929 - val_acc: 0.9929\n",
      "Epoch 23/60\n",
      " - 377s - loss: 0.2844 - acc: 0.9050 - val_loss: 0.0622 - val_acc: 0.9953\n",
      "Epoch 24/60\n",
      " - 377s - loss: 0.2688 - acc: 0.9092 - val_loss: 0.0408 - val_acc: 0.9953\n",
      "Epoch 25/60\n",
      " - 377s - loss: 0.2532 - acc: 0.9158 - val_loss: 0.0623 - val_acc: 0.9946\n",
      "Epoch 26/60\n",
      " - 377s - loss: 0.2467 - acc: 0.9171 - val_loss: 0.0672 - val_acc: 0.9944\n",
      "Epoch 27/60\n",
      " - 377s - loss: 0.2332 - acc: 0.9216 - val_loss: 0.0505 - val_acc: 0.9951\n",
      "Epoch 28/60\n",
      " - 377s - loss: 0.2271 - acc: 0.9234 - val_loss: 0.0775 - val_acc: 0.9926\n",
      "Epoch 29/60\n",
      " - 377s - loss: 0.2190 - acc: 0.9266 - val_loss: 0.0723 - val_acc: 0.9935\n",
      "Epoch 30/60\n",
      " - 377s - loss: 0.2063 - acc: 0.9313 - val_loss: 0.0370 - val_acc: 0.9962\n",
      "Epoch 31/60\n",
      " - 377s - loss: 0.1978 - acc: 0.9337 - val_loss: 0.0491 - val_acc: 0.9951\n",
      "Epoch 32/60\n",
      " - 377s - loss: 0.1939 - acc: 0.9346 - val_loss: 0.0473 - val_acc: 0.9955\n",
      "Epoch 33/60\n",
      " - 376s - loss: 0.1879 - acc: 0.9365 - val_loss: 0.0426 - val_acc: 0.9949\n",
      "Epoch 34/60\n",
      " - 377s - loss: 0.1869 - acc: 0.9376 - val_loss: 0.1139 - val_acc: 0.9911\n",
      "Epoch 35/60\n",
      " - 376s - loss: 0.1732 - acc: 0.9421 - val_loss: 0.0521 - val_acc: 0.9958\n",
      "Epoch 36/60\n",
      " - 378s - loss: 0.1703 - acc: 0.9429 - val_loss: 0.0533 - val_acc: 0.9949\n",
      "Epoch 37/60\n",
      " - 377s - loss: 0.1657 - acc: 0.9441 - val_loss: 0.0377 - val_acc: 0.9964\n",
      "Epoch 38/60\n",
      " - 377s - loss: 0.1612 - acc: 0.9454 - val_loss: 0.0459 - val_acc: 0.9958\n",
      "Epoch 39/60\n",
      " - 377s - loss: 0.1568 - acc: 0.9473 - val_loss: 0.0395 - val_acc: 0.9962\n",
      "Epoch 40/60\n",
      " - 378s - loss: 0.1529 - acc: 0.9487 - val_loss: 0.0456 - val_acc: 0.9953\n",
      "Epoch 41/60\n",
      " - 378s - loss: 0.1466 - acc: 0.9510 - val_loss: 0.0619 - val_acc: 0.9946\n",
      "Epoch 42/60\n",
      " - 378s - loss: 0.1472 - acc: 0.9514 - val_loss: 0.0459 - val_acc: 0.9958\n",
      "Epoch 43/60\n",
      " - 377s - loss: 0.1387 - acc: 0.9538 - val_loss: 0.0512 - val_acc: 0.9953\n",
      "Epoch 44/60\n",
      " - 378s - loss: 0.1365 - acc: 0.9543 - val_loss: 0.0482 - val_acc: 0.9953\n",
      "Epoch 45/60\n",
      " - 378s - loss: 0.1341 - acc: 0.9547 - val_loss: 0.0495 - val_acc: 0.9953\n",
      "Epoch 46/60\n",
      " - 378s - loss: 0.1307 - acc: 0.9557 - val_loss: 0.0451 - val_acc: 0.9949\n",
      "Epoch 47/60\n",
      " - 377s - loss: 0.1305 - acc: 0.9566 - val_loss: 0.0458 - val_acc: 0.9962\n",
      "Epoch 48/60\n",
      " - 377s - loss: 0.1250 - acc: 0.9581 - val_loss: 0.0290 - val_acc: 0.9969\n",
      "Epoch 49/60\n",
      " - 378s - loss: 0.1246 - acc: 0.9588 - val_loss: 0.0514 - val_acc: 0.9951\n",
      "Epoch 50/60\n",
      " - 377s - loss: 0.1200 - acc: 0.9601 - val_loss: 0.0496 - val_acc: 0.9951\n",
      "Epoch 51/60\n",
      " - 377s - loss: 0.1171 - acc: 0.9606 - val_loss: 0.0455 - val_acc: 0.9964\n",
      "Epoch 52/60\n",
      " - 377s - loss: 0.1172 - acc: 0.9612 - val_loss: 0.0434 - val_acc: 0.9955\n",
      "Epoch 53/60\n",
      " - 377s - loss: 0.1155 - acc: 0.9621 - val_loss: 0.0361 - val_acc: 0.9964\n",
      "Epoch 54/60\n",
      " - 377s - loss: 0.1119 - acc: 0.9622 - val_loss: 0.0235 - val_acc: 0.9971\n",
      "Epoch 55/60\n",
      " - 377s - loss: 0.1114 - acc: 0.9626 - val_loss: 0.0391 - val_acc: 0.9960\n",
      "Epoch 56/60\n",
      " - 377s - loss: 0.1059 - acc: 0.9647 - val_loss: 0.0319 - val_acc: 0.9964\n",
      "Epoch 57/60\n",
      " - 377s - loss: 0.1078 - acc: 0.9638 - val_loss: 0.0353 - val_acc: 0.9973\n",
      "Epoch 58/60\n",
      " - 377s - loss: 0.1078 - acc: 0.9640 - val_loss: 0.0434 - val_acc: 0.9958\n",
      "Epoch 59/60\n",
      " - 377s - loss: 0.1013 - acc: 0.9666 - val_loss: 0.0447 - val_acc: 0.9960\n",
      "Epoch 60/60\n",
      " - 377s - loss: 0.1013 - acc: 0.9665 - val_loss: 0.0611 - val_acc: 0.9946\n"
     ]
    },
    {
     "data": {
      "text/plain": [
       "<keras.callbacks.History at 0x7f6ad7310940>"
      ]
     },
     "execution_count": 68,
     "metadata": {},
     "output_type": "execute_result"
    }
   ],
   "source": [
    "fc_model.fit(conv_aug_features, aug_trn_labels, batch_size=batch_size, epochs=60, \n",
    "             validation_data= (conv_val_features, val_labels), verbose=2)"
   ]
  },
  {
   "cell_type": "code",
   "execution_count": 72,
   "metadata": {},
   "outputs": [
    {
     "name": "stdout",
     "output_type": "stream",
     "text": [
      "Train on 107640 samples, validate on 4484 samples\n",
      "Epoch 1/10\n",
      " - 377s - loss: 0.0984 - acc: 0.9667 - val_loss: 0.0512 - val_acc: 0.9955\n",
      "Epoch 2/10\n",
      " - 377s - loss: 0.0951 - acc: 0.9682 - val_loss: 0.0335 - val_acc: 0.9964\n",
      "Epoch 3/10\n",
      " - 377s - loss: 0.0954 - acc: 0.9682 - val_loss: 0.0677 - val_acc: 0.9942\n",
      "Epoch 4/10\n",
      " - 377s - loss: 0.0927 - acc: 0.9694 - val_loss: 0.0508 - val_acc: 0.9955\n",
      "Epoch 5/10\n",
      " - 377s - loss: 0.0933 - acc: 0.9689 - val_loss: 0.0426 - val_acc: 0.9960\n",
      "Epoch 6/10\n",
      " - 377s - loss: 0.0904 - acc: 0.9700 - val_loss: 0.0346 - val_acc: 0.9967\n",
      "Epoch 7/10\n",
      " - 377s - loss: 0.0873 - acc: 0.9709 - val_loss: 0.0326 - val_acc: 0.9962\n",
      "Epoch 8/10\n",
      " - 377s - loss: 0.0873 - acc: 0.9710 - val_loss: 0.0357 - val_acc: 0.9969\n",
      "Epoch 9/10\n",
      " - 377s - loss: 0.0888 - acc: 0.9702 - val_loss: 0.0293 - val_acc: 0.9975\n",
      "Epoch 10/10\n",
      " - 377s - loss: 0.0837 - acc: 0.9721 - val_loss: 0.0325 - val_acc: 0.9967\n"
     ]
    },
    {
     "data": {
      "text/plain": [
       "<keras.callbacks.History at 0x7f6ad7357ba8>"
      ]
     },
     "execution_count": 72,
     "metadata": {},
     "output_type": "execute_result"
    }
   ],
   "source": [
    "fc_model.fit(conv_aug_features, aug_trn_labels, batch_size=batch_size, epochs=10, \n",
    "             validation_data= (conv_val_features, val_labels), verbose=2)"
   ]
  },
  {
   "cell_type": "code",
   "execution_count": 75,
   "metadata": {
    "collapsed": true
   },
   "outputs": [],
   "source": [
    "fc_model.lr = 0.1"
   ]
  },
  {
   "cell_type": "code",
   "execution_count": 76,
   "metadata": {},
   "outputs": [
    {
     "name": "stdout",
     "output_type": "stream",
     "text": [
      "Train on 107640 samples, validate on 4484 samples\n",
      "Epoch 1/10\n",
      " - 377s - loss: 0.0858 - acc: 0.9715 - val_loss: 0.0526 - val_acc: 0.9958\n",
      "Epoch 2/10\n",
      " - 377s - loss: 0.0838 - acc: 0.9716 - val_loss: 0.0495 - val_acc: 0.9955\n",
      "Epoch 3/10\n",
      " - 377s - loss: 0.0817 - acc: 0.9723 - val_loss: 0.0284 - val_acc: 0.9969\n",
      "Epoch 4/10\n",
      " - 377s - loss: 0.0833 - acc: 0.9728 - val_loss: 0.0663 - val_acc: 0.9942\n",
      "Epoch 5/10\n",
      " - 377s - loss: 0.0797 - acc: 0.9733 - val_loss: 0.0571 - val_acc: 0.9953\n",
      "Epoch 6/10\n",
      " - 377s - loss: 0.0793 - acc: 0.9733 - val_loss: 0.0258 - val_acc: 0.9973\n",
      "Epoch 7/10\n",
      " - 377s - loss: 0.0766 - acc: 0.9743 - val_loss: 0.0416 - val_acc: 0.9964\n",
      "Epoch 8/10\n",
      " - 377s - loss: 0.0783 - acc: 0.9736 - val_loss: 0.0424 - val_acc: 0.9962\n",
      "Epoch 9/10\n",
      " - 377s - loss: 0.0775 - acc: 0.9748 - val_loss: 0.0498 - val_acc: 0.9955\n",
      "Epoch 10/10\n",
      " - 377s - loss: 0.0749 - acc: 0.9748 - val_loss: 0.0308 - val_acc: 0.9973\n"
     ]
    },
    {
     "data": {
      "text/plain": [
       "<keras.callbacks.History at 0x7f6ad7213748>"
      ]
     },
     "execution_count": 76,
     "metadata": {},
     "output_type": "execute_result"
    }
   ],
   "source": [
    "fc_model.fit(conv_aug_features, aug_trn_labels, batch_size=batch_size, epochs=10, \n",
    "             validation_data= (conv_val_features, val_labels), verbose=2)"
   ]
  },
  {
   "cell_type": "code",
   "execution_count": 79,
   "metadata": {},
   "outputs": [
    {
     "name": "stdout",
     "output_type": "stream",
     "text": [
      "Train on 107640 samples, validate on 4484 samples\n",
      "Epoch 1/10\n",
      " - 377s - loss: 0.0747 - acc: 0.9749 - val_loss: 0.0401 - val_acc: 0.9967\n",
      "Epoch 2/10\n",
      " - 377s - loss: 0.0710 - acc: 0.9762 - val_loss: 0.0325 - val_acc: 0.9962\n",
      "Epoch 3/10\n",
      " - 377s - loss: 0.0721 - acc: 0.9762 - val_loss: 0.0545 - val_acc: 0.9960\n",
      "Epoch 4/10\n",
      " - 377s - loss: 0.0730 - acc: 0.9761 - val_loss: 0.0360 - val_acc: 0.9973\n",
      "Epoch 5/10\n",
      " - 377s - loss: 0.0704 - acc: 0.9765 - val_loss: 0.0400 - val_acc: 0.9971\n",
      "Epoch 6/10\n",
      " - 377s - loss: 0.0705 - acc: 0.9771 - val_loss: 0.0367 - val_acc: 0.9964\n",
      "Epoch 7/10\n",
      " - 377s - loss: 0.0694 - acc: 0.9771 - val_loss: 0.0457 - val_acc: 0.9955\n",
      "Epoch 8/10\n",
      " - 377s - loss: 0.0661 - acc: 0.9782 - val_loss: 0.0467 - val_acc: 0.9953\n",
      "Epoch 9/10\n",
      " - 377s - loss: 0.0670 - acc: 0.9778 - val_loss: 0.0378 - val_acc: 0.9964\n",
      "Epoch 10/10\n",
      " - 377s - loss: 0.0703 - acc: 0.9767 - val_loss: 0.0308 - val_acc: 0.9973\n"
     ]
    },
    {
     "data": {
      "text/plain": [
       "<keras.callbacks.History at 0x7f6ad762dd30>"
      ]
     },
     "execution_count": 79,
     "metadata": {},
     "output_type": "execute_result"
    }
   ],
   "source": [
    "fc_model.fit(conv_aug_features, aug_trn_labels, batch_size=batch_size, epochs=10, \n",
    "             validation_data= (conv_val_features, val_labels), verbose=2)"
   ]
  },
  {
   "cell_type": "code",
   "execution_count": 81,
   "metadata": {},
   "outputs": [
    {
     "name": "stdout",
     "output_type": "stream",
     "text": [
      "Train on 107640 samples, validate on 4484 samples\n",
      "Epoch 1/10\n",
      " - 377s - loss: 0.0638 - acc: 0.9785 - val_loss: 0.0218 - val_acc: 0.9975\n",
      "Epoch 2/10\n",
      " - 377s - loss: 0.0659 - acc: 0.9787 - val_loss: 0.0351 - val_acc: 0.9969\n",
      "Epoch 3/10\n",
      " - 377s - loss: 0.0682 - acc: 0.9771 - val_loss: 0.0279 - val_acc: 0.9969\n",
      "Epoch 4/10\n",
      " - 377s - loss: 0.0655 - acc: 0.9785 - val_loss: 0.0665 - val_acc: 0.9944\n",
      "Epoch 5/10\n",
      " - 377s - loss: 0.0654 - acc: 0.9790 - val_loss: 0.0330 - val_acc: 0.9960\n",
      "Epoch 6/10\n",
      " - 377s - loss: 0.0609 - acc: 0.9797 - val_loss: 0.0287 - val_acc: 0.9969\n",
      "Epoch 7/10\n",
      " - 377s - loss: 0.0636 - acc: 0.9791 - val_loss: 0.0366 - val_acc: 0.9971\n",
      "Epoch 8/10\n",
      " - 377s - loss: 0.0603 - acc: 0.9798 - val_loss: 0.0299 - val_acc: 0.9969\n",
      "Epoch 9/10\n",
      " - 377s - loss: 0.0612 - acc: 0.9800 - val_loss: 0.0268 - val_acc: 0.9969\n",
      "Epoch 10/10\n",
      " - 377s - loss: 0.0586 - acc: 0.9807 - val_loss: 0.0347 - val_acc: 0.9969\n"
     ]
    },
    {
     "data": {
      "text/plain": [
       "<keras.callbacks.History at 0x7f6ad45fe898>"
      ]
     },
     "execution_count": 81,
     "metadata": {},
     "output_type": "execute_result"
    }
   ],
   "source": [
    "fc_model.fit(conv_aug_features, aug_trn_labels, batch_size=batch_size, epochs=10, \n",
    "             validation_data= (conv_val_features, val_labels), verbose=2)"
   ]
  },
  {
   "cell_type": "code",
   "execution_count": 11,
   "metadata": {
    "collapsed": true
   },
   "outputs": [],
   "source": [
    "fc_model.lr = 0.01"
   ]
  },
  {
   "cell_type": "code",
   "execution_count": 18,
   "metadata": {},
   "outputs": [
    {
     "name": "stdout",
     "output_type": "stream",
     "text": [
      "Train on 107640 samples, validate on 4484 samples\n",
      "Epoch 1/10\n",
      " - 379s - loss: 0.0614 - acc: 0.9797 - val_loss: 0.0319 - val_acc: 0.9967\n",
      "Epoch 2/10\n",
      " - 377s - loss: 0.0607 - acc: 0.9801 - val_loss: 0.0368 - val_acc: 0.9960\n",
      "Epoch 3/10\n",
      " - 377s - loss: 0.0572 - acc: 0.9807 - val_loss: 0.0335 - val_acc: 0.9973\n",
      "Epoch 4/10\n",
      " - 377s - loss: 0.0592 - acc: 0.9812 - val_loss: 0.0353 - val_acc: 0.9967\n",
      "Epoch 5/10\n",
      " - 377s - loss: 0.0573 - acc: 0.9811 - val_loss: 0.0445 - val_acc: 0.9962\n",
      "Epoch 6/10\n",
      " - 377s - loss: 0.0567 - acc: 0.9809 - val_loss: 0.0305 - val_acc: 0.9971\n",
      "Epoch 7/10\n",
      " - 378s - loss: 0.0536 - acc: 0.9822 - val_loss: 0.0329 - val_acc: 0.9971\n",
      "Epoch 8/10\n",
      " - 377s - loss: 0.0586 - acc: 0.9807 - val_loss: 0.0286 - val_acc: 0.9975\n",
      "Epoch 9/10\n",
      " - 377s - loss: 0.0538 - acc: 0.9828 - val_loss: 0.0375 - val_acc: 0.9967\n",
      "Epoch 10/10\n",
      " - 377s - loss: 0.0542 - acc: 0.9815 - val_loss: 0.0295 - val_acc: 0.9973\n"
     ]
    },
    {
     "data": {
      "text/plain": [
       "<keras.callbacks.History at 0x7fa378772898>"
      ]
     },
     "execution_count": 18,
     "metadata": {},
     "output_type": "execute_result"
    }
   ],
   "source": [
    "fc_model.fit(conv_aug_features, aug_trn_labels, batch_size=batch_size, epochs=10, \n",
    "             validation_data= (conv_val_features, val_labels), verbose=2)"
   ]
  },
  {
   "cell_type": "code",
   "execution_count": 21,
   "metadata": {
    "collapsed": true
   },
   "outputs": [],
   "source": [
    "fc_model.lr = 0.001"
   ]
  },
  {
   "cell_type": "code",
   "execution_count": 22,
   "metadata": {},
   "outputs": [
    {
     "name": "stdout",
     "output_type": "stream",
     "text": [
      "Train on 107640 samples, validate on 4484 samples\n",
      "Epoch 1/10\n",
      " - 377s - loss: 0.0551 - acc: 0.9823 - val_loss: 0.0377 - val_acc: 0.9967\n",
      "Epoch 2/10\n",
      " - 377s - loss: 0.0538 - acc: 0.9824 - val_loss: 0.0323 - val_acc: 0.9969\n",
      "Epoch 3/10\n",
      " - 377s - loss: 0.0553 - acc: 0.9815 - val_loss: 0.0443 - val_acc: 0.9962\n",
      "Epoch 4/10\n",
      " - 377s - loss: 0.0512 - acc: 0.9830 - val_loss: 0.0389 - val_acc: 0.9967\n",
      "Epoch 5/10\n",
      " - 377s - loss: 0.0508 - acc: 0.9834 - val_loss: 0.0413 - val_acc: 0.9962\n",
      "Epoch 6/10\n",
      " - 377s - loss: 0.0562 - acc: 0.9817 - val_loss: 0.0304 - val_acc: 0.9971\n",
      "Epoch 7/10\n",
      " - 377s - loss: 0.0533 - acc: 0.9823 - val_loss: 0.0340 - val_acc: 0.9971\n",
      "Epoch 8/10\n",
      " - 378s - loss: 0.0496 - acc: 0.9837 - val_loss: 0.0361 - val_acc: 0.9969\n",
      "Epoch 9/10\n",
      " - 378s - loss: 0.0506 - acc: 0.9833 - val_loss: 0.0447 - val_acc: 0.9969\n",
      "Epoch 10/10\n",
      " - 377s - loss: 0.0505 - acc: 0.9834 - val_loss: 0.0391 - val_acc: 0.9971\n"
     ]
    },
    {
     "data": {
      "text/plain": [
       "<keras.callbacks.History at 0x7fa354647588>"
      ]
     },
     "execution_count": 22,
     "metadata": {},
     "output_type": "execute_result"
    }
   ],
   "source": [
    "fc_model.fit(conv_aug_features, aug_trn_labels, batch_size=batch_size, epochs=10, \n",
    "             validation_data= (conv_val_features, val_labels), verbose=2)"
   ]
  },
  {
   "cell_type": "code",
   "execution_count": 25,
   "metadata": {
    "collapsed": true
   },
   "outputs": [],
   "source": [
    "fc_model.lr = 0.0001"
   ]
  },
  {
   "cell_type": "code",
   "execution_count": 26,
   "metadata": {},
   "outputs": [
    {
     "name": "stdout",
     "output_type": "stream",
     "text": [
      "Train on 107640 samples, validate on 4484 samples\n",
      "Epoch 1/10\n",
      " - 377s - loss: 0.0496 - acc: 0.9834 - val_loss: 0.0294 - val_acc: 0.9973\n",
      "Epoch 2/10\n",
      " - 377s - loss: 0.0510 - acc: 0.9829 - val_loss: 0.0363 - val_acc: 0.9967\n",
      "Epoch 3/10\n",
      " - 377s - loss: 0.0490 - acc: 0.9840 - val_loss: 0.0350 - val_acc: 0.9969\n",
      "Epoch 4/10\n",
      " - 377s - loss: 0.0490 - acc: 0.9836 - val_loss: 0.0390 - val_acc: 0.9967\n",
      "Epoch 5/10\n",
      " - 377s - loss: 0.0491 - acc: 0.9839 - val_loss: 0.0436 - val_acc: 0.9964\n",
      "Epoch 6/10\n",
      " - 377s - loss: 0.0489 - acc: 0.9844 - val_loss: 0.0364 - val_acc: 0.9964\n",
      "Epoch 7/10\n",
      " - 377s - loss: 0.0475 - acc: 0.9838 - val_loss: 0.0416 - val_acc: 0.9967\n",
      "Epoch 8/10\n",
      " - 377s - loss: 0.0458 - acc: 0.9849 - val_loss: 0.0385 - val_acc: 0.9964\n",
      "Epoch 9/10\n",
      " - 378s - loss: 0.0478 - acc: 0.9847 - val_loss: 0.0352 - val_acc: 0.9969\n",
      "Epoch 10/10\n",
      " - 377s - loss: 0.0464 - acc: 0.9844 - val_loss: 0.0427 - val_acc: 0.9962\n"
     ]
    },
    {
     "data": {
      "text/plain": [
       "<keras.callbacks.History at 0x7fa379385f98>"
      ]
     },
     "execution_count": 26,
     "metadata": {},
     "output_type": "execute_result"
    }
   ],
   "source": [
    "fc_model.fit(conv_aug_features, aug_trn_labels, batch_size=batch_size, epochs=10, \n",
    "             validation_data= (conv_val_features, val_labels), verbose=2)"
   ]
  },
  {
   "cell_type": "code",
   "execution_count": 29,
   "metadata": {
    "collapsed": true
   },
   "outputs": [],
   "source": [
    "fc_model.lr = 1e-5"
   ]
  },
  {
   "cell_type": "code",
   "execution_count": 30,
   "metadata": {},
   "outputs": [
    {
     "name": "stdout",
     "output_type": "stream",
     "text": [
      "Train on 107640 samples, validate on 4484 samples\n",
      "Epoch 1/10\n",
      " - 377s - loss: 0.0454 - acc: 0.9852 - val_loss: 0.0396 - val_acc: 0.9962\n",
      "Epoch 2/10\n",
      " - 377s - loss: 0.0486 - acc: 0.9842 - val_loss: 0.0473 - val_acc: 0.9960\n",
      "Epoch 3/10\n",
      " - 377s - loss: 0.0505 - acc: 0.9840 - val_loss: 0.0420 - val_acc: 0.9971\n",
      "Epoch 4/10\n",
      " - 377s - loss: 0.0438 - acc: 0.9856 - val_loss: 0.0440 - val_acc: 0.9962\n",
      "Epoch 5/10\n",
      " - 377s - loss: 0.0468 - acc: 0.9846 - val_loss: 0.0330 - val_acc: 0.9971\n",
      "Epoch 6/10\n",
      " - 377s - loss: 0.0483 - acc: 0.9843 - val_loss: 0.0330 - val_acc: 0.9971\n",
      "Epoch 7/10\n",
      " - 377s - loss: 0.0424 - acc: 0.9860 - val_loss: 0.0436 - val_acc: 0.9967\n",
      "Epoch 8/10\n",
      " - 377s - loss: 0.0435 - acc: 0.9855 - val_loss: 0.0342 - val_acc: 0.9967\n",
      "Epoch 9/10\n",
      " - 377s - loss: 0.0454 - acc: 0.9851 - val_loss: 0.0461 - val_acc: 0.9964\n",
      "Epoch 10/10\n",
      " - 377s - loss: 0.0432 - acc: 0.9862 - val_loss: 0.0388 - val_acc: 0.9964\n"
     ]
    },
    {
     "data": {
      "text/plain": [
       "<keras.callbacks.History at 0x7fa37a10b320>"
      ]
     },
     "execution_count": 30,
     "metadata": {},
     "output_type": "execute_result"
    }
   ],
   "source": [
    "fc_model.fit(conv_aug_features, aug_trn_labels, batch_size=batch_size, epochs=10, \n",
    "             validation_data= (conv_val_features, val_labels), verbose=2)"
   ]
  },
  {
   "cell_type": "code",
   "execution_count": 33,
   "metadata": {
    "collapsed": true
   },
   "outputs": [],
   "source": [
    "model_name = 'Vgg16BN-ted'\n",
    "sub_model_name = 'fc-model'\n",
    "fc_model.save_weights(model_path + model_name + '_' + sub_model_name + '_dropout1.h5')"
   ]
  },
  {
   "cell_type": "code",
   "execution_count": 15,
   "metadata": {
    "collapsed": true
   },
   "outputs": [],
   "source": [
    "model_name = 'Vgg16BN-ted'\n",
    "sub_model_name = 'fc-model'\n",
    "fc_model.load_weights(model_path + model_name + '_' + sub_model_name + '_dropout1.h5')"
   ]
  },
  {
   "cell_type": "code",
   "execution_count": null,
   "metadata": {
    "collapsed": true
   },
   "outputs": [],
   "source": []
  },
  {
   "cell_type": "markdown",
   "metadata": {
    "heading_collapsed": true
   },
   "source": [
    "### 2.5 Add finetuned FC model weigths back to complete VGG model"
   ]
  },
  {
   "cell_type": "code",
   "execution_count": 92,
   "metadata": {},
   "outputs": [
    {
     "name": "stdout",
     "output_type": "stream",
     "text": [
      "Found 17940 images belonging to 10 classes.\n"
     ]
    }
   ],
   "source": [
    "vgg = Vgg16BN(size=(256, 256))\n",
    "vgg.finetune(vgg.get_batches(train_path, shuffle=False, batch_size=batch_size))\n",
    "#vgg.set_dropout(0.6)\n",
    "model = vgg.model "
   ]
  },
  {
   "cell_type": "code",
   "execution_count": 93,
   "metadata": {
    "collapsed": true
   },
   "outputs": [],
   "source": [
    "flatten_idx = [idx for idx, layer in enumerate(model.layers) if type(layer)==Flatten][0]\n",
    "for l1, l2 in zip(model.layers[flatten_idx:], fc_model.layers):\n",
    "    l1.set_weights(l2.get_weights())"
   ]
  },
  {
   "cell_type": "code",
   "execution_count": 94,
   "metadata": {
    "collapsed": true
   },
   "outputs": [],
   "source": [
    "model_name = 'Vgg16BN-ted'\n",
    "sub_model_name = ''\n",
    "#model.save_weights(model_path + model_name + '_dropout1.h5')\n",
    "model.save_weights(model_path + model_name + '_aug1.h5')"
   ]
  },
  {
   "cell_type": "code",
   "execution_count": 95,
   "metadata": {
    "collapsed": true
   },
   "outputs": [],
   "source": [
    "model_name = 'Vgg16BN-ted'\n",
    "sub_model_name = ''\n",
    "#model.load_weights(model_path + model_name + '_dropout1.h5')\n",
    "model.load_weights(model_path + model_name + '_aug1.h5')"
   ]
  },
  {
   "cell_type": "markdown",
   "metadata": {
    "heading_collapsed": true
   },
   "source": [
    "### 2.6 Pseudo labeling"
   ]
  },
  {
   "cell_type": "markdown",
   "metadata": {},
   "source": [
    "#### The rule of thumb is ¼ ~ 1/3 of your batches be peudo-labeling. \n",
    "#### Setup: put pseudo labeling on unlabeled test data and add to training set by 1:1"
   ]
  },
  {
   "cell_type": "markdown",
   "metadata": {},
   "source": [
    "#### Setup Models"
   ]
  },
  {
   "cell_type": "code",
   "execution_count": 73,
   "metadata": {},
   "outputs": [
    {
     "name": "stdout",
     "output_type": "stream",
     "text": [
      "Found 17940 images belonging to 10 classes.\n"
     ]
    }
   ],
   "source": [
    "vgg = Vgg16BN(size=(256, 256))\n",
    "#Finetune the model\n",
    "vgg.finetune(vgg.get_batches(train_path, shuffle=False, batch_size=batch_size))\n",
    "#vgg.set_dropout(0.6)\n",
    "model = vgg.model\n",
    "\n",
    "model_name = 'Vgg16BN-ted'\n",
    "sub_model_name = ''\n",
    "#model.load_weights(model_path + model_name + '_dropout1.h5')\n",
    "model.load_weights(model_path + model_name + '_aug1.h5')"
   ]
  },
  {
   "cell_type": "markdown",
   "metadata": {},
   "source": [
    "#### Setup Batches"
   ]
  },
  {
   "cell_type": "code",
   "execution_count": 67,
   "metadata": {
    "collapsed": true
   },
   "outputs": [],
   "source": [
    "### Method A: Inference from FC model (Faster)\n",
    "\"\"\"\n",
    "model_name = 'Vgg16BN-ted'\n",
    "sub_model_name = 'fc-model'\n",
    "fc_model.load_weights(model_path + model_name + '_' + sub_model_name + '_dropout1.h5')\n",
    "test_pseudo_labels = fc_model.predict(conv_test_features, batch_size=batch_size*2)\n",
    "\n",
    "### Method B: Inference from full vgg model (Easier)\n",
    "test_pseudo_labels = model.predict(test_data, batch_size=batch_size*2)\n",
    "\"\"\""
   ]
  },
  {
   "cell_type": "code",
   "execution_count": 96,
   "metadata": {},
   "outputs": [
    {
     "name": "stdout",
     "output_type": "stream",
     "text": [
      "Found 17940 images belonging to 10 classes.\n",
      "Found 79726 images belonging to 1 classes.\n",
      "Found 4484 images belonging to 10 classes.\n"
     ]
    }
   ],
   "source": [
    "gen_aug = image.ImageDataGenerator(rotation_range=28., width_shift_range=0.15, height_shift_range=0.08, \n",
    "                                       shear_range=0.3, zoom_range=0.18, channel_shift_range=30.,\n",
    "                                       horizontal_flip=True)\n",
    "gen = image.ImageDataGenerator()\n",
    "\n",
    "batches = vgg.get_batches(train_path, gen_aug, batch_size=batch_size*3//4)\n",
    "#pseudolabel_batches = gen.flow(test_data, test_pseudo_labels, batch_size=batch_size//4) # need test_data but too big to cause memory error\n",
    "pseudolabel_batches = PseudoLabelGenerator(vgg.get_batches(test_path, shuffle=False, batch_size=batch_size//4), model)\n",
    "\n",
    "val_batches = vgg.get_batches(valid_path, shuffle=False, batch_size=batch_size)"
   ]
  },
  {
   "cell_type": "code",
   "execution_count": 97,
   "metadata": {},
   "outputs": [
    {
     "data": {
      "text/plain": [
       "((16, 3, 256, 256), (16, 10))"
      ]
     },
     "execution_count": 97,
     "metadata": {},
     "output_type": "execute_result"
    }
   ],
   "source": [
    "next(pseudolabel_batches)[0].shape, next(pseudolabel_batches)[1].shape"
   ]
  },
  {
   "cell_type": "code",
   "execution_count": 98,
   "metadata": {},
   "outputs": [
    {
     "data": {
      "text/plain": [
       "((48, 3, 256, 256), (48, 10))"
      ]
     },
     "execution_count": 98,
     "metadata": {},
     "output_type": "execute_result"
    }
   ],
   "source": [
    "next(batches)[0].shape, next(batches)[1].shape"
   ]
  },
  {
   "cell_type": "code",
   "execution_count": 77,
   "metadata": {},
   "outputs": [
    {
     "data": {
      "text/plain": [
       "((16, 3, 256, 256), (16, 10))"
      ]
     },
     "execution_count": 77,
     "metadata": {},
     "output_type": "execute_result"
    }
   ],
   "source": [
    "next(pseudolabel_batches)[0].shape, next(pseudolabel_batches)[1].shape"
   ]
  },
  {
   "cell_type": "code",
   "execution_count": 101,
   "metadata": {},
   "outputs": [
    {
     "name": "stdout",
     "output_type": "stream",
     "text": [
      "8\n",
      "[  1.68771912e-08   1.09659042e-04   5.29243127e-02   9.69923517e-11\n",
      "   2.87791319e-12   4.97116623e-08   1.40394886e-05   2.20314522e-12\n",
      "   9.46947038e-01   4.87546231e-06]\n"
     ]
    },
    {
     "data": {
      "image/png": "[encoded data removed]",
      "text/plain": [
       "<matplotlib.figure.Figure at 0x7f1124d74ef0>"
      ]
     },
     "metadata": {},
     "output_type": "display_data"
    }
   ],
   "source": [
    "i = 1\n",
    "plt.imshow(np.array(next(pseudolabel_batches)[0][i]).astype(np.uint8).transpose((1,2,0)))\n",
    "print(np.argmax(next(pseudolabel_batches)[1][i]))\n",
    "print(next(pseudolabel_batches)[1][i])"
   ]
  },
  {
   "cell_type": "code",
   "execution_count": 47,
   "metadata": {},
   "outputs": [
    {
     "data": {
      "image/png": "[encoded data removed]",
      "text/plain": [
       "<matplotlib.figure.Figure at 0x7f10d3244518>"
      ]
     },
     "metadata": {},
     "output_type": "display_data"
    }
   ],
   "source": [
    "#plots(next(batches)[0], rows=4)\n",
    "plots(next(pseudolabel_batches)[0], rows=4)"
   ]
  },
  {
   "cell_type": "code",
   "execution_count": 10,
   "metadata": {},
   "outputs": [
    {
     "data": {
      "text/plain": [
       "(17940, 79726, 48, 16)"
      ]
     },
     "execution_count": 10,
     "metadata": {},
     "output_type": "execute_result"
    }
   ],
   "source": [
    "batches.n, pseudolabel_batches.n, batches.batch_size, pseudolabel_batches.batch_size"
   ]
  },
  {
   "cell_type": "code",
   "execution_count": 11,
   "metadata": {
    "collapsed": true
   },
   "outputs": [],
   "source": [
    "mix_pseudolabel_batches = MixIterator([batches, pseudolabel_batches])"
   ]
  },
  {
   "cell_type": "code",
   "execution_count": 12,
   "metadata": {},
   "outputs": [
    {
     "data": {
      "text/plain": [
       "(97666, 64, 4983)"
      ]
     },
     "execution_count": 12,
     "metadata": {},
     "output_type": "execute_result"
    }
   ],
   "source": [
    "mix_pseudolabel_batches.n, mix_pseudolabel_batches.batch_size, mix_pseudolabel_batches.steps_per_epoch"
   ]
  },
  {
   "cell_type": "markdown",
   "metadata": {},
   "source": [
    "#### Model Tuning"
   ]
  },
  {
   "cell_type": "code",
   "execution_count": 16,
   "metadata": {},
   "outputs": [
    {
     "name": "stdout",
     "output_type": "stream",
     "text": [
      "Epoch 1/2\n",
      " - 6223s - loss: 2.1480 - acc: 0.3915 - val_loss: 3.0645 - val_acc: 0.7890\n",
      "Epoch 2/2\n",
      " - 6051s - loss: 1.7109 - acc: 0.4407 - val_loss: 3.0413 - val_acc: 0.7509\n"
     ]
    },
    {
     "data": {
      "text/plain": [
       "<keras.callbacks.History at 0x7f0c3e24b518>"
      ]
     },
     "execution_count": 16,
     "metadata": {},
     "output_type": "execute_result"
    }
   ],
   "source": [
    "model.fit_generator(mix_pseudolabel_batches, steps_per_epoch=mix_pseudolabel_batches.steps_per_epoch, \n",
    "                    epochs=2, verbose=2,\n",
    "                    validation_data=val_batches, validation_steps=ceil(val_batches.n/val_batches.batch_size))"
   ]
  },
  {
   "cell_type": "code",
   "execution_count": 17,
   "metadata": {
    "collapsed": true
   },
   "outputs": [],
   "source": [
    "model_name = 'Vgg16BN-ted'\n",
    "sub_model_name = ''\n",
    "model.save_weights(model_path + model_name + '_dropout1_pseudolabel1.h5')"
   ]
  },
  {
   "cell_type": "code",
   "execution_count": 13,
   "metadata": {
    "collapsed": true
   },
   "outputs": [],
   "source": [
    "model_name = 'Vgg16BN-ted'\n",
    "sub_model_name = ''\n",
    "model.load_weights(model_path + model_name + '_dropout1_pseudolabel1.h5')"
   ]
  },
  {
   "cell_type": "code",
   "execution_count": 14,
   "metadata": {
    "collapsed": true
   },
   "outputs": [],
   "source": [
    "model.lr = 1"
   ]
  },
  {
   "cell_type": "code",
   "execution_count": 15,
   "metadata": {},
   "outputs": [
    {
     "name": "stdout",
     "output_type": "stream",
     "text": [
      "Epoch 1/5\n",
      " - 6184s - loss: 1.7051 - acc: 0.4458 - val_loss: 2.9665 - val_acc: 0.7489\n",
      "Epoch 2/5\n",
      " - 6011s - loss: 1.6987 - acc: 0.4467 - val_loss: 3.8156 - val_acc: 0.6905\n",
      "Epoch 3/5\n"
     ]
    },
    {
     "ename": "KeyboardInterrupt",
     "evalue": "",
     "output_type": "error",
     "traceback": [
      "\u001b[0;31m---------------------------------------------------------------------------\u001b[0m",
      "\u001b[0;31mKeyboardInterrupt\u001b[0m                         Traceback (most recent call last)",
      "\u001b[0;32m<ipython-input-15-7dfac3d658d2>\u001b[0m in \u001b[0;36m<module>\u001b[0;34m()\u001b[0m\n\u001b[1;32m      1\u001b[0m model.fit_generator(mix_pseudolabel_batches, steps_per_epoch=mix_pseudolabel_batches.steps_per_epoch, \n\u001b[1;32m      2\u001b[0m                     \u001b[0mepochs\u001b[0m\u001b[0;34m=\u001b[0m\u001b[0;36m5\u001b[0m\u001b[0;34m,\u001b[0m \u001b[0mverbose\u001b[0m\u001b[0;34m=\u001b[0m\u001b[0;36m2\u001b[0m\u001b[0;34m,\u001b[0m\u001b[0;34m\u001b[0m\u001b[0m\n\u001b[0;32m----> 3\u001b[0;31m                     validation_data=val_batches, validation_steps=ceil(val_batches.n/val_batches.batch_size))\n\u001b[0m",
      "\u001b[0;32m~/anaconda3/lib/python3.6/site-packages/keras/legacy/interfaces.py\u001b[0m in \u001b[0;36mwrapper\u001b[0;34m(*args, **kwargs)\u001b[0m\n\u001b[1;32m     85\u001b[0m                 warnings.warn('Update your `' + object_name +\n\u001b[1;32m     86\u001b[0m                               '` call to the Keras 2 API: ' + signature, stacklevel=2)\n\u001b[0;32m---> 87\u001b[0;31m             \u001b[0;32mreturn\u001b[0m \u001b[0mfunc\u001b[0m\u001b[0;34m(\u001b[0m\u001b[0;34m*\u001b[0m\u001b[0margs\u001b[0m\u001b[0;34m,\u001b[0m \u001b[0;34m**\u001b[0m\u001b[0mkwargs\u001b[0m\u001b[0;34m)\u001b[0m\u001b[0;34m\u001b[0m\u001b[0m\n\u001b[0m\u001b[1;32m     88\u001b[0m         \u001b[0mwrapper\u001b[0m\u001b[0;34m.\u001b[0m\u001b[0m_original_function\u001b[0m \u001b[0;34m=\u001b[0m \u001b[0mfunc\u001b[0m\u001b[0;34m\u001b[0m\u001b[0m\n\u001b[1;32m     89\u001b[0m         \u001b[0;32mreturn\u001b[0m \u001b[0mwrapper\u001b[0m\u001b[0;34m\u001b[0m\u001b[0m\n",
      "\u001b[0;32m~/anaconda3/lib/python3.6/site-packages/keras/models.py\u001b[0m in \u001b[0;36mfit_generator\u001b[0;34m(self, generator, steps_per_epoch, epochs, verbose, callbacks, validation_data, validation_steps, class_weight, max_queue_size, workers, use_multiprocessing, shuffle, initial_epoch)\u001b[0m\n\u001b[1;32m   1154\u001b[0m                                         \u001b[0muse_multiprocessing\u001b[0m\u001b[0;34m=\u001b[0m\u001b[0muse_multiprocessing\u001b[0m\u001b[0;34m,\u001b[0m\u001b[0;34m\u001b[0m\u001b[0m\n\u001b[1;32m   1155\u001b[0m                                         \u001b[0mshuffle\u001b[0m\u001b[0;34m=\u001b[0m\u001b[0mshuffle\u001b[0m\u001b[0;34m,\u001b[0m\u001b[0;34m\u001b[0m\u001b[0m\n\u001b[0;32m-> 1156\u001b[0;31m                                         initial_epoch=initial_epoch)\n\u001b[0m\u001b[1;32m   1157\u001b[0m \u001b[0;34m\u001b[0m\u001b[0m\n\u001b[1;32m   1158\u001b[0m     \u001b[0;34m@\u001b[0m\u001b[0minterfaces\u001b[0m\u001b[0;34m.\u001b[0m\u001b[0mlegacy_generator_methods_support\u001b[0m\u001b[0;34m\u001b[0m\u001b[0m\n",
      "\u001b[0;32m~/anaconda3/lib/python3.6/site-packages/keras/legacy/interfaces.py\u001b[0m in \u001b[0;36mwrapper\u001b[0;34m(*args, **kwargs)\u001b[0m\n\u001b[1;32m     85\u001b[0m                 warnings.warn('Update your `' + object_name +\n\u001b[1;32m     86\u001b[0m                               '` call to the Keras 2 API: ' + signature, stacklevel=2)\n\u001b[0;32m---> 87\u001b[0;31m             \u001b[0;32mreturn\u001b[0m \u001b[0mfunc\u001b[0m\u001b[0;34m(\u001b[0m\u001b[0;34m*\u001b[0m\u001b[0margs\u001b[0m\u001b[0;34m,\u001b[0m \u001b[0;34m**\u001b[0m\u001b[0mkwargs\u001b[0m\u001b[0;34m)\u001b[0m\u001b[0;34m\u001b[0m\u001b[0m\n\u001b[0m\u001b[1;32m     88\u001b[0m         \u001b[0mwrapper\u001b[0m\u001b[0;34m.\u001b[0m\u001b[0m_original_function\u001b[0m \u001b[0;34m=\u001b[0m \u001b[0mfunc\u001b[0m\u001b[0;34m\u001b[0m\u001b[0m\n\u001b[1;32m     89\u001b[0m         \u001b[0;32mreturn\u001b[0m \u001b[0mwrapper\u001b[0m\u001b[0;34m\u001b[0m\u001b[0m\n",
      "\u001b[0;32m~/anaconda3/lib/python3.6/site-packages/keras/engine/training.py\u001b[0m in \u001b[0;36mfit_generator\u001b[0;34m(self, generator, steps_per_epoch, epochs, verbose, callbacks, validation_data, validation_steps, class_weight, max_queue_size, workers, use_multiprocessing, shuffle, initial_epoch)\u001b[0m\n\u001b[1;32m   2075\u001b[0m                     outs = self.train_on_batch(x, y,\n\u001b[1;32m   2076\u001b[0m                                                \u001b[0msample_weight\u001b[0m\u001b[0;34m=\u001b[0m\u001b[0msample_weight\u001b[0m\u001b[0;34m,\u001b[0m\u001b[0;34m\u001b[0m\u001b[0m\n\u001b[0;32m-> 2077\u001b[0;31m                                                class_weight=class_weight)\n\u001b[0m\u001b[1;32m   2078\u001b[0m \u001b[0;34m\u001b[0m\u001b[0m\n\u001b[1;32m   2079\u001b[0m                     \u001b[0;32mif\u001b[0m \u001b[0;32mnot\u001b[0m \u001b[0misinstance\u001b[0m\u001b[0;34m(\u001b[0m\u001b[0mouts\u001b[0m\u001b[0;34m,\u001b[0m \u001b[0mlist\u001b[0m\u001b[0;34m)\u001b[0m\u001b[0;34m:\u001b[0m\u001b[0;34m\u001b[0m\u001b[0m\n",
      "\u001b[0;32m~/anaconda3/lib/python3.6/site-packages/keras/engine/training.py\u001b[0m in \u001b[0;36mtrain_on_batch\u001b[0;34m(self, x, y, sample_weight, class_weight)\u001b[0m\n\u001b[1;32m   1795\u001b[0m             \u001b[0mins\u001b[0m \u001b[0;34m=\u001b[0m \u001b[0mx\u001b[0m \u001b[0;34m+\u001b[0m \u001b[0my\u001b[0m \u001b[0;34m+\u001b[0m \u001b[0msample_weights\u001b[0m\u001b[0;34m\u001b[0m\u001b[0m\n\u001b[1;32m   1796\u001b[0m         \u001b[0mself\u001b[0m\u001b[0;34m.\u001b[0m\u001b[0m_make_train_function\u001b[0m\u001b[0;34m(\u001b[0m\u001b[0;34m)\u001b[0m\u001b[0;34m\u001b[0m\u001b[0m\n\u001b[0;32m-> 1797\u001b[0;31m         \u001b[0moutputs\u001b[0m \u001b[0;34m=\u001b[0m \u001b[0mself\u001b[0m\u001b[0;34m.\u001b[0m\u001b[0mtrain_function\u001b[0m\u001b[0;34m(\u001b[0m\u001b[0mins\u001b[0m\u001b[0;34m)\u001b[0m\u001b[0;34m\u001b[0m\u001b[0m\n\u001b[0m\u001b[1;32m   1798\u001b[0m         \u001b[0;32mif\u001b[0m \u001b[0mlen\u001b[0m\u001b[0;34m(\u001b[0m\u001b[0moutputs\u001b[0m\u001b[0;34m)\u001b[0m \u001b[0;34m==\u001b[0m \u001b[0;36m1\u001b[0m\u001b[0;34m:\u001b[0m\u001b[0;34m\u001b[0m\u001b[0m\n\u001b[1;32m   1799\u001b[0m             \u001b[0;32mreturn\u001b[0m \u001b[0moutputs\u001b[0m\u001b[0;34m[\u001b[0m\u001b[0;36m0\u001b[0m\u001b[0;34m]\u001b[0m\u001b[0;34m\u001b[0m\u001b[0m\n",
      "\u001b[0;32m~/anaconda3/lib/python3.6/site-packages/keras/backend/tensorflow_backend.py\u001b[0m in \u001b[0;36m__call__\u001b[0;34m(self, inputs)\u001b[0m\n\u001b[1;32m   2330\u001b[0m         updated = session.run(self.outputs + [self.updates_op],\n\u001b[1;32m   2331\u001b[0m                               \u001b[0mfeed_dict\u001b[0m\u001b[0;34m=\u001b[0m\u001b[0mfeed_dict\u001b[0m\u001b[0;34m,\u001b[0m\u001b[0;34m\u001b[0m\u001b[0m\n\u001b[0;32m-> 2332\u001b[0;31m                               **self.session_kwargs)\n\u001b[0m\u001b[1;32m   2333\u001b[0m         \u001b[0;32mreturn\u001b[0m \u001b[0mupdated\u001b[0m\u001b[0;34m[\u001b[0m\u001b[0;34m:\u001b[0m\u001b[0mlen\u001b[0m\u001b[0;34m(\u001b[0m\u001b[0mself\u001b[0m\u001b[0;34m.\u001b[0m\u001b[0moutputs\u001b[0m\u001b[0;34m)\u001b[0m\u001b[0;34m]\u001b[0m\u001b[0;34m\u001b[0m\u001b[0m\n\u001b[1;32m   2334\u001b[0m \u001b[0;34m\u001b[0m\u001b[0m\n",
      "\u001b[0;32m~/anaconda3/lib/python3.6/site-packages/tensorflow/python/client/session.py\u001b[0m in \u001b[0;36mrun\u001b[0;34m(self, fetches, feed_dict, options, run_metadata)\u001b[0m\n\u001b[1;32m    887\u001b[0m     \u001b[0;32mtry\u001b[0m\u001b[0;34m:\u001b[0m\u001b[0;34m\u001b[0m\u001b[0m\n\u001b[1;32m    888\u001b[0m       result = self._run(None, fetches, feed_dict, options_ptr,\n\u001b[0;32m--> 889\u001b[0;31m                          run_metadata_ptr)\n\u001b[0m\u001b[1;32m    890\u001b[0m       \u001b[0;32mif\u001b[0m \u001b[0mrun_metadata\u001b[0m\u001b[0;34m:\u001b[0m\u001b[0;34m\u001b[0m\u001b[0m\n\u001b[1;32m    891\u001b[0m         \u001b[0mproto_data\u001b[0m \u001b[0;34m=\u001b[0m \u001b[0mtf_session\u001b[0m\u001b[0;34m.\u001b[0m\u001b[0mTF_GetBuffer\u001b[0m\u001b[0;34m(\u001b[0m\u001b[0mrun_metadata_ptr\u001b[0m\u001b[0;34m)\u001b[0m\u001b[0;34m\u001b[0m\u001b[0m\n",
      "\u001b[0;32m~/anaconda3/lib/python3.6/site-packages/tensorflow/python/client/session.py\u001b[0m in \u001b[0;36m_run\u001b[0;34m(self, handle, fetches, feed_dict, options, run_metadata)\u001b[0m\n\u001b[1;32m   1118\u001b[0m     \u001b[0;32mif\u001b[0m \u001b[0mfinal_fetches\u001b[0m \u001b[0;32mor\u001b[0m \u001b[0mfinal_targets\u001b[0m \u001b[0;32mor\u001b[0m \u001b[0;34m(\u001b[0m\u001b[0mhandle\u001b[0m \u001b[0;32mand\u001b[0m \u001b[0mfeed_dict_tensor\u001b[0m\u001b[0;34m)\u001b[0m\u001b[0;34m:\u001b[0m\u001b[0;34m\u001b[0m\u001b[0m\n\u001b[1;32m   1119\u001b[0m       results = self._do_run(handle, final_targets, final_fetches,\n\u001b[0;32m-> 1120\u001b[0;31m                              feed_dict_tensor, options, run_metadata)\n\u001b[0m\u001b[1;32m   1121\u001b[0m     \u001b[0;32melse\u001b[0m\u001b[0;34m:\u001b[0m\u001b[0;34m\u001b[0m\u001b[0m\n\u001b[1;32m   1122\u001b[0m       \u001b[0mresults\u001b[0m \u001b[0;34m=\u001b[0m \u001b[0;34m[\u001b[0m\u001b[0;34m]\u001b[0m\u001b[0;34m\u001b[0m\u001b[0m\n",
      "\u001b[0;32m~/anaconda3/lib/python3.6/site-packages/tensorflow/python/client/session.py\u001b[0m in \u001b[0;36m_do_run\u001b[0;34m(self, handle, target_list, fetch_list, feed_dict, options, run_metadata)\u001b[0m\n\u001b[1;32m   1315\u001b[0m     \u001b[0;32mif\u001b[0m \u001b[0mhandle\u001b[0m \u001b[0;32mis\u001b[0m \u001b[0;32mNone\u001b[0m\u001b[0;34m:\u001b[0m\u001b[0;34m\u001b[0m\u001b[0m\n\u001b[1;32m   1316\u001b[0m       return self._do_call(_run_fn, self._session, feeds, fetches, targets,\n\u001b[0;32m-> 1317\u001b[0;31m                            options, run_metadata)\n\u001b[0m\u001b[1;32m   1318\u001b[0m     \u001b[0;32melse\u001b[0m\u001b[0;34m:\u001b[0m\u001b[0;34m\u001b[0m\u001b[0m\n\u001b[1;32m   1319\u001b[0m       \u001b[0;32mreturn\u001b[0m \u001b[0mself\u001b[0m\u001b[0;34m.\u001b[0m\u001b[0m_do_call\u001b[0m\u001b[0;34m(\u001b[0m\u001b[0m_prun_fn\u001b[0m\u001b[0;34m,\u001b[0m \u001b[0mself\u001b[0m\u001b[0;34m.\u001b[0m\u001b[0m_session\u001b[0m\u001b[0;34m,\u001b[0m \u001b[0mhandle\u001b[0m\u001b[0;34m,\u001b[0m \u001b[0mfeeds\u001b[0m\u001b[0;34m,\u001b[0m \u001b[0mfetches\u001b[0m\u001b[0;34m)\u001b[0m\u001b[0;34m\u001b[0m\u001b[0m\n",
      "\u001b[0;32m~/anaconda3/lib/python3.6/site-packages/tensorflow/python/client/session.py\u001b[0m in \u001b[0;36m_do_call\u001b[0;34m(self, fn, *args)\u001b[0m\n\u001b[1;32m   1321\u001b[0m   \u001b[0;32mdef\u001b[0m \u001b[0m_do_call\u001b[0m\u001b[0;34m(\u001b[0m\u001b[0mself\u001b[0m\u001b[0;34m,\u001b[0m \u001b[0mfn\u001b[0m\u001b[0;34m,\u001b[0m \u001b[0;34m*\u001b[0m\u001b[0margs\u001b[0m\u001b[0;34m)\u001b[0m\u001b[0;34m:\u001b[0m\u001b[0;34m\u001b[0m\u001b[0m\n\u001b[1;32m   1322\u001b[0m     \u001b[0;32mtry\u001b[0m\u001b[0;34m:\u001b[0m\u001b[0;34m\u001b[0m\u001b[0m\n\u001b[0;32m-> 1323\u001b[0;31m       \u001b[0;32mreturn\u001b[0m \u001b[0mfn\u001b[0m\u001b[0;34m(\u001b[0m\u001b[0;34m*\u001b[0m\u001b[0margs\u001b[0m\u001b[0;34m)\u001b[0m\u001b[0;34m\u001b[0m\u001b[0m\n\u001b[0m\u001b[1;32m   1324\u001b[0m     \u001b[0;32mexcept\u001b[0m \u001b[0merrors\u001b[0m\u001b[0;34m.\u001b[0m\u001b[0mOpError\u001b[0m \u001b[0;32mas\u001b[0m \u001b[0me\u001b[0m\u001b[0;34m:\u001b[0m\u001b[0;34m\u001b[0m\u001b[0m\n\u001b[1;32m   1325\u001b[0m       \u001b[0mmessage\u001b[0m \u001b[0;34m=\u001b[0m \u001b[0mcompat\u001b[0m\u001b[0;34m.\u001b[0m\u001b[0mas_text\u001b[0m\u001b[0;34m(\u001b[0m\u001b[0me\u001b[0m\u001b[0;34m.\u001b[0m\u001b[0mmessage\u001b[0m\u001b[0;34m)\u001b[0m\u001b[0;34m\u001b[0m\u001b[0m\n",
      "\u001b[0;32m~/anaconda3/lib/python3.6/site-packages/tensorflow/python/client/session.py\u001b[0m in \u001b[0;36m_run_fn\u001b[0;34m(session, feed_dict, fetch_list, target_list, options, run_metadata)\u001b[0m\n\u001b[1;32m   1300\u001b[0m           return tf_session.TF_Run(session, options,\n\u001b[1;32m   1301\u001b[0m                                    \u001b[0mfeed_dict\u001b[0m\u001b[0;34m,\u001b[0m \u001b[0mfetch_list\u001b[0m\u001b[0;34m,\u001b[0m \u001b[0mtarget_list\u001b[0m\u001b[0;34m,\u001b[0m\u001b[0;34m\u001b[0m\u001b[0m\n\u001b[0;32m-> 1302\u001b[0;31m                                    status, run_metadata)\n\u001b[0m\u001b[1;32m   1303\u001b[0m \u001b[0;34m\u001b[0m\u001b[0m\n\u001b[1;32m   1304\u001b[0m     \u001b[0;32mdef\u001b[0m \u001b[0m_prun_fn\u001b[0m\u001b[0;34m(\u001b[0m\u001b[0msession\u001b[0m\u001b[0;34m,\u001b[0m \u001b[0mhandle\u001b[0m\u001b[0;34m,\u001b[0m \u001b[0mfeed_dict\u001b[0m\u001b[0;34m,\u001b[0m \u001b[0mfetch_list\u001b[0m\u001b[0;34m)\u001b[0m\u001b[0;34m:\u001b[0m\u001b[0;34m\u001b[0m\u001b[0m\n",
      "\u001b[0;31mKeyboardInterrupt\u001b[0m: "
     ]
    }
   ],
   "source": [
    "model.fit_generator(mix_pseudolabel_batches, steps_per_epoch=mix_pseudolabel_batches.steps_per_epoch, \n",
    "                    epochs=5, verbose=2,\n",
    "                    validation_data=val_batches, validation_steps=ceil(val_batches.n/val_batches.batch_size))"
   ]
  },
  {
   "cell_type": "code",
   "execution_count": null,
   "metadata": {
    "collapsed": true
   },
   "outputs": [],
   "source": [
    "model_name = 'Vgg16BN-ted'\n",
    "sub_model_name = ''\n",
    "model.save_weights(model_path + model_name + '_dropout1_pseudolabel1.h5')"
   ]
  },
  {
   "cell_type": "code",
   "execution_count": null,
   "metadata": {
    "collapsed": true
   },
   "outputs": [],
   "source": [
    "model_name = 'Vgg16BN-ted'\n",
    "sub_model_name = ''\n",
    "model.load_weights(model_path + model_name + '_dropout1_pseudolabel1.h5')"
   ]
  },
  {
   "cell_type": "code",
   "execution_count": null,
   "metadata": {
    "collapsed": true
   },
   "outputs": [],
   "source": [
    "model.fit_generator(mix_pseudolabel_batches, steps_per_epoch=mix_pseudolabel_batches.steps_per_epoch, \n",
    "                    epochs=5, verbose=2,\n",
    "                    validation_data=val_batches, validation_steps=ceil(val_batches.n/val_batches.batch_size))"
   ]
  },
  {
   "cell_type": "code",
   "execution_count": null,
   "metadata": {
    "collapsed": true
   },
   "outputs": [],
   "source": [
    "model.fit_generator(mix_pseudolabel_batches, steps_per_epoch=mix_pseudolabel_batches.steps_per_epoch, \n",
    "                    epochs=5, verbose=2,\n",
    "                    validation_data=val_batches, validation_steps=ceil(val_batches.n/val_batches.batch_size))"
   ]
  }
 ],
 "metadata": {
  "kernelspec": {
   "display_name": "Python 3",
   "language": "python",
   "name": "python3"
  },
  "language_info": {
   "codemirror_mode": {
    "name": "ipython",
    "version": 3
   },
   "file_extension": ".py",
   "mimetype": "text/x-python",
   "name": "python",
   "nbconvert_exporter": "python",
   "pygments_lexer": "ipython3",
   "version": "3.6.3"
  }
 },
 "nbformat": 4,
 "nbformat_minor": 2
}
