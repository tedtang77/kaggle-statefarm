{
 "cells": [
  {
   "cell_type": "markdown",
   "metadata": {},
   "source": [
    "# State Farm Distracted Driver Detection\n",
    "\n",
    "\n",
    "[State Farm Distracted Driver Detection](https://www.kaggle.com/c/state-farm-distracted-driver-detection#evaluation)"
   ]
  },
  {
   "cell_type": "markdown",
   "metadata": {},
   "source": [
    "## Action Plan\n",
    "### 1. Data Preparation and Preprocessing\n",
    "### 2. Finetune and Train Model\n",
    "### 3. Generate and Validate Predictions \n",
    "### 4. Submit predictions to Kaggle"
   ]
  },
  {
   "cell_type": "markdown",
   "metadata": {},
   "source": [
    "# 2. Finetune and Train Model"
   ]
  },
  {
   "cell_type": "markdown",
   "metadata": {},
   "source": [
    "## Setup "
   ]
  },
  {
   "cell_type": "code",
   "execution_count": 1,
   "metadata": {},
   "outputs": [
    {
     "name": "stdout",
     "output_type": "stream",
     "text": [
      "/home/ubuntu/kaggle/state-farm-driver-detection/code\n"
     ]
    },
    {
     "data": {
      "text/plain": [
       "'/home/ubuntu/kaggle/state-farm-driver-detection/code'"
      ]
     },
     "execution_count": 1,
     "metadata": {},
     "output_type": "execute_result"
    }
   ],
   "source": [
    "%cd \"~/kaggle/state-farm-driver-detection/code\"\n",
    "%pwd"
   ]
  },
  {
   "cell_type": "code",
   "execution_count": 2,
   "metadata": {},
   "outputs": [
    {
     "name": "stdout",
     "output_type": "stream",
     "text": [
      "/home/ubuntu/kaggle/state-farm-driver-detection/code\n",
      "/home/ubuntu/kaggle/state-farm-driver-detection/code/../input/\n"
     ]
    }
   ],
   "source": [
    "#Create references to important directories we will use over and over\n",
    "import os, sys\n",
    "current_dir = os.getcwd()\n",
    "CODE_HOME_DIR = current_dir\n",
    "DATA_HOME_DIR = CODE_HOME_DIR + '/../input/'\n",
    "print(CODE_HOME_DIR)\n",
    "print(DATA_HOME_DIR)"
   ]
  },
  {
   "cell_type": "code",
   "execution_count": 3,
   "metadata": {},
   "outputs": [
    {
     "name": "stderr",
     "output_type": "stream",
     "text": [
      "Using TensorFlow backend.\n",
      "/home/ubuntu/anaconda3/lib/python3.6/importlib/_bootstrap.py:219: RuntimeWarning: compiletime version 3.5 of module 'tensorflow.python.framework.fast_tensor_util' does not match runtime version 3.6\n",
      "  return f(*args, **kwds)\n"
     ]
    }
   ],
   "source": [
    "#import modules\n",
    "#from importlib import reload\n",
    "\n",
    "import utils\n",
    "from utils import *\n",
    "\n",
    "import vgg16bn_ted\n",
    "from vgg16bn_ted import Vgg16BN; \n",
    "\n",
    "%matplotlib inline"
   ]
  },
  {
   "cell_type": "markdown",
   "metadata": {},
   "source": [
    "#### Setup Paths"
   ]
  },
  {
   "cell_type": "code",
   "execution_count": 4,
   "metadata": {},
   "outputs": [
    {
     "name": "stdout",
     "output_type": "stream",
     "text": [
      "/home/ubuntu/kaggle/state-farm-driver-detection/input\n"
     ]
    }
   ],
   "source": [
    "%cd $DATA_HOME_DIR\n",
    "\n",
    "#Set path to sample/ path if desired\n",
    "path = DATA_HOME_DIR + '/' # + '/sample/' \n",
    "results_path = path + '/results/'\n",
    "train_path = path + '/train/'\n",
    "valid_path = path + '/valid/'\n",
    "test_path = path + '/test/'\n",
    "model_path = path + '/models/'\n",
    "if not os.path.exists(model_path): os.mkdir(model_path)"
   ]
  },
  {
   "cell_type": "markdown",
   "metadata": {},
   "source": [
    "#### Setup and save Data Classes, Labels, and Filenames"
   ]
  },
  {
   "cell_type": "code",
   "execution_count": 22,
   "metadata": {},
   "outputs": [
    {
     "name": "stdout",
     "output_type": "stream",
     "text": [
      "Found 17940 images belonging to 10 classes.\n",
      "Found 4484 images belonging to 10 classes.\n",
      "Found 79726 images belonging to 1 classes.\n"
     ]
    }
   ],
   "source": [
    "(trn_classes, val_classes, trn_labels, val_labels, trn_filenames, val_filenames, test_filenames) = get_classes(path)"
   ]
  },
  {
   "cell_type": "code",
   "execution_count": 23,
   "metadata": {
    "collapsed": true
   },
   "outputs": [],
   "source": [
    "save_array(results_path+'train_classes.bc', trn_classes)\n",
    "save_array(results_path+'valid_classes.bc', val_classes)"
   ]
  },
  {
   "cell_type": "code",
   "execution_count": 5,
   "metadata": {
    "collapsed": true
   },
   "outputs": [],
   "source": [
    "trn_classes = np.array(load_array(results_path+'train_classes.bc'))\n",
    "val_classes = np.array(load_array(results_path+'valid_classes.bc'))\n",
    "trn_labels = onehot(trn_classes)\n",
    "val_labels = onehot(val_classes)"
   ]
  },
  {
   "cell_type": "code",
   "execution_count": 25,
   "metadata": {
    "collapsed": true
   },
   "outputs": [],
   "source": [
    "save_array(results_path+'train_filenames.bc', trn_filenames)\n",
    "save_array(results_path+'valid_filenames.bc', val_filenames)\n",
    "save_array(results_path+'test_filenames.bc', test_filenames)"
   ]
  },
  {
   "cell_type": "code",
   "execution_count": 6,
   "metadata": {
    "collapsed": true
   },
   "outputs": [],
   "source": [
    "trn_filenames = load_array(results_path+'train_filenames.bc')\n",
    "val_filenames = load_array(results_path+'valid_filenames.bc')\n",
    "test_filenames = load_array(results_path+'test_filenames.bc')"
   ]
  },
  {
   "cell_type": "code",
   "execution_count": 40,
   "metadata": {},
   "outputs": [
    {
     "name": "stdout",
     "output_type": "stream",
     "text": [
      "Found 17940 images belonging to 10 classes.\n",
      "Found 4484 images belonging to 10 classes.\n"
     ]
    }
   ],
   "source": [
    "trn_data = get_data(train_path)\n",
    "val_data = get_data(valid_path)"
   ]
  },
  {
   "cell_type": "code",
   "execution_count": 41,
   "metadata": {
    "collapsed": true,
    "hidden": true
   },
   "outputs": [],
   "source": [
    "save_array(results_path+'trn_data.bc', trn_data)\n",
    "save_array(results_path+'val_data.bc', val_data)"
   ]
  },
  {
   "cell_type": "code",
   "execution_count": 17,
   "metadata": {
    "collapsed": true,
    "hidden": true
   },
   "outputs": [],
   "source": [
    "trn_data = load_array(results_path+'trn_data.bc')\n",
    "val_data = load_array(results_path+'val_data.bc')"
   ]
  },
  {
   "cell_type": "markdown",
   "metadata": {},
   "source": [
    "## Method 1: First training by full Vgg model"
   ]
  },
  {
   "cell_type": "code",
   "execution_count": 5,
   "metadata": {
    "collapsed": true
   },
   "outputs": [],
   "source": [
    "vgg = Vgg16BN(size=(256, 256))\n",
    "#vgg = Vgg16BN()\n",
    "model = vgg.model"
   ]
  },
  {
   "cell_type": "code",
   "execution_count": 6,
   "metadata": {
    "collapsed": true
   },
   "outputs": [],
   "source": [
    "batch_size=64"
   ]
  },
  {
   "cell_type": "code",
   "execution_count": 7,
   "metadata": {
    "scrolled": true
   },
   "outputs": [
    {
     "name": "stdout",
     "output_type": "stream",
     "text": [
      "Found 17940 images belonging to 10 classes.\n",
      "Found 4484 images belonging to 10 classes.\n"
     ]
    }
   ],
   "source": [
    "#Finetune the model\n",
    "batches = vgg.get_batches(train_path, batch_size=batch_size)\n",
    "val_batches = vgg.get_batches(valid_path, shuffle=False, batch_size=batch_size)\n",
    "vgg.finetune(batches)"
   ]
  },
  {
   "cell_type": "markdown",
   "metadata": {},
   "source": [
    "#### Model Tuning"
   ]
  },
  {
   "cell_type": "code",
   "execution_count": 9,
   "metadata": {},
   "outputs": [
    {
     "name": "stdout",
     "output_type": "stream",
     "text": [
      "Epoch 1/2\n",
      " - 346s - loss: 1.1656 - acc: 0.6431 - val_loss: 0.1348 - val_acc: 0.9674\n",
      "Epoch 2/2\n",
      " - 337s - loss: 0.4400 - acc: 0.8605 - val_loss: 0.0854 - val_acc: 0.9784\n"
     ]
    }
   ],
   "source": [
    "vgg.fit(batches, val_batches, epochs=2)"
   ]
  },
  {
   "cell_type": "code",
   "execution_count": 10,
   "metadata": {
    "collapsed": true
   },
   "outputs": [],
   "source": [
    "model.optimizer.lr = 0.01"
   ]
  },
  {
   "cell_type": "code",
   "execution_count": 11,
   "metadata": {},
   "outputs": [
    {
     "name": "stdout",
     "output_type": "stream",
     "text": [
      "Epoch 1/5\n",
      " - 336s - loss: 0.3565 - acc: 0.8824 - val_loss: 0.0634 - val_acc: 0.9837\n",
      "Epoch 2/5\n",
      " - 337s - loss: 0.3394 - acc: 0.8917 - val_loss: 0.0738 - val_acc: 0.9804\n",
      "Epoch 3/5\n",
      " - 337s - loss: 0.3223 - acc: 0.8993 - val_loss: 0.0566 - val_acc: 0.9855\n",
      "Epoch 4/5\n",
      " - 337s - loss: 0.3240 - acc: 0.8959 - val_loss: 0.0637 - val_acc: 0.9819\n",
      "Epoch 5/5\n",
      " - 337s - loss: 0.3366 - acc: 0.8988 - val_loss: 0.0529 - val_acc: 0.9868\n"
     ]
    }
   ],
   "source": [
    "vgg.fit(batches, val_batches, epochs=5)"
   ]
  },
  {
   "cell_type": "code",
   "execution_count": 9,
   "metadata": {
    "collapsed": true
   },
   "outputs": [],
   "source": [
    "model.optimizer.lr = 0.001"
   ]
  },
  {
   "cell_type": "code",
   "execution_count": 10,
   "metadata": {},
   "outputs": [
    {
     "name": "stdout",
     "output_type": "stream",
     "text": [
      "Epoch 1/5\n",
      " - 337s - loss: 0.3501 - acc: 0.8957 - val_loss: 0.0541 - val_acc: 0.9853\n",
      "Epoch 2/5\n",
      " - 328s - loss: 0.3587 - acc: 0.8964 - val_loss: 0.0535 - val_acc: 0.9857\n",
      "Epoch 3/5\n",
      " - 328s - loss: 0.3578 - acc: 0.9004 - val_loss: 0.0491 - val_acc: 0.9866\n",
      "Epoch 4/5\n",
      " - 328s - loss: 0.3615 - acc: 0.8988 - val_loss: 0.0533 - val_acc: 0.9873\n",
      "Epoch 5/5\n",
      " - 328s - loss: 0.3657 - acc: 0.9002 - val_loss: 0.0581 - val_acc: 0.9851\n"
     ]
    }
   ],
   "source": [
    "vgg.fit(batches, val_batches, epochs=10)"
   ]
  },
  {
   "cell_type": "code",
   "execution_count": 11,
   "metadata": {
    "collapsed": true
   },
   "outputs": [],
   "source": [
    "model.save_weights(model_path+'vgg16bn-first1.h5')"
   ]
  },
  {
   "cell_type": "code",
   "execution_count": 8,
   "metadata": {
    "collapsed": true
   },
   "outputs": [],
   "source": [
    "model.load_weights(model_path+'vgg16bn-first1.h5')"
   ]
  },
  {
   "cell_type": "markdown",
   "metadata": {},
   "source": [
    "## Method 2: Pretrain Convolution Layers to speed up and focus tuning FC Layers \n",
    "\n",
    "**<font color='red'>Notices</font>**: \n",
    "\n",
    "- <font color='red'>**here because we use this BatchNormalization dense layers based on pretrained convolution layers, we can not use Data Augmentation, because with Data Augmentation the output of pretrained convolution layers will be different every time. **\n",
    "</font>"
   ]
  },
  {
   "cell_type": "markdown",
   "metadata": {},
   "source": [
    "#### Setup Models"
   ]
  },
  {
   "cell_type": "code",
   "execution_count": 10,
   "metadata": {
    "collapsed": true
   },
   "outputs": [],
   "source": [
    "vgg = Vgg16BN(size=(256, 256))\n",
    "#vgg = Vgg16BN()\n",
    "model = vgg.model"
   ]
  },
  {
   "cell_type": "code",
   "execution_count": 11,
   "metadata": {
    "collapsed": true
   },
   "outputs": [],
   "source": [
    "batch_size=64"
   ]
  },
  {
   "cell_type": "code",
   "execution_count": 12,
   "metadata": {},
   "outputs": [
    {
     "name": "stdout",
     "output_type": "stream",
     "text": [
      "Found 17940 images belonging to 10 classes.\n"
     ]
    }
   ],
   "source": [
    "#Finetune the model\n",
    "vgg.finetune(vgg.get_batches(train_path, shuffle=False, batch_size=batch_size))"
   ]
  },
  {
   "cell_type": "code",
   "execution_count": 13,
   "metadata": {
    "collapsed": true
   },
   "outputs": [],
   "source": [
    "conv_model, fc_model = get_split_models(model)"
   ]
  },
  {
   "cell_type": "markdown",
   "metadata": {},
   "source": [
    "### 2.1 Let's pretrain the conv_model first (or load conv_model train features)\n",
    "\n",
    "\n",
    "**<br><font color='red'>Notices</font>**: \n",
    "  - ** <font color='red'>batches shuffle must be set to False when pre-computing features </font>**\n"
   ]
  },
  {
   "cell_type": "markdown",
   "metadata": {},
   "source": [
    "#### Train and save Pretrained conv_model Feature Maps"
   ]
  },
  {
   "cell_type": "code",
   "execution_count": 46,
   "metadata": {},
   "outputs": [
    {
     "name": "stdout",
     "output_type": "stream",
     "text": [
      "Found 17940 images belonging to 10 classes.\n",
      "Found 4484 images belonging to 10 classes.\n",
      "Found 79726 images belonging to 1 classes.\n"
     ]
    }
   ],
   "source": [
    "batches = get_batches(train_path, batch_size=batch_size, shuffle=False)\n",
    "val_batches = get_batches(valid_path, batch_size=batch_size*2, shuffle=False)\n",
    "test_batches = get_batches(test_path, batch_size=batch_size, shuffle=False)"
   ]
  },
  {
   "cell_type": "code",
   "execution_count": 47,
   "metadata": {
    "collapsed": true
   },
   "outputs": [],
   "source": [
    "conv_trn_features = conv_model.predict_generator(batches, steps=ceil(batches.n/batches.batch_size))\n",
    "conv_val_features = conv_model.predict_generator(val_batches, steps=ceil(val_batches.n/val_batches.batch_size))\n",
    "con_test_features = conv_model.predict_generator(test_batches, steps=ceil(test_batches.n/test_batches.batch_size))"
   ]
  },
  {
   "cell_type": "code",
   "execution_count": 48,
   "metadata": {
    "collapsed": true
   },
   "outputs": [],
   "source": [
    "save_array(results_path+'train_convlayer_features.dat', conv_trn_features)\n",
    "save_array(results_path+'valid_convlayer_features2.dat', conv_val_features)\n",
    "save_array(results_path+'test_convlayer_features.dat', conv_test_features)"
   ]
  },
  {
   "cell_type": "code",
   "execution_count": 7,
   "metadata": {
    "collapsed": true
   },
   "outputs": [],
   "source": [
    "conv_trn_features = load_array(results_path+'train_convlayer_features.dat')\n",
    "conv_val_features = load_array(results_path+'valid_convlayer_features2.dat')\n",
    "conv_test_features = load_array(results_path+'test_convlayer_features.dat')"
   ]
  },
  {
   "cell_type": "code",
   "execution_count": 8,
   "metadata": {
    "scrolled": true
   },
   "outputs": [
    {
     "name": "stdout",
     "output_type": "stream",
     "text": [
      "(17940, 512, 8, 8)\n",
      "(4484, 512, 8, 8)\n",
      "(79726, 512, 8, 8)\n"
     ]
    }
   ],
   "source": [
    "print(conv_trn_features.shape)\n",
    "print(conv_val_features.shape)\n",
    "print(conv_test_features.shape)"
   ]
  },
  {
   "cell_type": "markdown",
   "metadata": {},
   "source": [
    "### 2.2 Start training FC model"
   ]
  },
  {
   "cell_type": "markdown",
   "metadata": {},
   "source": [
    "#### Model Tuning"
   ]
  },
  {
   "cell_type": "code",
   "execution_count": 51,
   "metadata": {},
   "outputs": [
    {
     "name": "stdout",
     "output_type": "stream",
     "text": [
      "Train on 17940 samples, validate on 4484 samples\n",
      "Epoch 1/2\n",
      " - 62s - loss: 0.4260 - acc: 0.9017 - val_loss: 0.1135 - val_acc: 0.9737\n",
      "Epoch 2/2\n",
      " - 60s - loss: 0.0785 - acc: 0.9815 - val_loss: 0.0498 - val_acc: 0.9891\n"
     ]
    },
    {
     "data": {
      "text/plain": [
       "<keras.callbacks.History at 0x7f1a76ddc5c0>"
      ]
     },
     "execution_count": 51,
     "metadata": {},
     "output_type": "execute_result"
    }
   ],
   "source": [
    "fc_model.fit(conv_trn_features, trn_labels, batch_size=batch_size, epochs=2, \n",
    "             validation_data= (conv_val_features, val_labels), verbose=2)"
   ]
  },
  {
   "cell_type": "code",
   "execution_count": 52,
   "metadata": {
    "collapsed": true
   },
   "outputs": [],
   "source": [
    "fc_model.lr = 0.1"
   ]
  },
  {
   "cell_type": "code",
   "execution_count": 53,
   "metadata": {},
   "outputs": [
    {
     "name": "stdout",
     "output_type": "stream",
     "text": [
      "Train on 17940 samples, validate on 4484 samples\n",
      "Epoch 1/3\n",
      " - 60s - loss: 0.0904 - acc: 0.9799 - val_loss: 0.0968 - val_acc: 0.9822\n",
      "Epoch 2/3\n",
      " - 60s - loss: 0.0822 - acc: 0.9857 - val_loss: 0.1391 - val_acc: 0.9853\n",
      "Epoch 3/3\n",
      " - 60s - loss: 0.0499 - acc: 0.9896 - val_loss: 0.0584 - val_acc: 0.9900\n"
     ]
    },
    {
     "data": {
      "text/plain": [
       "<keras.callbacks.History at 0x7f1a76a561d0>"
      ]
     },
     "execution_count": 53,
     "metadata": {},
     "output_type": "execute_result"
    }
   ],
   "source": [
    "fc_model.fit(conv_trn_features, trn_labels, batch_size=batch_size, epochs=3, \n",
    "             validation_data= (conv_val_features, val_labels), verbose=2)"
   ]
  },
  {
   "cell_type": "code",
   "execution_count": 34,
   "metadata": {
    "collapsed": true
   },
   "outputs": [],
   "source": [
    "fc_model.lr = 0.01"
   ]
  },
  {
   "cell_type": "code",
   "execution_count": 35,
   "metadata": {},
   "outputs": [
    {
     "name": "stdout",
     "output_type": "stream",
     "text": [
      "Train on 17940 samples, validate on 4484 samples\n",
      "Epoch 1/10\n",
      " - 60s - loss: 0.0487 - acc: 0.9910 - val_loss: 0.0494 - val_acc: 0.9924\n",
      "Epoch 2/10\n",
      " - 60s - loss: 0.0414 - acc: 0.9929 - val_loss: 0.0348 - val_acc: 0.9955\n",
      "Epoch 3/10\n",
      " - 60s - loss: 0.0483 - acc: 0.9918 - val_loss: 0.0598 - val_acc: 0.9915\n",
      "Epoch 4/10\n",
      " - 60s - loss: 0.0486 - acc: 0.9924 - val_loss: 0.0969 - val_acc: 0.9875\n",
      "Epoch 5/10\n",
      " - 60s - loss: 0.0520 - acc: 0.9914 - val_loss: 0.0579 - val_acc: 0.9909\n",
      "Epoch 6/10\n",
      " - 60s - loss: 0.0630 - acc: 0.9907 - val_loss: 0.0669 - val_acc: 0.9931\n",
      "Epoch 7/10\n",
      " - 60s - loss: 0.0730 - acc: 0.9898 - val_loss: 0.0741 - val_acc: 0.9920\n",
      "Epoch 8/10\n",
      " - 60s - loss: 0.0551 - acc: 0.9923 - val_loss: 0.0790 - val_acc: 0.9902\n",
      "Epoch 9/10\n",
      " - 60s - loss: 0.0367 - acc: 0.9952 - val_loss: 0.0662 - val_acc: 0.9933\n",
      "Epoch 10/10\n",
      " - 60s - loss: 0.0248 - acc: 0.9960 - val_loss: 0.0217 - val_acc: 0.9978\n"
     ]
    },
    {
     "data": {
      "text/plain": [
       "<keras.callbacks.History at 0x7f1aa2c4fac8>"
      ]
     },
     "execution_count": 35,
     "metadata": {},
     "output_type": "execute_result"
    }
   ],
   "source": [
    "fc_model.fit(conv_trn_features, trn_labels, batch_size=batch_size, epochs=2, \n",
    "             validation_data= (conv_val_features, val_labels), verbose=2)"
   ]
  },
  {
   "cell_type": "code",
   "execution_count": 36,
   "metadata": {
    "collapsed": true
   },
   "outputs": [],
   "source": [
    "fc_model.lr = 0.001"
   ]
  },
  {
   "cell_type": "code",
   "execution_count": 37,
   "metadata": {},
   "outputs": [
    {
     "name": "stdout",
     "output_type": "stream",
     "text": [
      "Train on 17940 samples, validate on 4484 samples\n",
      "Epoch 1/10\n",
      " - 60s - loss: 0.0278 - acc: 0.9958 - val_loss: 0.0586 - val_acc: 0.9938\n",
      "Epoch 2/10\n",
      " - 60s - loss: 0.0408 - acc: 0.9947 - val_loss: 0.0366 - val_acc: 0.9960\n",
      "Epoch 3/10\n",
      " - 60s - loss: 0.0513 - acc: 0.9939 - val_loss: 0.0610 - val_acc: 0.9940\n",
      "Epoch 4/10\n",
      " - 60s - loss: 0.0599 - acc: 0.9924 - val_loss: 0.0469 - val_acc: 0.9962\n",
      "Epoch 5/10\n",
      " - 60s - loss: 0.0461 - acc: 0.9943 - val_loss: 0.0462 - val_acc: 0.9958\n",
      "Epoch 6/10\n",
      " - 60s - loss: 0.0308 - acc: 0.9961 - val_loss: 0.0365 - val_acc: 0.9973\n",
      "Epoch 7/10\n",
      " - 60s - loss: 0.0613 - acc: 0.9935 - val_loss: 0.0492 - val_acc: 0.9949\n",
      "Epoch 8/10\n",
      " - 60s - loss: 0.0447 - acc: 0.9944 - val_loss: 0.0550 - val_acc: 0.9949\n",
      "Epoch 9/10\n",
      " - 60s - loss: 0.0355 - acc: 0.9955 - val_loss: 0.0664 - val_acc: 0.9940\n",
      "Epoch 10/10\n",
      " - 60s - loss: 0.0349 - acc: 0.9957 - val_loss: 0.0496 - val_acc: 0.9953\n"
     ]
    },
    {
     "data": {
      "text/plain": [
       "<keras.callbacks.History at 0x7f1aa2c17fd0>"
      ]
     },
     "execution_count": 37,
     "metadata": {},
     "output_type": "execute_result"
    }
   ],
   "source": [
    "fc_model.fit(conv_trn_features, trn_labels, batch_size=batch_size, epochs=10, \n",
    "             validation_data= (conv_val_features, val_labels), verbose=2)"
   ]
  },
  {
   "cell_type": "code",
   "execution_count": 38,
   "metadata": {
    "collapsed": true
   },
   "outputs": [],
   "source": [
    "model_name = 'Vgg16BN-ted'\n",
    "sub_model_name = 'fc-model'\n",
    "fc_model.save_weights(model_path + model_name + '_' + sub_model_name + '1.h5')"
   ]
  },
  {
   "cell_type": "code",
   "execution_count": null,
   "metadata": {
    "collapsed": true
   },
   "outputs": [],
   "source": [
    "model_name = 'Vgg16BN-ted'\n",
    "sub_model_name = 'fc-model'\n",
    "fc_model.load_weights(model_path + model_name + '_' + sub_model_name + '1.h5')"
   ]
  },
  {
   "cell_type": "markdown",
   "metadata": {
    "heading_collapsed": true
   },
   "source": [
    "### 2.3 Pre-computed data augmentation"
   ]
  },
  {
   "cell_type": "markdown",
   "metadata": {
    "hidden": true
   },
   "source": [
    "#### Setup: use our optimized data augmentation parameters in 2.a to create a 6x blended training datasets (5x data aug + 1x raw) \n",
    "- ** Notice that here because we use this BatchNormalization dense layers based on pretrained convolution layers, we can not use Data Augmentation, because with Data Augmentation the output of pretrained convolution layers will be different every time **\n",
    "- ** But you could compute 10x bigger than your dataset like 10 different versions of it. This is why I put it here with data augmentation generator and then predict it like 5 times bigger of data. This would give me 5 times of data. This actually works pretty well. It’s not as good as giving a whole new sample every time but it’s kind of a compromise **"
   ]
  },
  {
   "cell_type": "code",
   "execution_count": 9,
   "metadata": {
    "collapsed": true
   },
   "outputs": [],
   "source": [
    "batch_size=64"
   ]
  },
  {
   "cell_type": "code",
   "execution_count": 10,
   "metadata": {},
   "outputs": [
    {
     "name": "stdout",
     "output_type": "stream",
     "text": [
      "Found 17940 images belonging to 10 classes.\n"
     ]
    }
   ],
   "source": [
    "gen_t = image.ImageDataGenerator(rotation_range=15, height_shift_range=0.05, \n",
    "                shear_range=0.1, channel_shift_range=20, width_shift_range=0.1)\n",
    "aug_batches = get_batches(train_path, gen_t, batch_size=batch_size)"
   ]
  },
  {
   "cell_type": "code",
   "execution_count": null,
   "metadata": {
    "collapsed": true
   },
   "outputs": [],
   "source": [
    "# We create a dataset of convolutional features 5x bigger than the training set.\n",
    "conv_aug_features = conv_model.predict_generator(aug_batches, steps= 5 * ceil(aug_batches.n / (aug_batches.batch_size)))"
   ]
  },
  {
   "cell_type": "code",
   "execution_count": 93,
   "metadata": {
    "collapsed": true
   },
   "outputs": [],
   "source": [
    "save_array(results_path+'conv_aug_features.bc', conv_aug_features)"
   ]
  },
  {
   "cell_type": "code",
   "execution_count": 11,
   "metadata": {
    "collapsed": true
   },
   "outputs": [],
   "source": [
    "conv_aug_features = load_array(results_path+'conv_aug_features.bc')"
   ]
  },
  {
   "cell_type": "code",
   "execution_count": 12,
   "metadata": {},
   "outputs": [
    {
     "name": "stdout",
     "output_type": "stream",
     "text": [
      "(89700, 512, 8, 8)\n",
      "(17940, 512, 8, 8)\n"
     ]
    }
   ],
   "source": [
    "print(conv_aug_features.shape)\n",
    "print(conv_trn_features.shape)"
   ]
  },
  {
   "cell_type": "code",
   "execution_count": 13,
   "metadata": {
    "collapsed": true
   },
   "outputs": [],
   "source": [
    "# include the real training data as well in its non-augmented form.\n",
    "conv_aug_features = np.concatenate([conv_aug_features, conv_trn_features])\n",
    "\n",
    "# Since we've now got a dataset 6x bigger than before, we'll need to copy our labels 6 times too.\n",
    "aug_trn_labels = np.concatenate([trn_labels]*6)"
   ]
  },
  {
   "cell_type": "code",
   "execution_count": 17,
   "metadata": {
    "collapsed": true
   },
   "outputs": [],
   "source": [
    "save_array(results_path+'conv_aug_features2.bc', conv_aug_features)\n",
    "save_array(results_path+'aug_trn_labels.bc', aug_trn_labels)"
   ]
  },
  {
   "cell_type": "code",
   "execution_count": 18,
   "metadata": {
    "collapsed": true
   },
   "outputs": [],
   "source": [
    "conv_aug_features = load_array(results_path+'conv_aug_features2.bc')\n",
    "aug_trn_labels = load_array(results_path+'aug_trn_labels.bc')"
   ]
  },
  {
   "cell_type": "code",
   "execution_count": 19,
   "metadata": {},
   "outputs": [
    {
     "name": "stdout",
     "output_type": "stream",
     "text": [
      "(107640, 512, 8, 8)\n",
      "(107640, 10)\n"
     ]
    }
   ],
   "source": [
    "print(conv_aug_features.shape)\n",
    "print(aug_trn_labels.shape)"
   ]
  },
  {
   "cell_type": "markdown",
   "metadata": {},
   "source": [
    "#### Setup Models"
   ]
  },
  {
   "cell_type": "code",
   "execution_count": 20,
   "metadata": {
    "collapsed": true
   },
   "outputs": [],
   "source": [
    "vgg = Vgg16BN(size=(256, 256))\n",
    "model = vgg.model"
   ]
  },
  {
   "cell_type": "code",
   "execution_count": 21,
   "metadata": {},
   "outputs": [
    {
     "name": "stdout",
     "output_type": "stream",
     "text": [
      "Found 17940 images belonging to 10 classes.\n"
     ]
    }
   ],
   "source": [
    "#Finetune the model\n",
    "vgg.finetune(vgg.get_batches(train_path, shuffle=False, batch_size=batch_size))"
   ]
  },
  {
   "cell_type": "code",
   "execution_count": 22,
   "metadata": {
    "collapsed": true
   },
   "outputs": [],
   "source": [
    "_, fc_model = get_split_models(model)"
   ]
  },
  {
   "cell_type": "markdown",
   "metadata": {},
   "source": [
    "#### Model Tuning: FC model"
   ]
  },
  {
   "cell_type": "code",
   "execution_count": 23,
   "metadata": {},
   "outputs": [
    {
     "name": "stdout",
     "output_type": "stream",
     "text": [
      "Train on 107640 samples, validate on 4484 samples\n",
      "Epoch 1/2\n",
      " - 379s - loss: 2.6552 - acc: 0.1894 - val_loss: 0.1758 - val_acc: 0.9456\n",
      "Epoch 2/2\n",
      " - 373s - loss: 2.1201 - acc: 0.2355 - val_loss: 0.1750 - val_acc: 0.9596\n"
     ]
    },
    {
     "data": {
      "text/plain": [
       "<keras.callbacks.History at 0x7f40675a7ef0>"
      ]
     },
     "execution_count": 23,
     "metadata": {},
     "output_type": "execute_result"
    }
   ],
   "source": [
    "fc_model.fit(conv_aug_features, aug_trn_labels, batch_size=batch_size, epochs=2, \n",
    "             validation_data= (conv_val_features, val_labels), verbose=2)"
   ]
  },
  {
   "cell_type": "code",
   "execution_count": 24,
   "metadata": {
    "collapsed": true
   },
   "outputs": [],
   "source": [
    "fc_model.lr = 1"
   ]
  },
  {
   "cell_type": "code",
   "execution_count": 25,
   "metadata": {},
   "outputs": [
    {
     "name": "stdout",
     "output_type": "stream",
     "text": [
      "Train on 107640 samples, validate on 4484 samples\n",
      "Epoch 1/30\n",
      " - 372s - loss: 2.0345 - acc: 0.2434 - val_loss: 0.0602 - val_acc: 0.9826\n",
      "Epoch 2/30\n",
      " - 372s - loss: 2.0075 - acc: 0.2458 - val_loss: 0.0717 - val_acc: 0.9904\n",
      "Epoch 3/30\n",
      " - 372s - loss: 1.9833 - acc: 0.2498 - val_loss: 0.0775 - val_acc: 0.9875\n",
      "Epoch 4/30\n",
      " - 372s - loss: 1.9652 - acc: 0.2576 - val_loss: 0.2880 - val_acc: 0.9732\n",
      "Epoch 5/30\n",
      " - 372s - loss: 1.9501 - acc: 0.2652 - val_loss: 0.1050 - val_acc: 0.9884\n",
      "Epoch 6/30\n",
      " - 372s - loss: 1.9302 - acc: 0.2788 - val_loss: 0.1149 - val_acc: 0.9893\n",
      "Epoch 7/30\n",
      " - 372s - loss: 1.8987 - acc: 0.2988 - val_loss: 0.0898 - val_acc: 0.9911\n",
      "Epoch 8/30\n",
      " - 372s - loss: 1.8558 - acc: 0.3201 - val_loss: 0.0601 - val_acc: 0.9931\n",
      "Epoch 9/30\n",
      " - 372s - loss: 1.7958 - acc: 0.3515 - val_loss: 0.0948 - val_acc: 0.9897\n",
      "Epoch 10/30\n",
      " - 372s - loss: 1.7336 - acc: 0.3813 - val_loss: 0.0839 - val_acc: 0.9911\n",
      "Epoch 11/30\n",
      " - 372s - loss: 1.6566 - acc: 0.4144 - val_loss: 0.1348 - val_acc: 0.9871\n",
      "Epoch 12/30\n",
      " - 372s - loss: 1.5834 - acc: 0.4433 - val_loss: 0.0932 - val_acc: 0.9911\n",
      "Epoch 13/30\n",
      " - 372s - loss: 1.4984 - acc: 0.4774 - val_loss: 0.0937 - val_acc: 0.9911\n",
      "Epoch 14/30\n",
      " - 372s - loss: 1.4127 - acc: 0.5090 - val_loss: 0.0861 - val_acc: 0.9924\n",
      "Epoch 15/30\n",
      " - 372s - loss: 1.3197 - acc: 0.5434 - val_loss: 0.1058 - val_acc: 0.9891\n",
      "Epoch 16/30\n",
      " - 372s - loss: 1.2343 - acc: 0.5749 - val_loss: 0.1160 - val_acc: 0.9880\n",
      "Epoch 17/30\n",
      " - 372s - loss: 1.1401 - acc: 0.6087 - val_loss: 0.1575 - val_acc: 0.9844\n",
      "Epoch 18/30\n",
      " - 372s - loss: 1.0468 - acc: 0.6406 - val_loss: 0.0888 - val_acc: 0.9913\n",
      "Epoch 19/30\n",
      " - 372s - loss: 0.9607 - acc: 0.6707 - val_loss: 0.1132 - val_acc: 0.9897\n",
      "Epoch 20/30\n",
      " - 372s - loss: 0.8741 - acc: 0.7006 - val_loss: 0.1053 - val_acc: 0.9897\n",
      "Epoch 21/30\n",
      " - 372s - loss: 0.8049 - acc: 0.7253 - val_loss: 0.0888 - val_acc: 0.9920\n",
      "Epoch 22/30\n",
      " - 372s - loss: 0.7327 - acc: 0.7489 - val_loss: 0.0670 - val_acc: 0.9929\n",
      "Epoch 23/30\n",
      " - 372s - loss: 0.6833 - acc: 0.7662 - val_loss: 0.1177 - val_acc: 0.9897\n",
      "Epoch 24/30\n",
      " - 372s - loss: 0.6332 - acc: 0.7829 - val_loss: 0.0704 - val_acc: 0.9926\n",
      "Epoch 25/30\n",
      " - 372s - loss: 0.5897 - acc: 0.8001 - val_loss: 0.0631 - val_acc: 0.9933\n",
      "Epoch 26/30\n",
      " - 372s - loss: 0.5577 - acc: 0.8096 - val_loss: 0.1025 - val_acc: 0.9915\n",
      "Epoch 27/30\n",
      " - 372s - loss: 0.5215 - acc: 0.8219 - val_loss: 0.0654 - val_acc: 0.9922\n",
      "Epoch 28/30\n",
      " - 372s - loss: 0.4874 - acc: 0.8335 - val_loss: 0.0724 - val_acc: 0.9920\n",
      "Epoch 29/30\n",
      " - 372s - loss: 0.4674 - acc: 0.8399 - val_loss: 0.0599 - val_acc: 0.9933\n",
      "Epoch 30/30\n",
      " - 372s - loss: 0.4386 - acc: 0.8509 - val_loss: 0.0840 - val_acc: 0.9906\n"
     ]
    },
    {
     "data": {
      "text/plain": [
       "<keras.callbacks.History at 0x7f4084457be0>"
      ]
     },
     "execution_count": 25,
     "metadata": {},
     "output_type": "execute_result"
    }
   ],
   "source": [
    "fc_model.fit(conv_aug_features, aug_trn_labels, batch_size=batch_size, epochs=30, \n",
    "             validation_data= (conv_val_features, val_labels), verbose=2)"
   ]
  },
  {
   "cell_type": "code",
   "execution_count": null,
   "metadata": {
    "collapsed": true
   },
   "outputs": [],
   "source": [
    "fc_model.lr = 0.1"
   ]
  },
  {
   "cell_type": "code",
   "execution_count": null,
   "metadata": {},
   "outputs": [
    {
     "name": "stdout",
     "output_type": "stream",
     "text": [
      "Train on 107640 samples, validate on 4484 samples\n",
      "Epoch 1/30\n",
      " - 372s - loss: 0.4187 - acc: 0.8578 - val_loss: 0.0619 - val_acc: 0.9940\n",
      "Epoch 2/30\n",
      " - 372s - loss: 0.3997 - acc: 0.8645 - val_loss: 0.0788 - val_acc: 0.9935\n",
      "Epoch 3/30\n",
      " - 372s - loss: 0.3867 - acc: 0.8688 - val_loss: 0.0590 - val_acc: 0.9946\n",
      "Epoch 4/30\n",
      " - 371s - loss: 0.3656 - acc: 0.8754 - val_loss: 0.0560 - val_acc: 0.9949\n",
      "Epoch 5/30\n",
      " - 372s - loss: 0.3547 - acc: 0.8787 - val_loss: 0.0469 - val_acc: 0.9940\n",
      "Epoch 6/30\n",
      " - 372s - loss: 0.3422 - acc: 0.8837 - val_loss: 0.0619 - val_acc: 0.9931\n",
      "Epoch 7/30\n",
      " - 372s - loss: 0.3066 - acc: 0.8952 - val_loss: 0.0681 - val_acc: 0.9931\n",
      "Epoch 10/30\n",
      " - 371s - loss: 0.3041 - acc: 0.8963 - val_loss: 0.0631 - val_acc: 0.9933\n",
      "Epoch 11/30\n",
      " - 372s - loss: 0.2887 - acc: 0.9018 - val_loss: 0.0616 - val_acc: 0.9938\n",
      "Epoch 12/30\n",
      " - 372s - loss: 0.2783 - acc: 0.9056 - val_loss: 0.0635 - val_acc: 0.9946\n",
      "Epoch 13/30\n",
      " - 372s - loss: 0.2817 - acc: 0.9047 - val_loss: 0.0533 - val_acc: 0.9951\n",
      "Epoch 14/30\n",
      " - 372s - loss: 0.2607 - acc: 0.9112 - val_loss: 0.0563 - val_acc: 0.9949\n",
      "Epoch 15/30\n",
      " - 372s - loss: 0.2604 - acc: 0.9119 - val_loss: 0.0662 - val_acc: 0.9933\n",
      "Epoch 16/30\n",
      " - 372s - loss: 0.2552 - acc: 0.9130 - val_loss: 0.0712 - val_acc: 0.9938\n",
      "Epoch 17/30\n",
      " - 372s - loss: 0.2453 - acc: 0.9165 - val_loss: 0.0669 - val_acc: 0.9940\n",
      "Epoch 18/30\n",
      " - 372s - loss: 0.2320 - acc: 0.9210 - val_loss: 0.0734 - val_acc: 0.9938\n",
      "Epoch 19/30\n",
      " - 372s - loss: 0.2313 - acc: 0.9219 - val_loss: 0.0751 - val_acc: 0.9931\n",
      "Epoch 20/30\n",
      " - 372s - loss: 0.2275 - acc: 0.9236 - val_loss: 0.0667 - val_acc: 0.9933\n",
      "Epoch 21/30\n",
      " - 372s - loss: 0.2202 - acc: 0.9252 - val_loss: 0.0568 - val_acc: 0.9951\n",
      "Epoch 22/30\n",
      " - 372s - loss: 0.2200 - acc: 0.9262 - val_loss: 0.0669 - val_acc: 0.9942\n",
      "Epoch 23/30\n",
      " - 372s - loss: 0.2137 - acc: 0.9271 - val_loss: 0.0511 - val_acc: 0.9951\n",
      "Epoch 24/30\n",
      " - 372s - loss: 0.2102 - acc: 0.9290 - val_loss: 0.0543 - val_acc: 0.9946\n",
      "Epoch 25/30\n",
      " - 372s - loss: 0.2025 - acc: 0.9313 - val_loss: 0.0567 - val_acc: 0.9938\n",
      "Epoch 26/30\n",
      " - 372s - loss: 0.2022 - acc: 0.9316 - val_loss: 0.0701 - val_acc: 0.9938\n",
      "Epoch 27/30\n",
      " - 372s - loss: 0.1955 - acc: 0.9346 - val_loss: 0.0587 - val_acc: 0.9940\n",
      "Epoch 28/30\n",
      " - 372s - loss: 0.1922 - acc: 0.9348 - val_loss: 0.0366 - val_acc: 0.9955\n",
      "Epoch 29/30\n",
      " - 372s - loss: 0.1872 - acc: 0.9374 - val_loss: 0.0593 - val_acc: 0.9944\n",
      "Epoch 30/30\n",
      " - 372s - loss: 0.1871 - acc: 0.9374 - val_loss: 0.0601 - val_acc: 0.9951\n"
     ]
    },
    {
     "data": {
      "text/plain": [
       "<keras.callbacks.History at 0x7f4067166518>"
      ]
     },
     "execution_count": 27,
     "metadata": {},
     "output_type": "execute_result"
    }
   ],
   "source": [
    "fc_model.fit(conv_aug_features, aug_trn_labels, batch_size=batch_size, epochs=30, \n",
    "             validation_data= (conv_val_features, val_labels), verbose=2)"
   ]
  },
  {
   "cell_type": "code",
   "execution_count": null,
   "metadata": {
    "collapsed": true
   },
   "outputs": [],
   "source": [
    "fc_model.lr = 0.01"
   ]
  },
  {
   "cell_type": "code",
   "execution_count": null,
   "metadata": {},
   "outputs": [
    {
     "name": "stdout",
     "output_type": "stream",
     "text": [
      "Train on 107640 samples, validate on 4484 samples\n",
      "Epoch 1/30\n",
      " - 372s - loss: 0.1806 - acc: 0.9390 - val_loss: 0.0599 - val_acc: 0.9935\n",
      "Epoch 2/30\n",
      " - 372s - loss: 0.1767 - acc: 0.9402 - val_loss: 0.0586 - val_acc: 0.9938\n",
      "Epoch 3/30\n",
      " - 372s - loss: 0.1761 - acc: 0.9407 - val_loss: 0.0440 - val_acc: 0.9955\n",
      "Epoch 4/30\n",
      " - 372s - loss: 0.1694 - acc: 0.9428 - val_loss: 0.0651 - val_acc: 0.9940\n",
      "Epoch 5/30\n",
      " - 372s - loss: 0.1672 - acc: 0.9432 - val_loss: 0.0556 - val_acc: 0.9944\n",
      "Epoch 6/30\n",
      " - 372s - loss: 0.1681 - acc: 0.9429 - val_loss: 0.0531 - val_acc: 0.9946\n",
      "Epoch 7/30\n",
      " - 372s - loss: 0.1649 - acc: 0.9445 - val_loss: 0.0451 - val_acc: 0.9949\n",
      "Epoch 8/30\n",
      " - 372s - loss: 0.1537 - acc: 0.9481 - val_loss: 0.0485 - val_acc: 0.9953\n",
      "Epoch 9/30\n",
      " - 372s - loss: 0.1568 - acc: 0.9471 - val_loss: 0.0702 - val_acc: 0.9940\n",
      "Epoch 10/30\n",
      " - 372s - loss: 0.1579 - acc: 0.9465 - val_loss: 0.0979 - val_acc: 0.9924\n",
      "Epoch 11/30\n",
      " - 372s - loss: 0.1526 - acc: 0.9484 - val_loss: 0.0577 - val_acc: 0.9933\n",
      "Epoch 12/30\n",
      " - 372s - loss: 0.1508 - acc: 0.9498 - val_loss: 0.0473 - val_acc: 0.9953\n",
      "Epoch 13/30\n",
      " - 372s - loss: 0.1517 - acc: 0.9487 - val_loss: 0.0506 - val_acc: 0.9955\n",
      "Epoch 14/30\n",
      " - 372s - loss: 0.1476 - acc: 0.9493 - val_loss: 0.0838 - val_acc: 0.9931\n",
      "Epoch 15/30\n",
      " - 372s - loss: 0.1405 - acc: 0.9529 - val_loss: 0.0507 - val_acc: 0.9960\n",
      "Epoch 16/30\n",
      " - 372s - loss: 0.1446 - acc: 0.9514 - val_loss: 0.0487 - val_acc: 0.9949\n",
      "Epoch 17/30\n",
      " - 372s - loss: 0.1411 - acc: 0.9527 - val_loss: 0.0885 - val_acc: 0.9935\n",
      "Epoch 18/30\n",
      " - 372s - loss: 0.1429 - acc: 0.9524 - val_loss: 0.0601 - val_acc: 0.9953\n",
      "Epoch 19/30\n",
      " - 372s - loss: 0.1340 - acc: 0.9556 - val_loss: 0.0549 - val_acc: 0.9946\n",
      "Epoch 20/30\n",
      " - 372s - loss: 0.1370 - acc: 0.9536 - val_loss: 0.0778 - val_acc: 0.9933\n",
      "Epoch 21/30\n",
      " - 372s - loss: 0.1370 - acc: 0.9539 - val_loss: 0.0838 - val_acc: 0.9929\n",
      "Epoch 22/30\n",
      " - 372s - loss: 0.1305 - acc: 0.9558 - val_loss: 0.0482 - val_acc: 0.9951\n",
      "Epoch 23/30\n",
      " - 372s - loss: 0.1331 - acc: 0.9550 - val_loss: 0.0575 - val_acc: 0.9944\n",
      "Epoch 24/30\n",
      " - 372s - loss: 0.1274 - acc: 0.9567 - val_loss: 0.0647 - val_acc: 0.9944\n",
      "Epoch 25/30\n",
      " - 372s - loss: 0.1286 - acc: 0.9567 - val_loss: 0.0744 - val_acc: 0.9933\n",
      "Epoch 26/30\n",
      " - 372s - loss: 0.1294 - acc: 0.9569 - val_loss: 0.0638 - val_acc: 0.9942\n",
      "Epoch 27/30\n",
      " - 372s - loss: 0.1255 - acc: 0.9581 - val_loss: 0.0731 - val_acc: 0.9940\n",
      "Epoch 28/30\n",
      " - 372s - loss: 0.1220 - acc: 0.9586 - val_loss: 0.0731 - val_acc: 0.9940\n",
      "Epoch 29/30\n",
      " - 372s - loss: 0.1179 - acc: 0.9605 - val_loss: 0.0477 - val_acc: 0.9955\n",
      "Epoch 30/30\n",
      " - 372s - loss: 0.1181 - acc: 0.9607 - val_loss: 0.0490 - val_acc: 0.9955\n"
     ]
    },
    {
     "data": {
      "text/plain": [
       "<keras.callbacks.History at 0x7f406709f9b0>"
      ]
     },
     "execution_count": 29,
     "metadata": {},
     "output_type": "execute_result"
    }
   ],
   "source": [
    "fc_model.fit(conv_aug_features, aug_trn_labels, batch_size=batch_size, epochs=30, \n",
    "             validation_data= (conv_val_features, val_labels), verbose=2)"
   ]
  },
  {
   "cell_type": "code",
   "execution_count": null,
   "metadata": {
    "collapsed": true
   },
   "outputs": [],
   "source": [
    "fc_model.lr = 0.001"
   ]
  },
  {
   "cell_type": "code",
   "execution_count": null,
   "metadata": {},
   "outputs": [
    {
     "name": "stdout",
     "output_type": "stream",
     "text": [
      "Train on 107640 samples, validate on 4484 samples\n",
      "Epoch 1/50\n",
      " - 372s - loss: 0.1209 - acc: 0.9598 - val_loss: 0.0698 - val_acc: 0.9940\n",
      "Epoch 2/50\n",
      " - 372s - loss: 0.1147 - acc: 0.9619 - val_loss: 0.0515 - val_acc: 0.9958\n",
      "Epoch 3/50\n",
      " - 372s - loss: 0.1146 - acc: 0.9609 - val_loss: 0.0617 - val_acc: 0.9942\n",
      "Epoch 4/50\n",
      " - 372s - loss: 0.1138 - acc: 0.9626 - val_loss: 0.0472 - val_acc: 0.9960\n",
      "Epoch 5/50\n",
      " - 372s - loss: 0.1142 - acc: 0.9618 - val_loss: 0.0531 - val_acc: 0.9951\n",
      "Epoch 6/50\n",
      " - 372s - loss: 0.1096 - acc: 0.9628 - val_loss: 0.0633 - val_acc: 0.9944\n",
      "Epoch 7/50\n",
      " - 372s - loss: 0.1103 - acc: 0.9641 - val_loss: 0.0587 - val_acc: 0.9949\n",
      "Epoch 8/50\n",
      " - 372s - loss: 0.1082 - acc: 0.9634 - val_loss: 0.0527 - val_acc: 0.9958\n",
      "Epoch 9/50\n",
      " - 372s - loss: 0.1054 - acc: 0.9647 - val_loss: 0.0544 - val_acc: 0.9953\n",
      "Epoch 10/50\n",
      " - 372s - loss: 0.1096 - acc: 0.9627 - val_loss: 0.0502 - val_acc: 0.9946\n",
      "Epoch 11/50\n",
      " - 372s - loss: 0.1055 - acc: 0.9647 - val_loss: 0.0703 - val_acc: 0.9949\n",
      "Epoch 12/50\n",
      " - 372s - loss: 0.1038 - acc: 0.9657 - val_loss: 0.0424 - val_acc: 0.9960\n",
      "Epoch 13/50\n",
      " - 372s - loss: 0.1060 - acc: 0.9642 - val_loss: 0.0537 - val_acc: 0.9953\n",
      "Epoch 14/50\n",
      " - 372s - loss: 0.1028 - acc: 0.9648 - val_loss: 0.0703 - val_acc: 0.9942\n",
      "Epoch 15/50\n",
      " - 372s - loss: 0.1000 - acc: 0.9662 - val_loss: 0.0619 - val_acc: 0.9942\n",
      "Epoch 16/50\n",
      " - 372s - loss: 0.1025 - acc: 0.9653 - val_loss: 0.1050 - val_acc: 0.9920\n",
      "Epoch 17/50\n",
      " - 372s - loss: 0.0991 - acc: 0.9670 - val_loss: 0.0628 - val_acc: 0.9946\n",
      "Epoch 18/50\n",
      " - 372s - loss: 0.0981 - acc: 0.9670 - val_loss: 0.0732 - val_acc: 0.9942\n",
      "Epoch 19/50\n",
      " - 372s - loss: 0.1026 - acc: 0.9662 - val_loss: 0.0492 - val_acc: 0.9951\n",
      "Epoch 20/50\n",
      " - 372s - loss: 0.0965 - acc: 0.9679 - val_loss: 0.0571 - val_acc: 0.9951\n",
      "Epoch 21/50\n",
      " - 372s - loss: 0.0947 - acc: 0.9686 - val_loss: 0.0498 - val_acc: 0.9949\n",
      "Epoch 22/50\n",
      " - 372s - loss: 0.0976 - acc: 0.9673 - val_loss: 0.0633 - val_acc: 0.9953\n",
      "Epoch 23/50\n",
      " - 372s - loss: 0.0953 - acc: 0.9682 - val_loss: 0.0846 - val_acc: 0.9935\n",
      "Epoch 24/50\n",
      " - 372s - loss: 0.0925 - acc: 0.9691 - val_loss: 0.0631 - val_acc: 0.9946\n",
      "Epoch 25/50\n",
      " - 372s - loss: 0.0933 - acc: 0.9685 - val_loss: 0.0793 - val_acc: 0.9938\n",
      "Epoch 26/50\n",
      " - 372s - loss: 0.0925 - acc: 0.9686 - val_loss: 0.0719 - val_acc: 0.9946\n",
      "Epoch 27/50\n",
      " - 372s - loss: 0.0924 - acc: 0.9694 - val_loss: 0.0455 - val_acc: 0.9958\n",
      "Epoch 28/50\n",
      " - 372s - loss: 0.0917 - acc: 0.9694 - val_loss: 0.0576 - val_acc: 0.9951\n",
      "Epoch 29/50\n",
      " - 372s - loss: 0.0892 - acc: 0.9703 - val_loss: 0.0640 - val_acc: 0.9938\n",
      "Epoch 30/50\n",
      " - 372s - loss: 0.0917 - acc: 0.9692 - val_loss: 0.0665 - val_acc: 0.9940\n",
      "Epoch 31/50\n",
      " - 372s - loss: 0.0843 - acc: 0.9718 - val_loss: 0.0772 - val_acc: 0.9933\n",
      "Epoch 32/50\n",
      " - 372s - loss: 0.0886 - acc: 0.9706 - val_loss: 0.0598 - val_acc: 0.9946\n",
      "Epoch 33/50\n",
      " - 372s - loss: 0.0913 - acc: 0.9696 - val_loss: 0.0610 - val_acc: 0.9946\n",
      "Epoch 34/50\n",
      " - 372s - loss: 0.0868 - acc: 0.9711 - val_loss: 0.0652 - val_acc: 0.9942\n",
      "Epoch 35/50\n",
      " - 372s - loss: 0.0849 - acc: 0.9720 - val_loss: 0.0661 - val_acc: 0.9946\n",
      "Epoch 36/50\n",
      " - 372s - loss: 0.0849 - acc: 0.9714 - val_loss: 0.0664 - val_acc: 0.9949\n",
      "Epoch 37/50\n",
      " - 372s - loss: 0.0824 - acc: 0.9726 - val_loss: 0.0622 - val_acc: 0.9953\n",
      "Epoch 38/50\n",
      " - 372s - loss: 0.0827 - acc: 0.9723 - val_loss: 0.0550 - val_acc: 0.9955\n",
      "Epoch 39/50\n",
      " - 372s - loss: 0.0848 - acc: 0.9717 - val_loss: 0.0557 - val_acc: 0.9951\n",
      "Epoch 40/50\n",
      " - 372s - loss: 0.0811 - acc: 0.9728 - val_loss: 0.0604 - val_acc: 0.9951\n",
      "Epoch 41/50\n",
      " - 372s - loss: 0.0837 - acc: 0.9724 - val_loss: 0.0759 - val_acc: 0.9931\n",
      "Epoch 42/50\n",
      " - 371s - loss: 0.0823 - acc: 0.9724 - val_loss: 0.0572 - val_acc: 0.9949\n",
      "Epoch 43/50\n",
      " - 372s - loss: 0.0831 - acc: 0.9730 - val_loss: 0.0782 - val_acc: 0.9933\n",
      "Epoch 44/50\n",
      " - 372s - loss: 0.0794 - acc: 0.9741 - val_loss: 0.0607 - val_acc: 0.9953\n",
      "Epoch 45/50\n",
      " - 372s - loss: 0.0782 - acc: 0.9739 - val_loss: 0.0687 - val_acc: 0.9946\n",
      "Epoch 46/50\n",
      " - 372s - loss: 0.0795 - acc: 0.9736 - val_loss: 0.0533 - val_acc: 0.9955\n",
      "Epoch 47/50\n",
      " - 372s - loss: 0.0789 - acc: 0.9735 - val_loss: 0.0521 - val_acc: 0.9960\n",
      "Epoch 48/50\n",
      " - 372s - loss: 0.0784 - acc: 0.9736 - val_loss: 0.0703 - val_acc: 0.9946\n",
      "Epoch 49/50\n",
      " - 372s - loss: 0.0747 - acc: 0.9751 - val_loss: 0.0661 - val_acc: 0.9946\n",
      "Epoch 50/50\n",
      " - 372s - loss: 0.0769 - acc: 0.9750 - val_loss: 0.0654 - val_acc: 0.9946\n"
     ]
    },
    {
     "data": {
      "text/plain": [
       "<keras.callbacks.History at 0x7f40670ac780>"
      ]
     },
     "execution_count": 31,
     "metadata": {},
     "output_type": "execute_result"
    }
   ],
   "source": [
    "fc_model.fit(conv_aug_features, aug_trn_labels, batch_size=batch_size, epochs=50, \n",
    "             validation_data= (conv_val_features, val_labels), verbose=2)"
   ]
  },
  {
   "cell_type": "code",
   "execution_count": 34,
   "metadata": {
    "collapsed": true
   },
   "outputs": [],
   "source": [
    "fc_model.lr = 0.0001"
   ]
  },
  {
   "cell_type": "code",
   "execution_count": 35,
   "metadata": {},
   "outputs": [
    {
     "name": "stdout",
     "output_type": "stream",
     "text": [
      "Train on 107640 samples, validate on 4484 samples\n",
      "Epoch 1/5\n",
      " - 372s - loss: 0.0739 - acc: 0.9753 - val_loss: 0.0671 - val_acc: 0.9944\n",
      "Epoch 2/5\n",
      " - 372s - loss: 0.0754 - acc: 0.9747 - val_loss: 0.0673 - val_acc: 0.9938\n",
      "Epoch 3/5\n",
      " - 373s - loss: 0.0745 - acc: 0.9754 - val_loss: 0.0591 - val_acc: 0.9949\n",
      "Epoch 4/5\n",
      " - 372s - loss: 0.0719 - acc: 0.9760 - val_loss: 0.0654 - val_acc: 0.9946\n",
      "Epoch 5/5\n",
      " - 372s - loss: 0.0735 - acc: 0.9756 - val_loss: 0.0577 - val_acc: 0.9953\n"
     ]
    },
    {
     "data": {
      "text/plain": [
       "<keras.callbacks.History at 0x7f4067312ef0>"
      ]
     },
     "execution_count": 35,
     "metadata": {},
     "output_type": "execute_result"
    }
   ],
   "source": [
    "fc_model.fit(conv_aug_features, aug_trn_labels, batch_size=batch_size, epochs=5, \n",
    "             validation_data= (conv_val_features, val_labels), verbose=2)"
   ]
  },
  {
   "cell_type": "code",
   "execution_count": 36,
   "metadata": {
    "collapsed": true
   },
   "outputs": [],
   "source": [
    "fc_model.lr = 0.001"
   ]
  },
  {
   "cell_type": "code",
   "execution_count": 37,
   "metadata": {},
   "outputs": [
    {
     "name": "stdout",
     "output_type": "stream",
     "text": [
      "Train on 107640 samples, validate on 4484 samples\n",
      "Epoch 1/3\n",
      " - 372s - loss: 0.0723 - acc: 0.9760 - val_loss: 0.0663 - val_acc: 0.9949\n",
      "Epoch 2/3\n",
      " - 372s - loss: 0.0702 - acc: 0.9768 - val_loss: 0.0654 - val_acc: 0.9944\n",
      "Epoch 3/3\n",
      " - 372s - loss: 0.0730 - acc: 0.9758 - val_loss: 0.0631 - val_acc: 0.9946\n"
     ]
    },
    {
     "data": {
      "text/plain": [
       "<keras.callbacks.History at 0x7f4066cb9a20>"
      ]
     },
     "execution_count": 37,
     "metadata": {},
     "output_type": "execute_result"
    }
   ],
   "source": [
    "fc_model.fit(conv_aug_features, aug_trn_labels, batch_size=batch_size, epochs=3, \n",
    "             validation_data= (conv_val_features, val_labels), verbose=2)"
   ]
  },
  {
   "cell_type": "code",
   "execution_count": 38,
   "metadata": {
    "collapsed": true
   },
   "outputs": [],
   "source": [
    "fc_model.lr = 0.01"
   ]
  },
  {
   "cell_type": "code",
   "execution_count": 39,
   "metadata": {},
   "outputs": [
    {
     "name": "stdout",
     "output_type": "stream",
     "text": [
      "Train on 107640 samples, validate on 4484 samples\n",
      "Epoch 1/3\n",
      " - 372s - loss: 0.0710 - acc: 0.9769 - val_loss: 0.0607 - val_acc: 0.9951\n",
      "Epoch 2/3\n",
      " - 372s - loss: 0.0718 - acc: 0.9763 - val_loss: 0.0475 - val_acc: 0.9953\n",
      "Epoch 3/3\n",
      " - 372s - loss: 0.0697 - acc: 0.9768 - val_loss: 0.0597 - val_acc: 0.9953\n"
     ]
    },
    {
     "data": {
      "text/plain": [
       "<keras.callbacks.History at 0x7f4066cb9978>"
      ]
     },
     "execution_count": 39,
     "metadata": {},
     "output_type": "execute_result"
    }
   ],
   "source": [
    "fc_model.fit(conv_aug_features, aug_trn_labels, batch_size=batch_size, epochs=3, \n",
    "             validation_data= (conv_val_features, val_labels), verbose=2)"
   ]
  },
  {
   "cell_type": "code",
   "execution_count": 40,
   "metadata": {
    "collapsed": true
   },
   "outputs": [],
   "source": [
    "model_name = 'Vgg16BN-ted'\n",
    "sub_model_name = 'fc-model'\n",
    "fc_model.save_weights(model_path + model_name + '_' + sub_model_name + '_aug2.h5')"
   ]
  },
  {
   "cell_type": "code",
   "execution_count": 41,
   "metadata": {
    "collapsed": true
   },
   "outputs": [],
   "source": [
    "model_name = 'Vgg16BN-ted'\n",
    "sub_model_name = 'fc-model'\n",
    "fc_model.load_weights(model_path + model_name + '_' + sub_model_name + '_aug2.h5')"
   ]
  },
  {
   "cell_type": "markdown",
   "metadata": {
    "heading_collapsed": true
   },
   "source": [
    "### 2.4 Regularization\n",
    "\n",
    "** Regularization can not be done with only sample, but need to be run on full dataset. It's because Regularization is very correlated with data.** (Running on full dataset, we will need much less regularization than on only sample dataset.)"
   ]
  },
  {
   "cell_type": "markdown",
   "metadata": {
    "heading_collapsed": true
   },
   "source": [
    "### 2.5 Pseudo labeling"
   ]
  },
  {
   "cell_type": "markdown",
   "metadata": {},
   "source": [
    "#### The rule of thumb is ¼ ~ 1/3 of your batches be peudo-labeling. \n",
    "#### Setup: put pseudo labeling on unlabeled test data and add to training set by 1:1"
   ]
  },
  {
   "cell_type": "code",
   "execution_count": null,
   "metadata": {
    "collapsed": true
   },
   "outputs": [],
   "source": [
    "test_pseudo_labels = fc_model.predict(conv_test_feature, batch_size=batch_size)"
   ]
  },
  {
   "cell_type": "code",
   "execution_count": null,
   "metadata": {
    "collapsed": true
   },
   "outputs": [],
   "source": [
    "# concatenate them with our training and val labels\n",
    "comb_pseudo_labels = np.concatenate([aug_trn_labels, test_pseudo_labels])\n",
    "comb_pseudo_features = np.concatenate([conv_aug_features, conv_test_feature])"
   ]
  },
  {
   "cell_type": "markdown",
   "metadata": {},
   "source": [
    "#### Setup Models"
   ]
  },
  {
   "cell_type": "code",
   "execution_count": 73,
   "metadata": {
    "collapsed": true
   },
   "outputs": [],
   "source": [
    "vgg = Vgg16BN(size=(256, 256))\n",
    "model = vgg.model"
   ]
  },
  {
   "cell_type": "code",
   "execution_count": 74,
   "metadata": {
    "collapsed": true
   },
   "outputs": [],
   "source": [
    "batch_size=64"
   ]
  },
  {
   "cell_type": "code",
   "execution_count": 75,
   "metadata": {},
   "outputs": [
    {
     "name": "stdout",
     "output_type": "stream",
     "text": [
      "Found 17940 images belonging to 10 classes.\n"
     ]
    }
   ],
   "source": [
    "#Finetune the model\n",
    "vgg.finetune(vgg.get_batches(train_path, shuffle=False, batch_size=batch_size))"
   ]
  },
  {
   "cell_type": "code",
   "execution_count": 83,
   "metadata": {
    "collapsed": true
   },
   "outputs": [],
   "source": [
    "_, fc_model = get_split_models(model)"
   ]
  },
  {
   "cell_type": "markdown",
   "metadata": {},
   "source": [
    "#### Model Tuning: FC model"
   ]
  },
  {
   "cell_type": "code",
   "execution_count": null,
   "metadata": {
    "collapsed": true
   },
   "outputs": [],
   "source": [
    "fc_model.fit(comb_pseudo_features, comb_pseudo_labels, batch_size=batch_size, epochs=2, \n",
    "             validation_data= (conv_val_features, val_labels), verbose=2)"
   ]
  }
 ],
 "metadata": {
  "kernelspec": {
   "display_name": "Python 3",
   "language": "python",
   "name": "python3"
  },
  "language_info": {
   "codemirror_mode": {
    "name": "ipython",
    "version": 3
   },
   "file_extension": ".py",
   "mimetype": "text/x-python",
   "name": "python",
   "nbconvert_exporter": "python",
   "pygments_lexer": "ipython3",
   "version": "3.6.3"
  }
 },
 "nbformat": 4,
 "nbformat_minor": 2
}
